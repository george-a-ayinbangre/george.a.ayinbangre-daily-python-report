<!DOCTYPE html>
<html lang="en-us"><head>
<meta http-equiv="content-type" content="text/html; charset=UTF-8">
    <meta charset="utf-8">

    <title>PyPro-SCiDaS-lec_05_flow_control_and_loops - Jupyter Notebook</title>
    
    <meta http-equiv="X-UA-Compatible" content="IE=edge">
    <link rel="stylesheet" href="george.a.ayinbangre-day04-report_files/jquery-ui.min.css" type="text/css">
    <link rel="stylesheet" href="george.a.ayinbangre-day04-report_files/jquery.typeahead.min.css" type="text/css">
    <meta name="viewport" content="width=device-width, initial-scale=1.0">
    
    


<script type="text/javascript" src="george.a.ayinbangre-day04-report_files/MathJax.js" charset="utf-8"></script>

<script type="text/javascript">
// MathJax disabled, set as null to distinguish from *missing* MathJax,
// where it will be undefined, and should prompt a dialog later.
window.mathjax_url = "/static/components/MathJax/MathJax.js";
</script>

<link rel="stylesheet" href="george.a.ayinbangre-day04-report_files/bootstrap-tour.min.css" type="text/css">
<link rel="stylesheet" href="george.a.ayinbangre-day04-report_files/codemirror.css">


    <link rel="stylesheet" href="george.a.ayinbangre-day04-report_files/style.min.css" type="text/css">
    

<link rel="stylesheet" href="george.a.ayinbangre-day04-report_files/override.css" type="text/css">
<link rel="stylesheet" href="" id="kernel-css" type="text/css">


    <link rel="stylesheet" href="george.a.ayinbangre-day04-report_files/custom.css" type="text/css">
    <script src="george.a.ayinbangre-day04-report_files/promise.min.js" type="text/javascript" charset="utf-8"></script>
    <script src="george.a.ayinbangre-day04-report_files/react.production.min.js" type="text/javascript"></script>
    <script src="george.a.ayinbangre-day04-report_files/react-dom.production.min.js" type="text/javascript"></script>
    <script src="george.a.ayinbangre-day04-report_files/index.js" type="text/javascript"></script>
    <script src="george.a.ayinbangre-day04-report_files/require.js" type="text/javascript" charset="utf-8"></script>
    <script>
      require.config({
          
          urlArgs: "v=20251025090630",
          
          baseUrl: '/static/',
          paths: {
            'auth/js/main': 'auth/js/main.min',
            custom : '/custom',
            nbextensions : '/nbextensions',
            kernelspecs : '/kernelspecs',
            underscore : 'components/underscore/underscore-min',
            backbone : 'components/backbone/backbone-min',
            jed: 'components/jed/jed',
            jquery: 'components/jquery/jquery.min',
            json: 'components/requirejs-plugins/src/json',
            text: 'components/requirejs-text/text',
            bootstrap: 'components/bootstrap/dist/js/bootstrap.min',
            bootstraptour: 'components/bootstrap-tour/build/js/bootstrap-tour.min',
            'jquery-ui': 'components/jquery-ui/jquery-ui.min',
            moment: 'components/moment/min/moment-with-locales',
            codemirror: 'components/codemirror',
            termjs: 'components/xterm.js/xterm',
            typeahead: 'components/jquery-typeahead/dist/jquery.typeahead.min',
          },
          map: { // for backward compatibility
              "*": {
                  "jqueryui": "jquery-ui",
              }
          },
          shim: {
            typeahead: {
              deps: ["jquery"],
              exports: "typeahead"
            },
            underscore: {
              exports: '_'
            },
            backbone: {
              deps: ["underscore", "jquery"],
              exports: "Backbone"
            },
            bootstrap: {
              deps: ["jquery"],
              exports: "bootstrap"
            },
            bootstraptour: {
              deps: ["bootstrap"],
              exports: "Tour"
            },
            "jquery-ui": {
              deps: ["jquery"],
            }
          },
          waitSeconds: 30,
      });

      require.config({
          map: {
              '*':{
                'contents': 'services/contents',
              }
          }
      });

      // error-catching custom.js shim.
      define("custom", function (require, exports, module) {
          try {
              var custom = require('custom/custom');
              console.debug('loaded custom.js');
              return custom;
          } catch (e) {
              console.error("error loading custom.js", e);
              return {};
          }
      })

    document.nbjs_translations = {"domain": "nbjs", "locale_data": {"nbjs": {"": {"domain": "nbjs"}}}};
    document.documentElement.lang = navigator.language.toLowerCase();
    </script>

    
    

<script type="text/javascript" charset="utf-8" async="" data-requirecontext="_" data-requiremodule="services/contents" src="george.a.ayinbangre-day04-report_files/contents.js"></script><style type="text/css">.MathJax_Hover_Frame {border-radius: .25em; -webkit-border-radius: .25em; -moz-border-radius: .25em; -khtml-border-radius: .25em; box-shadow: 0px 0px 15px #83A; -webkit-box-shadow: 0px 0px 15px #83A; -moz-box-shadow: 0px 0px 15px #83A; -khtml-box-shadow: 0px 0px 15px #83A; border: 1px solid #A6D ! important; display: inline-block; position: absolute}
.MathJax_Menu_Button .MathJax_Hover_Arrow {position: absolute; cursor: pointer; display: inline-block; border: 2px solid #AAA; border-radius: 4px; -webkit-border-radius: 4px; -moz-border-radius: 4px; -khtml-border-radius: 4px; font-family: 'Courier New',Courier; font-size: 9px; color: #F0F0F0}
.MathJax_Menu_Button .MathJax_Hover_Arrow span {display: block; background-color: #AAA; border: 1px solid; border-radius: 3px; line-height: 0; padding: 4px}
.MathJax_Hover_Arrow:hover {color: white!important; border: 2px solid #CCC!important}
.MathJax_Hover_Arrow:hover span {background-color: #CCC!important}
</style><style type="text/css">#MathJax_About {position: fixed; left: 50%; width: auto; text-align: center; border: 3px outset; padding: 1em 2em; background-color: #DDDDDD; color: black; cursor: default; font-family: message-box; font-size: 120%; font-style: normal; text-indent: 0; text-transform: none; line-height: normal; letter-spacing: normal; word-spacing: normal; word-wrap: normal; white-space: nowrap; float: none; z-index: 201; border-radius: 15px; -webkit-border-radius: 15px; -moz-border-radius: 15px; -khtml-border-radius: 15px; box-shadow: 0px 10px 20px #808080; -webkit-box-shadow: 0px 10px 20px #808080; -moz-box-shadow: 0px 10px 20px #808080; -khtml-box-shadow: 0px 10px 20px #808080; filter: progid:DXImageTransform.Microsoft.dropshadow(OffX=2, OffY=2, Color='gray', Positive='true')}
#MathJax_About.MathJax_MousePost {outline: none}
.MathJax_Menu {position: absolute; background-color: white; color: black; width: auto; padding: 5px 0px; border: 1px solid #CCCCCC; margin: 0; cursor: default; font: menu; text-align: left; text-indent: 0; text-transform: none; line-height: normal; letter-spacing: normal; word-spacing: normal; word-wrap: normal; white-space: nowrap; float: none; z-index: 201; border-radius: 5px; -webkit-border-radius: 5px; -moz-border-radius: 5px; -khtml-border-radius: 5px; box-shadow: 0px 10px 20px #808080; -webkit-box-shadow: 0px 10px 20px #808080; -moz-box-shadow: 0px 10px 20px #808080; -khtml-box-shadow: 0px 10px 20px #808080; filter: progid:DXImageTransform.Microsoft.dropshadow(OffX=2, OffY=2, Color='gray', Positive='true')}
.MathJax_MenuItem {padding: 1px 2em; background: transparent}
.MathJax_MenuArrow {position: absolute; right: .5em; padding-top: .25em; color: #666666; font-size: .75em}
.MathJax_MenuActive .MathJax_MenuArrow {color: white}
.MathJax_MenuArrow.RTL {left: .5em; right: auto}
.MathJax_MenuCheck {position: absolute; left: .7em}
.MathJax_MenuCheck.RTL {right: .7em; left: auto}
.MathJax_MenuRadioCheck {position: absolute; left: .7em}
.MathJax_MenuRadioCheck.RTL {right: .7em; left: auto}
.MathJax_MenuLabel {padding: 1px 2em 3px 1.33em; font-style: italic}
.MathJax_MenuRule {border-top: 1px solid #DDDDDD; margin: 4px 3px}
.MathJax_MenuDisabled {color: GrayText}
.MathJax_MenuActive {background-color: #606872; color: white}
.MathJax_MenuDisabled:focus, .MathJax_MenuLabel:focus {background-color: #E8E8E8}
.MathJax_ContextMenu:focus {outline: none}
.MathJax_ContextMenu .MathJax_MenuItem:focus {outline: none}
#MathJax_AboutClose {top: .2em; right: .2em}
.MathJax_Menu .MathJax_MenuClose {top: -10px; left: -10px}
.MathJax_MenuClose {position: absolute; cursor: pointer; display: inline-block; border: 2px solid #AAA; border-radius: 18px; -webkit-border-radius: 18px; -moz-border-radius: 18px; -khtml-border-radius: 18px; font-family: 'Courier New',Courier; font-size: 24px; color: #F0F0F0}
.MathJax_MenuClose span {display: block; background-color: #AAA; border: 1.5px solid; border-radius: 18px; -webkit-border-radius: 18px; -moz-border-radius: 18px; -khtml-border-radius: 18px; line-height: 0; padding: 8px 0 6px}
.MathJax_MenuClose:hover {color: white!important; border: 2px solid #CCC!important}
.MathJax_MenuClose:hover span {background-color: #CCC!important}
.MathJax_MenuClose:hover:focus {outline: none}
</style><style type="text/css">.MathJax_Preview .MJXf-math {color: inherit!important}
</style><style type="text/css">.MJX_Assistive_MathML {position: absolute!important; top: 0; left: 0; clip: rect(1px, 1px, 1px, 1px); padding: 1px 0 0 0!important; border: 0!important; height: 1px!important; width: 1px!important; overflow: hidden!important; display: block!important; -webkit-touch-callout: none; -webkit-user-select: none; -khtml-user-select: none; -moz-user-select: none; -ms-user-select: none; user-select: none}
.MJX_Assistive_MathML.MJX_Assistive_MathML_Block {width: 100%!important}
</style><style type="text/css">#MathJax_Zoom {position: absolute; background-color: #F0F0F0; overflow: auto; display: block; z-index: 301; padding: .5em; border: 1px solid black; margin: 0; font-weight: normal; font-style: normal; text-align: left; text-indent: 0; text-transform: none; line-height: normal; letter-spacing: normal; word-spacing: normal; word-wrap: normal; white-space: nowrap; float: none; -webkit-box-sizing: content-box; -moz-box-sizing: content-box; box-sizing: content-box; box-shadow: 5px 5px 15px #AAAAAA; -webkit-box-shadow: 5px 5px 15px #AAAAAA; -moz-box-shadow: 5px 5px 15px #AAAAAA; -khtml-box-shadow: 5px 5px 15px #AAAAAA; filter: progid:DXImageTransform.Microsoft.dropshadow(OffX=2, OffY=2, Color='gray', Positive='true')}
#MathJax_ZoomOverlay {position: absolute; left: 0; top: 0; z-index: 300; display: inline-block; width: 100%; height: 100%; border: 0; padding: 0; margin: 0; background-color: white; opacity: 0; filter: alpha(opacity=0)}
#MathJax_ZoomFrame {position: relative; display: inline-block; height: 0; width: 0}
#MathJax_ZoomEventTrap {position: absolute; left: 0; top: 0; z-index: 302; display: inline-block; border: 0; padding: 0; margin: 0; background-color: white; opacity: 0; filter: alpha(opacity=0)}
</style><style type="text/css">.MathJax_Preview {color: #888; display: contents}
#MathJax_Message {position: fixed; left: 1px; bottom: 2px; background-color: #E6E6E6; border: 1px solid #959595; margin: 0px; padding: 2px 8px; z-index: 102; color: black; font-size: 80%; width: auto; white-space: nowrap}
#MathJax_MSIE_Frame {position: absolute; top: 0; left: 0; width: 0px; z-index: 101; border: 0px; margin: 0px; padding: 0px}
.MathJax_Error {color: #CC0000; font-style: italic}
</style><script type="text/javascript" charset="utf-8" async="" data-requirecontext="_" data-requiremodule="custom/custom" src="george.a.ayinbangre-day04-report_files/custom.js"></script><style type="text/css">div.MathJax_MathML {text-align: center; margin: .75em 0px; display: block!important}
.MathJax_MathML {font-style: normal; font-weight: normal; line-height: normal; font-size: 100%; font-size-adjust: none; text-indent: 0; text-align: left; text-transform: none; letter-spacing: normal; word-spacing: normal; word-wrap: normal; white-space: nowrap; float: none; direction: ltr; max-width: none; max-height: none; min-width: 0; min-height: 0; border: 0; padding: 0; margin: 0}
span.MathJax_MathML {display: inline!important}
.MathJax_mmlExBox {display: block!important; overflow: hidden; height: 1px; width: 60ex; min-height: 0; max-height: none; padding: 0; border: 0; margin: 0}
[class="MJX-tex-oldstyle"] {font-family: MathJax_Caligraphic, MathJax_Caligraphic-WEB}
[class="MJX-tex-oldstyle-bold"] {font-family: MathJax_Caligraphic, MathJax_Caligraphic-WEB; font-weight: bold}
[class="MJX-tex-caligraphic"] {font-family: MathJax_Caligraphic, MathJax_Caligraphic-WEB}
[class="MJX-tex-caligraphic-bold"] {font-family: MathJax_Caligraphic, MathJax_Caligraphic-WEB; font-weight: bold}
@font-face /*1*/ {font-family: MathJax_Caligraphic-WEB; src: url('http://localhost:8889/static/components/MathJax/fonts/HTML-CSS/TeX/otf/MathJax_Caligraphic-Regular.otf')}
@font-face /*2*/ {font-family: MathJax_Caligraphic-WEB; font-weight: bold; src: url('http://localhost:8889/static/components/MathJax/fonts/HTML-CSS/TeX/otf/MathJax_Caligraphic-Bold.otf')}
[mathvariant="double-struck"] {font-family: MathJax_AMS, MathJax_AMS-WEB}
[mathvariant="script"] {font-family: MathJax_Script, MathJax_Script-WEB}
[mathvariant="fraktur"] {font-family: MathJax_Fraktur, MathJax_Fraktur-WEB}
[mathvariant="bold-script"] {font-family: MathJax_Script, MathJax_Caligraphic-WEB; font-weight: bold}
[mathvariant="bold-fraktur"] {font-family: MathJax_Fraktur, MathJax_Fraktur-WEB; font-weight: bold}
[mathvariant="monospace"] {font-family: monospace}
[mathvariant="sans-serif"] {font-family: sans-serif}
[mathvariant="bold-sans-serif"] {font-family: sans-serif; font-weight: bold}
[mathvariant="sans-serif-italic"] {font-family: sans-serif; font-style: italic}
[mathvariant="sans-serif-bold-italic"] {font-family: sans-serif; font-style: italic; font-weight: bold}
@font-face /*3*/ {font-family: MathJax_AMS-WEB; src: url('http://localhost:8889/static/components/MathJax/fonts/HTML-CSS/TeX/otf/MathJax_AMS-Regular.otf')}
@font-face /*4*/ {font-family: MathJax_Script-WEB; src: url('http://localhost:8889/static/components/MathJax/fonts/HTML-CSS/TeX/otf/MathJax_Script-Regular.otf')}
@font-face /*5*/ {font-family: MathJax_Fraktur-WEB; src: url('http://localhost:8889/static/components/MathJax/fonts/HTML-CSS/TeX/otf/MathJax_Fraktur-Regular.otf')}
@font-face /*6*/ {font-family: MathJax_Fraktur-WEB; font-weight: bold; src: url('http://localhost:8889/static/components/MathJax/fonts/HTML-CSS/TeX/otf/MathJax_Fraktur-Bold.otf')}
</style><style type="text/css">.MJXp-script {font-size: .8em}
.MJXp-right {-webkit-transform-origin: right; -moz-transform-origin: right; -ms-transform-origin: right; -o-transform-origin: right; transform-origin: right}
.MJXp-bold {font-weight: bold}
.MJXp-italic {font-style: italic}
.MJXp-scr {font-family: MathJax_Script,'Times New Roman',Times,STIXGeneral,serif}
.MJXp-frak {font-family: MathJax_Fraktur,'Times New Roman',Times,STIXGeneral,serif}
.MJXp-sf {font-family: MathJax_SansSerif,'Times New Roman',Times,STIXGeneral,serif}
.MJXp-cal {font-family: MathJax_Caligraphic,'Times New Roman',Times,STIXGeneral,serif}
.MJXp-mono {font-family: MathJax_Typewriter,'Times New Roman',Times,STIXGeneral,serif}
.MJXp-largeop {font-size: 150%}
.MJXp-largeop.MJXp-int {vertical-align: -.2em}
.MJXp-math {display: inline-block; line-height: 1.2; text-indent: 0; font-family: 'Times New Roman',Times,STIXGeneral,serif; white-space: nowrap; border-collapse: collapse}
.MJXp-display {display: block; text-align: center; margin: 1em 0}
.MJXp-math span {display: inline-block}
.MJXp-box {display: block!important; text-align: center}
.MJXp-box:after {content: " "}
.MJXp-rule {display: block!important; margin-top: .1em}
.MJXp-char {display: block!important}
.MJXp-mo {margin: 0 .15em}
.MJXp-mfrac {margin: 0 .125em; vertical-align: .25em}
.MJXp-denom {display: inline-table!important; width: 100%}
.MJXp-denom > * {display: table-row!important}
.MJXp-surd {vertical-align: top}
.MJXp-surd > * {display: block!important}
.MJXp-script-box > *  {display: table!important; height: 50%}
.MJXp-script-box > * > * {display: table-cell!important; vertical-align: top}
.MJXp-script-box > *:last-child > * {vertical-align: bottom}
.MJXp-script-box > * > * > * {display: block!important}
.MJXp-mphantom {visibility: hidden}
.MJXp-munderover, .MJXp-munder {display: inline-table!important}
.MJXp-over {display: inline-block!important; text-align: center}
.MJXp-over > * {display: block!important}
.MJXp-munderover > *, .MJXp-munder > * {display: table-row!important}
.MJXp-mtable {vertical-align: .25em; margin: 0 .125em}
.MJXp-mtable > * {display: inline-table!important; vertical-align: middle}
.MJXp-mtr {display: table-row!important}
.MJXp-mtd {display: table-cell!important; text-align: center; padding: .5em 0 0 .5em}
.MJXp-mtr > .MJXp-mtd:first-child {padding-left: 0}
.MJXp-mtr:first-child > .MJXp-mtd {padding-top: 0}
.MJXp-mlabeledtr {display: table-row!important}
.MJXp-mlabeledtr > .MJXp-mtd:first-child {padding-left: 0}
.MJXp-mlabeledtr:first-child > .MJXp-mtd {padding-top: 0}
.MJXp-merror {background-color: #FFFF88; color: #CC0000; border: 1px solid #CC0000; padding: 1px 3px; font-style: normal; font-size: 90%}
.MJXp-scale0 {-webkit-transform: scaleX(.0); -moz-transform: scaleX(.0); -ms-transform: scaleX(.0); -o-transform: scaleX(.0); transform: scaleX(.0)}
.MJXp-scale1 {-webkit-transform: scaleX(.1); -moz-transform: scaleX(.1); -ms-transform: scaleX(.1); -o-transform: scaleX(.1); transform: scaleX(.1)}
.MJXp-scale2 {-webkit-transform: scaleX(.2); -moz-transform: scaleX(.2); -ms-transform: scaleX(.2); -o-transform: scaleX(.2); transform: scaleX(.2)}
.MJXp-scale3 {-webkit-transform: scaleX(.3); -moz-transform: scaleX(.3); -ms-transform: scaleX(.3); -o-transform: scaleX(.3); transform: scaleX(.3)}
.MJXp-scale4 {-webkit-transform: scaleX(.4); -moz-transform: scaleX(.4); -ms-transform: scaleX(.4); -o-transform: scaleX(.4); transform: scaleX(.4)}
.MJXp-scale5 {-webkit-transform: scaleX(.5); -moz-transform: scaleX(.5); -ms-transform: scaleX(.5); -o-transform: scaleX(.5); transform: scaleX(.5)}
.MJXp-scale6 {-webkit-transform: scaleX(.6); -moz-transform: scaleX(.6); -ms-transform: scaleX(.6); -o-transform: scaleX(.6); transform: scaleX(.6)}
.MJXp-scale7 {-webkit-transform: scaleX(.7); -moz-transform: scaleX(.7); -ms-transform: scaleX(.7); -o-transform: scaleX(.7); transform: scaleX(.7)}
.MJXp-scale8 {-webkit-transform: scaleX(.8); -moz-transform: scaleX(.8); -ms-transform: scaleX(.8); -o-transform: scaleX(.8); transform: scaleX(.8)}
.MJXp-scale9 {-webkit-transform: scaleX(.9); -moz-transform: scaleX(.9); -ms-transform: scaleX(.9); -o-transform: scaleX(.9); transform: scaleX(.9)}
.MathJax_PHTML .noError {vertical-align: ; font-size: 90%; text-align: left; color: black; padding: 1px 3px; border: 1px solid}
</style><script type="text/javascript" charset="utf-8" async="" data-requirecontext="_" data-requiremodule="nbextensions/jupyter-js-widgets/extension" src="george.a.ayinbangre-day04-report_files/extension.js"></script><style type="text/css">.MathJax_Display {text-align: center; margin: 0; position: relative; display: block!important; text-indent: 0; max-width: none; max-height: none; min-width: 0; min-height: 0; width: 100%}
.MathJax .merror {background-color: #FFFF88; color: #CC0000; border: 1px solid #CC0000; padding: 1px 3px; font-style: normal; font-size: 90%}
.MathJax .MJX-monospace {font-family: monospace}
.MathJax .MJX-sans-serif {font-family: sans-serif}
#MathJax_Tooltip {background-color: InfoBackground; color: InfoText; border: 1px solid black; box-shadow: 2px 2px 5px #AAAAAA; -webkit-box-shadow: 2px 2px 5px #AAAAAA; -moz-box-shadow: 2px 2px 5px #AAAAAA; -khtml-box-shadow: 2px 2px 5px #AAAAAA; filter: progid:DXImageTransform.Microsoft.dropshadow(OffX=2, OffY=2, Color='gray', Positive='true'); padding: 3px 4px; z-index: 401; position: absolute; left: 0; top: 0; width: auto; height: auto; display: none}
.MathJax {display: inline; font-style: normal; font-weight: normal; line-height: normal; font-size: 100%; font-size-adjust: none; text-indent: 0; text-align: left; text-transform: none; letter-spacing: normal; word-spacing: normal; word-wrap: normal; white-space: nowrap; float: none; direction: ltr; max-width: none; max-height: none; min-width: 0; min-height: 0; border: 0; padding: 0; margin: 0}
.MathJax:focus, body :focus .MathJax {display: inline-table}
.MathJax.MathJax_FullWidth {text-align: center; display: table-cell!important; width: 10000em!important}
.MathJax img, .MathJax nobr, .MathJax a {border: 0; padding: 0; margin: 0; max-width: none; max-height: none; min-width: 0; min-height: 0; vertical-align: 0; line-height: normal; text-decoration: none}
img.MathJax_strut {border: 0!important; padding: 0!important; margin: 0!important; vertical-align: 0!important}
.MathJax span {display: inline; position: static; border: 0; padding: 0; margin: 0; vertical-align: 0; line-height: normal; text-decoration: none; box-sizing: content-box}
.MathJax nobr {white-space: nowrap!important}
.MathJax img {display: inline!important; float: none!important}
.MathJax * {transition: none; -webkit-transition: none; -moz-transition: none; -ms-transition: none; -o-transition: none}
.MathJax_Processing {visibility: hidden; position: fixed; width: 0; height: 0; overflow: hidden}
.MathJax_Processed {display: none!important}
.MathJax_test {font-style: normal; font-weight: normal; font-size: 100%; font-size-adjust: none; text-indent: 0; text-transform: none; letter-spacing: normal; word-spacing: normal; overflow: hidden; height: 1px}
.MathJax_test.mjx-test-display {display: table!important}
.MathJax_test.mjx-test-inline {display: inline!important; margin-right: -1px}
.MathJax_test.mjx-test-default {display: block!important; clear: both}
.MathJax_ex_box {display: inline-block!important; position: absolute; overflow: hidden; min-height: 0; max-height: none; padding: 0; border: 0; margin: 0; width: 1px; height: 60ex}
.MathJax_em_box {display: inline-block!important; position: absolute; overflow: hidden; min-height: 0; max-height: none; padding: 0; border: 0; margin: 0; width: 1px; height: 60em}
.mjx-test-inline .MathJax_left_box {display: inline-block; width: 0; float: left}
.mjx-test-inline .MathJax_right_box {display: inline-block; width: 0; float: right}
.mjx-test-display .MathJax_right_box {display: table-cell!important; width: 10000em!important; min-width: 0; max-width: none; padding: 0; border: 0; margin: 0}
.MathJax .MathJax_HitBox {cursor: text; background: white; opacity: 0; filter: alpha(opacity=0)}
.MathJax .MathJax_HitBox * {filter: none; opacity: 1; background: transparent}
#MathJax_Tooltip * {filter: none; opacity: 1; background: transparent}
@font-face {font-family: MathJax_Blank; src: url('about:blank')}
.MathJax .noError {vertical-align: ; font-size: 90%; text-align: left; color: black; padding: 1px 3px; border: 1px solid}
</style><style>/*
 +------------------------------------------+
 | widget-area                              |
 |  +--------+---------------------------+  |
 |  | prompt | widget-subarea            |  |
 |  |        | +-----------------------+ |  |
 |  |        | |         widget        | |  |
 |  |        | +-----------------------+ |  |
 |  |        | +-----------------------+ |  |
 |  |        | |         widget        | |  |
 |  |        | +-----------------------+ |  |
 |  +--------+---------------------------+  |
 +------------------------------------------+
*/

.widget-area {
	page-break-inside : avoid;
    display: flex;
    flex-direction: row;
    align-items: stretch;
}

.widget-area.connection-problems .prompt:after {
    content: "\f127"; /* chain-broken */
    font-family: "FontAwesome";
    color: #d9534f;
    top: 3px;
    padding: 3px;
}

.widget-area .widget-subarea {
    min-width: 0px;
    padding: 0.4em 0 0.4em 0;
    display: flex;
    flex: 2;
    align-items: flex-start;
    flex-direction: column;
    align-items: stretch;
    box-sizing: border-box;
    -moz-box-sizing: border-box;
    -webkit-box-sizing: border-box;
}

/*# sourceMappingURL=data:application/json;base64,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 */</style><style>/*-----------------------------------------------------------------------------
| Copyright (c) 2014-2016, PhosphorJS Contributors
|
| Distributed under the terms of the BSD 3-Clause License.
|
| The full license is in the file LICENSE, distributed with this software.
|----------------------------------------------------------------------------*/


/*-----------------------------------------------------------------------------
| dom/cursor
|----------------------------------------------------------------------------*/
body.p-mod-override-cursor * {
  cursor: inherit !important;
}


/*-----------------------------------------------------------------------------
| ui/widget
|----------------------------------------------------------------------------*/
.p-Widget {
  box-sizing: border-box;
  position: relative;
  overflow: hidden;
  cursor: default;
}


.p-Widget.p-mod-hidden {
  display: none;
}


/*-----------------------------------------------------------------------------
| ui/commandpalette
|----------------------------------------------------------------------------*/
.p-CommandPalette {
  display: flex;
  flex-direction: column;
  -webkit-user-select: none;
  -moz-user-select: none;
  -ms-user-select: none;
  user-select: none;
}


.p-CommandPalette-search {
  flex: 0 0 auto;
}


.p-CommandPalette-content {
  flex: 1 1 auto;
  margin: 0;
  padding: 0;
  min-height: 0;
  overflow: auto;
  list-style-type: none;
}


.p-CommandPalette-header {
  overflow: hidden;
  white-space: nowrap;
  text-overflow: ellipsis;
  text-transform: capitalize;
}


.p-CommandPalette-itemShortcut {
  float: right;
}


.p-CommandPalette-itemLabel {
  overflow: hidden;
  white-space: nowrap;
  text-overflow: ellipsis;
}


/*-----------------------------------------------------------------------------
| ui/menu
|----------------------------------------------------------------------------*/
.p-Menu {
  position: absolute;
  white-space: nowrap;
  overflow-x: hidden;
  overflow-y: auto;
  outline: none;
  -webkit-user-select: none;
  -moz-user-select: none;
  -ms-user-select: none;
  user-select: none;
}


.p-Menu-content {
  margin: 0;
  padding: 0;
  display: table;
  list-style-type: none;
}


.p-Menu-item {
  display: table-row;
}


.p-Menu-item.p-mod-hidden {
  display: none;
}


.p-Menu-itemIcon,
.p-Menu-itemSubmenuIcon {
  display: table-cell;
  text-align: center;
}


.p-Menu-itemLabel {
  display: table-cell;
  text-align: left;
}


.p-Menu-itemShortcut {
  display: table-cell;
  text-align: right;
}


/*-----------------------------------------------------------------------------
| ui/menubar
|----------------------------------------------------------------------------*/
.p-MenuBar {
  outline: none;
  -webkit-user-select: none;
  -moz-user-select: none;
  -ms-user-select: none;
  user-select: none;
}


.p-MenuBar-content {
  margin: 0;
  padding: 0;
  display: flex;
  flex-direction: row;
  list-style-type: none;
}


.p-MenuBar-item {
  box-sizing: border-box;
}


.p-MenuBar-itemIcon,
.p-MenuBar-itemLabel {
  display: inline-block;
}


/*-----------------------------------------------------------------------------
| ui/splitpanel
|----------------------------------------------------------------------------*/
.p-SplitPanel-child {
  z-index: 0;
}


.p-SplitPanel-handle {
  z-index: 1;
}


.p-SplitPanel-handle.p-mod-hidden {
  display: none;
}


.p-SplitPanel-handle:after {
  position: absolute;
  top: 0;
  left: 0;
  width: 100%;
  height: 100%;
  content: '';
}


.p-SplitPanel.p-mod-horizontal > .p-SplitPanel-handle {
  cursor: ew-resize;
}


.p-SplitPanel.p-mod-vertical > .p-SplitPanel-handle {
  cursor: ns-resize;
}


.p-SplitPanel.p-mod-horizontal > .p-SplitPanel-handle:after {
  left: 50%;
  min-width: 8px;
  transform: translateX(-50%);
}


.p-SplitPanel.p-mod-vertical > .p-SplitPanel-handle:after {
  top: 50%;
  min-height: 8px;
  transform: translateY(-50%);
}


/*-----------------------------------------------------------------------------
| ui/tabbar
|----------------------------------------------------------------------------*/
.p-TabBar {
  display: flex;
  -webkit-user-select: none;
  -moz-user-select: none;
  -ms-user-select: none;
  user-select: none;
}


.p-TabBar.p-mod-horizontal {
  flex-direction: row;
}


.p-TabBar.p-mod-vertical {
  flex-direction: column;
}


.p-TabBar-content {
  margin: 0;
  padding: 0;
  display: flex;
  flex: 1 1 auto;
  list-style-type: none;
}


.p-TabBar.p-mod-horizontal > .p-TabBar-content {
  flex-direction: row;
}


.p-TabBar.p-mod-vertical > .p-TabBar-content {
  flex-direction: column;
}


.p-TabBar-tab {
  display: flex;
  flex-direction: row;
  box-sizing: border-box;
  overflow: hidden;
}


.p-TabBar-tabIcon,
.p-TabBar-tabCloseIcon {
  flex: 0 0 auto;
}


.p-TabBar-tabLabel {
  flex: 1 1 auto;
  overflow: hidden;
  white-space: nowrap;
}


.p-TabBar-tab.p-mod-hidden {
  display: none;
}


.p-TabBar.p-mod-dragging .p-TabBar-tab {
  position: relative;
}


.p-TabBar.p-mod-horizontal.p-mod-dragging .p-TabBar-tab {
  left: 0;
  transition: left 150ms ease;
}


.p-TabBar.p-mod-vertical.p-mod-dragging .p-TabBar-tab {
  top: 0;
  transition: top 150ms ease;
}


.p-TabBar.p-mod-dragging .p-TabBar-tab.p-mod-dragging {
  transition: none;
}


/*-----------------------------------------------------------------------------
| ui/tabpanel
|----------------------------------------------------------------------------*/
.p-TabPanel-tabBar {
  z-index: 1;
}


.p-TabPanel-stackedPanel {
  z-index: 0;
}


/*-----------------------------------------------------------------------------
| ui/dockpanel
|----------------------------------------------------------------------------*/
.p-DockPanel {
  z-index: 0;
}


.p-DockPanel-widget {
  z-index: 0;
}


.p-DockPanel-tabBar {
  z-index: 1;
}


.p-DockPanel-handle {
  z-index: 2;
}


.p-DockPanel-handle.p-mod-hidden {
  display: none;
}


.p-DockPanel-handle:after {
  position: absolute;
  top: 0;
  left: 0;
  width: 100%;
  height: 100%;
  content: '';
}


.p-DockPanel-handle.p-mod-horizontal {
  cursor: ew-resize;
}


.p-DockPanel-handle.p-mod-vertical {
  cursor: ns-resize;
}


.p-DockPanel-handle.p-mod-horizontal:after {
  left: 50%;
  min-width: 8px;
  transform: translateX(-50%);
}


.p-DockPanel-handle.p-mod-vertical:after {
  top: 50%;
  min-height: 8px;
  transform: translateY(-50%);
}


.p-DockPanel-overlay {
  z-index: 3;
  box-sizing: border-box;
  pointer-events: none;
}


.p-DockPanel-overlay.p-mod-hidden {
  display: none;
}

/*# sourceMappingURL=data:application/json;base64,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 */</style><style>/**
 * The material design colors are adapted from google-material-color v1.2.6
 * https://github.com/danlevan/google-material-color
 * https://github.com/danlevan/google-material-color/blob/f67ca5f4028b2f1b34862f64b0ca67323f91b088/dist/palette.var.css
 *
 * The license for the material design color CSS variables is as follows (see
 * https://github.com/danlevan/google-material-color/blob/f67ca5f4028b2f1b34862f64b0ca67323f91b088/LICENSE)
 *
 * The MIT License (MIT)
 *
 * Copyright (c) 2014 Dan Le Van
 *
 * Permission is hereby granted, free of charge, to any person obtaining a copy
 * of this software and associated documentation files (the "Software"), to deal
 * in the Software without restriction, including without limitation the rights
 * to use, copy, modify, merge, publish, distribute, sublicense, and/or sell
 * copies of the Software, and to permit persons to whom the Software is
 * furnished to do so, subject to the following conditions:
 *
 * The above copyright notice and this permission notice shall be included in
 * all copies or substantial portions of the Software.
 *
 * THE SOFTWARE IS PROVIDED "AS IS", WITHOUT WARRANTY OF ANY KIND, EXPRESS OR
 * IMPLIED, INCLUDING BUT NOT LIMITED TO THE WARRANTIES OF MERCHANTABILITY,
 * FITNESS FOR A PARTICULAR PURPOSE AND NONINFRINGEMENT. IN NO EVENT SHALL THE
 * AUTHORS OR COPYRIGHT HOLDERS BE LIABLE FOR ANY CLAIM, DAMAGES OR OTHER
 * LIABILITY, WHETHER IN AN ACTION OF CONTRACT, TORT OR OTHERWISE, ARISING FROM,
 * OUT OF OR IN CONNECTION WITH THE SOFTWARE OR THE USE OR OTHER DEALINGS IN THE
 * SOFTWARE.
 */
:root {
  --md-red-50: #FFEBEE;
  --md-red-100: #FFCDD2;
  --md-red-200: #EF9A9A;
  --md-red-300: #E57373;
  --md-red-400: #EF5350;
  --md-red-500: #F44336;
  --md-red-600: #E53935;
  --md-red-700: #D32F2F;
  --md-red-800: #C62828;
  --md-red-900: #B71C1C;
  --md-red-A100: #FF8A80;
  --md-red-A200: #FF5252;
  --md-red-A400: #FF1744;
  --md-red-A700: #D50000;

  --md-pink-50: #FCE4EC;
  --md-pink-100: #F8BBD0;
  --md-pink-200: #F48FB1;
  --md-pink-300: #F06292;
  --md-pink-400: #EC407A;
  --md-pink-500: #E91E63;
  --md-pink-600: #D81B60;
  --md-pink-700: #C2185B;
  --md-pink-800: #AD1457;
  --md-pink-900: #880E4F;
  --md-pink-A100: #FF80AB;
  --md-pink-A200: #FF4081;
  --md-pink-A400: #F50057;
  --md-pink-A700: #C51162;

  --md-purple-50: #F3E5F5;
  --md-purple-100: #E1BEE7;
  --md-purple-200: #CE93D8;
  --md-purple-300: #BA68C8;
  --md-purple-400: #AB47BC;
  --md-purple-500: #9C27B0;
  --md-purple-600: #8E24AA;
  --md-purple-700: #7B1FA2;
  --md-purple-800: #6A1B9A;
  --md-purple-900: #4A148C;
  --md-purple-A100: #EA80FC;
  --md-purple-A200: #E040FB;
  --md-purple-A400: #D500F9;
  --md-purple-A700: #AA00FF;

  --md-deep-purple-50: #EDE7F6;
  --md-deep-purple-100: #D1C4E9;
  --md-deep-purple-200: #B39DDB;
  --md-deep-purple-300: #9575CD;
  --md-deep-purple-400: #7E57C2;
  --md-deep-purple-500: #673AB7;
  --md-deep-purple-600: #5E35B1;
  --md-deep-purple-700: #512DA8;
  --md-deep-purple-800: #4527A0;
  --md-deep-purple-900: #311B92;
  --md-deep-purple-A100: #B388FF;
  --md-deep-purple-A200: #7C4DFF;
  --md-deep-purple-A400: #651FFF;
  --md-deep-purple-A700: #6200EA;

  --md-indigo-50: #E8EAF6;
  --md-indigo-100: #C5CAE9;
  --md-indigo-200: #9FA8DA;
  --md-indigo-300: #7986CB;
  --md-indigo-400: #5C6BC0;
  --md-indigo-500: #3F51B5;
  --md-indigo-600: #3949AB;
  --md-indigo-700: #303F9F;
  --md-indigo-800: #283593;
  --md-indigo-900: #1A237E;
  --md-indigo-A100: #8C9EFF;
  --md-indigo-A200: #536DFE;
  --md-indigo-A400: #3D5AFE;
  --md-indigo-A700: #304FFE;

  --md-blue-50: #E3F2FD;
  --md-blue-100: #BBDEFB;
  --md-blue-200: #90CAF9;
  --md-blue-300: #64B5F6;
  --md-blue-400: #42A5F5;
  --md-blue-500: #2196F3;
  --md-blue-600: #1E88E5;
  --md-blue-700: #1976D2;
  --md-blue-800: #1565C0;
  --md-blue-900: #0D47A1;
  --md-blue-A100: #82B1FF;
  --md-blue-A200: #448AFF;
  --md-blue-A400: #2979FF;
  --md-blue-A700: #2962FF;

  --md-light-blue-50: #E1F5FE;
  --md-light-blue-100: #B3E5FC;
  --md-light-blue-200: #81D4FA;
  --md-light-blue-300: #4FC3F7;
  --md-light-blue-400: #29B6F6;
  --md-light-blue-500: #03A9F4;
  --md-light-blue-600: #039BE5;
  --md-light-blue-700: #0288D1;
  --md-light-blue-800: #0277BD;
  --md-light-blue-900: #01579B;
  --md-light-blue-A100: #80D8FF;
  --md-light-blue-A200: #40C4FF;
  --md-light-blue-A400: #00B0FF;
  --md-light-blue-A700: #0091EA;

  --md-cyan-50: #E0F7FA;
  --md-cyan-100: #B2EBF2;
  --md-cyan-200: #80DEEA;
  --md-cyan-300: #4DD0E1;
  --md-cyan-400: #26C6DA;
  --md-cyan-500: #00BCD4;
  --md-cyan-600: #00ACC1;
  --md-cyan-700: #0097A7;
  --md-cyan-800: #00838F;
  --md-cyan-900: #006064;
  --md-cyan-A100: #84FFFF;
  --md-cyan-A200: #18FFFF;
  --md-cyan-A400: #00E5FF;
  --md-cyan-A700: #00B8D4;

  --md-teal-50: #E0F2F1;
  --md-teal-100: #B2DFDB;
  --md-teal-200: #80CBC4;
  --md-teal-300: #4DB6AC;
  --md-teal-400: #26A69A;
  --md-teal-500: #009688;
  --md-teal-600: #00897B;
  --md-teal-700: #00796B;
  --md-teal-800: #00695C;
  --md-teal-900: #004D40;
  --md-teal-A100: #A7FFEB;
  --md-teal-A200: #64FFDA;
  --md-teal-A400: #1DE9B6;
  --md-teal-A700: #00BFA5;

  --md-green-50: #E8F5E9;
  --md-green-100: #C8E6C9;
  --md-green-200: #A5D6A7;
  --md-green-300: #81C784;
  --md-green-400: #66BB6A;
  --md-green-500: #4CAF50;
  --md-green-600: #43A047;
  --md-green-700: #388E3C;
  --md-green-800: #2E7D32;
  --md-green-900: #1B5E20;
  --md-green-A100: #B9F6CA;
  --md-green-A200: #69F0AE;
  --md-green-A400: #00E676;
  --md-green-A700: #00C853;

  --md-light-green-50: #F1F8E9;
  --md-light-green-100: #DCEDC8;
  --md-light-green-200: #C5E1A5;
  --md-light-green-300: #AED581;
  --md-light-green-400: #9CCC65;
  --md-light-green-500: #8BC34A;
  --md-light-green-600: #7CB342;
  --md-light-green-700: #689F38;
  --md-light-green-800: #558B2F;
  --md-light-green-900: #33691E;
  --md-light-green-A100: #CCFF90;
  --md-light-green-A200: #B2FF59;
  --md-light-green-A400: #76FF03;
  --md-light-green-A700: #64DD17;

  --md-lime-50: #F9FBE7;
  --md-lime-100: #F0F4C3;
  --md-lime-200: #E6EE9C;
  --md-lime-300: #DCE775;
  --md-lime-400: #D4E157;
  --md-lime-500: #CDDC39;
  --md-lime-600: #C0CA33;
  --md-lime-700: #AFB42B;
  --md-lime-800: #9E9D24;
  --md-lime-900: #827717;
  --md-lime-A100: #F4FF81;
  --md-lime-A200: #EEFF41;
  --md-lime-A400: #C6FF00;
  --md-lime-A700: #AEEA00;

  --md-yellow-50: #FFFDE7;
  --md-yellow-100: #FFF9C4;
  --md-yellow-200: #FFF59D;
  --md-yellow-300: #FFF176;
  --md-yellow-400: #FFEE58;
  --md-yellow-500: #FFEB3B;
  --md-yellow-600: #FDD835;
  --md-yellow-700: #FBC02D;
  --md-yellow-800: #F9A825;
  --md-yellow-900: #F57F17;
  --md-yellow-A100: #FFFF8D;
  --md-yellow-A200: #FFFF00;
  --md-yellow-A400: #FFEA00;
  --md-yellow-A700: #FFD600;

  --md-amber-50: #FFF8E1;
  --md-amber-100: #FFECB3;
  --md-amber-200: #FFE082;
  --md-amber-300: #FFD54F;
  --md-amber-400: #FFCA28;
  --md-amber-500: #FFC107;
  --md-amber-600: #FFB300;
  --md-amber-700: #FFA000;
  --md-amber-800: #FF8F00;
  --md-amber-900: #FF6F00;
  --md-amber-A100: #FFE57F;
  --md-amber-A200: #FFD740;
  --md-amber-A400: #FFC400;
  --md-amber-A700: #FFAB00;

  --md-orange-50: #FFF3E0;
  --md-orange-100: #FFE0B2;
  --md-orange-200: #FFCC80;
  --md-orange-300: #FFB74D;
  --md-orange-400: #FFA726;
  --md-orange-500: #FF9800;
  --md-orange-600: #FB8C00;
  --md-orange-700: #F57C00;
  --md-orange-800: #EF6C00;
  --md-orange-900: #E65100;
  --md-orange-A100: #FFD180;
  --md-orange-A200: #FFAB40;
  --md-orange-A400: #FF9100;
  --md-orange-A700: #FF6D00;

  --md-deep-orange-50: #FBE9E7;
  --md-deep-orange-100: #FFCCBC;
  --md-deep-orange-200: #FFAB91;
  --md-deep-orange-300: #FF8A65;
  --md-deep-orange-400: #FF7043;
  --md-deep-orange-500: #FF5722;
  --md-deep-orange-600: #F4511E;
  --md-deep-orange-700: #E64A19;
  --md-deep-orange-800: #D84315;
  --md-deep-orange-900: #BF360C;
  --md-deep-orange-A100: #FF9E80;
  --md-deep-orange-A200: #FF6E40;
  --md-deep-orange-A400: #FF3D00;
  --md-deep-orange-A700: #DD2C00;

  --md-brown-50: #EFEBE9;
  --md-brown-100: #D7CCC8;
  --md-brown-200: #BCAAA4;
  --md-brown-300: #A1887F;
  --md-brown-400: #8D6E63;
  --md-brown-500: #795548;
  --md-brown-600: #6D4C41;
  --md-brown-700: #5D4037;
  --md-brown-800: #4E342E;
  --md-brown-900: #3E2723;

  --md-grey-50: #FAFAFA;
  --md-grey-100: #F5F5F5;
  --md-grey-200: #EEEEEE;
  --md-grey-300: #E0E0E0;
  --md-grey-400: #BDBDBD;
  --md-grey-500: #9E9E9E;
  --md-grey-600: #757575;
  --md-grey-700: #616161;
  --md-grey-800: #424242;
  --md-grey-900: #212121;

  --md-blue-grey-50: #ECEFF1;
  --md-blue-grey-100: #CFD8DC;
  --md-blue-grey-200: #B0BEC5;
  --md-blue-grey-300: #90A4AE;
  --md-blue-grey-400: #78909C;
  --md-blue-grey-500: #607D8B;
  --md-blue-grey-600: #546E7A;
  --md-blue-grey-700: #455A64;
  --md-blue-grey-800: #37474F;
  --md-blue-grey-900: #263238;
}
/*# sourceMappingURL=data:application/json;base64,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 */</style><style>/*-----------------------------------------------------------------------------
| Copyright (c) Jupyter Development Team.
| Distributed under the terms of the Modified BSD License.
|----------------------------------------------------------------------------*/

/*
The following CSS variables define the main, public API for styling JupyterLab.
These variables should be used by all plugins wherever possible. In other
words, plugins should not define custom colors, sizes, etc unless absolutely
necessary. This enables users to change the visual theme of JupyterLab
by changing these variables.

Many variables appear in an ordered sequence (0,1,2,3). These sequences
are designed to work well together, so for example, `--jp-border-color1` should
be used with `--jp-layout-color1`. The numbers have the following meanings:

* 0: super-primary, reserved for special emphasis
* 1: primary, most important under normal situations
* 2: secondary, next most important under normal situations
* 3: tertiary, next most important under normal situations

Throughout JupyterLab, we are mostly following principles from Google's
Material Design when selecting colors. We are not, however, following 
all of MD as it is not optimized for dense, information rich UIs.
*/


:root {

  /* Borders
  
  The following variables, specify the visual styling of borders in JupyterLab.
   */

  --jp-border-width: 1px;
  --jp-border-color0: var(--md-grey-700);  
  --jp-border-color1: var(--md-grey-500);
  --jp-border-color2: var(--md-grey-300);
  --jp-border-color3: var(--md-grey-100);

  /* UI Fonts
  
  The UI font CSS variables are used for the typography all of the JupyterLab
  user interface elements that are not directly user generated content.
  */

  --jp-ui-font-scale-factor: 1.2;
  --jp-ui-font-size0: calc(var(--jp-ui-font-size1)/var(--jp-ui-font-scale-factor));
  --jp-ui-font-size1: 13px; /* Base font size */
  --jp-ui-font-size2: calc(var(--jp-ui-font-size1)*var(--jp-ui-font-scale-factor));
  --jp-ui-font-size3: calc(var(--jp-ui-font-size2)*var(--jp-ui-font-scale-factor));
  --jp-ui-icon-font-size: 14px; /* Ensures px perfect FontAwesome icons */

  /* Use these font colors against the corresponding main layout colors.
     In a light theme, these go from dark to light.
  */

  --jp-ui-font-color0: rgba(0,0,0,1.0);
  --jp-ui-font-color1: rgba(0,0,0,0.87);
  --jp-ui-font-color2: rgba(0,0,0,0.54);
  --jp-ui-font-color3: rgba(0,0,0,0.38);
  
  /* Use these against the brand/accent/warn/error colors.
     These will typically go from light to darker, in both a dark and light theme
   */

  --jp-inverse-ui-font-color0: rgba(255,255,255,1);
  --jp-inverse-ui-font-color1: rgba(255,255,255,1.0);
  --jp-inverse-ui-font-color2: rgba(255,255,255,0.7);
  --jp-inverse-ui-font-color3: rgba(255,255,255,0.5);

  /* Content Fonts
  
  Content font variables are used for typography of user generated content.
  */
  
  --jp-content-font-size: 13px;
  --jp-content-line-height: 1.5;
  --jp-content-font-color0: black;
  --jp-content-font-color1: black;
  --jp-content-font-color2: var(--md-grey-700);
  --jp-content-font-color3: var(--md-grey-500);

  --jp-ui-font-scale-factor: 1.2;
  --jp-ui-font-size0: calc(var(--jp-ui-font-size1)/var(--jp-ui-font-scale-factor));
  --jp-ui-font-size1: 13px; /* Base font size */
  --jp-ui-font-size2: calc(var(--jp-ui-font-size1)*var(--jp-ui-font-scale-factor));
  --jp-ui-font-size3: calc(var(--jp-ui-font-size2)*var(--jp-ui-font-scale-factor));

  --jp-code-font-size: 13px;
  --jp-code-line-height: 17px;
  --jp-code-padding: 5px;

  /* Layout
  
  The following are the main layout colors use in JupyterLab. In a light
  theme these would go from light to dark.
  */

  --jp-layout-color0: white;  
  --jp-layout-color1: white;
  --jp-layout-color2: var(--md-grey-200);
  --jp-layout-color3: var(--md-grey-400);

  /* Brand/accent */

  --jp-brand-color0: var(--md-blue-700);
  --jp-brand-color1: var(--md-blue-500);
  --jp-brand-color2: var(--md-blue-300);
  --jp-brand-color3: var(--md-blue-100);

  --jp-accent-color0: var(--md-green-700);
  --jp-accent-color1: var(--md-green-500);
  --jp-accent-color2: var(--md-green-300);
  --jp-accent-color3: var(--md-green-100);

  /* State colors (warn, error, success, info) */

  --jp-warn-color0: var(--md-orange-700);
  --jp-warn-color1: var(--md-orange-500);
  --jp-warn-color2: var(--md-orange-300);
  --jp-warn-color3: var(--md-orange-100);

  --jp-error-color0: var(--md-red-700);
  --jp-error-color1: var(--md-red-500);
  --jp-error-color2: var(--md-red-300);
  --jp-error-color3: var(--md-red-100);

  --jp-success-color0: var(--md-green-700);
  --jp-success-color1: var(--md-green-500);
  --jp-success-color2: var(--md-green-300);
  --jp-success-color3: var(--md-green-100);

  --jp-info-color0: var(--md-cyan-700);
  --jp-info-color1: var(--md-cyan-500);
  --jp-info-color2: var(--md-cyan-300);
  --jp-info-color3: var(--md-cyan-100);

}

/*# sourceMappingURL=data:application/json;base64,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 */</style><style>/* Copyright (c) Jupyter Development Team.
 * Distributed under the terms of the Modified BSD License.
 */

/*
 * We assume that the CSS variables in
 * https://github.com/jupyterlab/jupyterlab/blob/master/src/default-theme/variables.css
 * have been defined.
 */


:root {
    --jp-widgets-color: var(--jp-content-font-color1);
    --jp-widgets-label-color: var(--jp-widgets-color);
    --jp-widgets-readout-color: var(--jp-widgets-color);
    --jp-widgets-font-size: var(--jp-ui-font-size1);
    --jp-widgets-margin: 2px;
    --jp-widgets-inline-height: 28px;
    --jp-widgets-inline-width: 300px;
    --jp-widgets-inline-width-short: calc(var(--jp-widgets-inline-width) / 2 - var(--jp-widgets-margin));
    --jp-widgets-inline-width-tiny: calc(var(--jp-widgets-inline-width-short) / 2 - var(--jp-widgets-margin));
    --jp-widgets-inline-margin: 4px; /* margin between inline elements */
    --jp-widgets-inline-label-min-width: 80px;
    --jp-widgets-inline-label-max-width: calc(var(--jp-widgets-inline-width) - var(--jp-widgets-inline-margin) - var(--jp-widgets-inline-width-short));
    --jp-widgets-border-width: var(--jp-border-width);
    --jp-widgets-vertical-height: 200px;
    --jp-widgets-horizontal-tab-height: 24px;
    --jp-widgets-horizontal-tab-width: 144px;
    --jp-widgets-horizontal-tab-top-border: 2px;
    --jp-widgets-progress-thickness: 20px;
    --jp-widgets-container-padding: 15px;
    --jp-widgets-input-padding: 4px;
    --jp-widgets-slider-track-thickness: 4px;
    --jp-widgets-slider-border-width: var(--jp-widgets-border-width);
    --jp-widgets-slider-handle-size: 16px;
    --jp-widgets-slider-handle-border-color: var(--jp-border-color1);
    --jp-widgets-slider-handle-background-color: var(--jp-layout-color1);
    --jp-widgets-slider-active-handle-color: var(--jp-brand-color1);
    --jp-widgets-menu-item-height: 24px;

    --jp-widgets-input-color: var(--jp-ui-font-color1);
    --jp-widgets-input-background-color: var(--jp-layout-color1);
    --jp-widgets-input-border-color: var(--jp-border-color1);
    --jp-widgets-input-focus-border-color: var(--jp-brand-color2);
    --jp-widgets-input-border-width: var(--jp-widgets-border-width);

    /* From Material Design Lite */
    --md-shadow-key-umbra-opacity: 0.2;
    --md-shadow-key-penumbra-opacity: 0.14;
    --md-shadow-ambient-shadow-opacity: 0.12;
}

.jupyter-widgets {
    margin: var(--jp-widgets-margin);
    box-sizing: border-box;
    color: var(--jp-widgets-color);
    overflow: visible;
}

.jp-Output-result > .jupyter-widgets {
    margin-left: 0;
    margin-right: 0;
}

/* vbox and hbox */

.widget-inline-hbox {
    /* Horizontal widgets */
    box-sizing: border-box;
    display: flex;
    flex-direction: row;
    align-items: baseline;
}

.widget-inline-vbox {
    /* Vertical Widgets */
    box-sizing: border-box;
    display: flex;
    flex-direction: column;
    align-items: stretch;
}

.widget-box {
    box-sizing: border-box;
    display: flex;
    margin: 0;
}

.widget-hbox {
    flex-direction: row;
}

.widget-vbox {
    flex-direction: column;
}

/* General Button Styling */

.jupyter-button {
    padding: 0;
    display: inline-block;
    white-space: nowrap;
    overflow: hidden;
    text-overflow: ellipsis;
    text-align: center;
    font-size: var(--jp-widgets-font-size);
    cursor: pointer;

    height: var(--jp-widgets-inline-height);
    border: 0px solid;
    line-height: var(--jp-widgets-inline-height);
    box-shadow: none;

    color: var(--jp-ui-font-color1);
    background-color: var(--jp-layout-color2);
    border-color: var(--jp-border-color2);
    border: none;
}

.jupyter-button i.fa {
    margin-right: var(--jp-widgets-inline-margin);
    pointer-events: none;
}

.jupyter-button:empty:before {
    content: "\200b"; /* zero-width space */
}

.jupyter-button i.fa.center {
    margin-right: 0;
}

.jupyter-button:hover, .jupyter-button:focus {
    /* MD Lite 2dp shadow */
    box-shadow: 0 2px 2px 0 rgba(0, 0, 0, var(--md-shadow-key-penumbra-opacity)),
                0 3px 1px -2px rgba(0, 0, 0, var(--md-shadow-key-umbra-opacity)),
                0 1px 5px 0 rgba(0, 0, 0, var(--md-shadow-ambient-shadow-opacity));
}

.jupyter-button:active, .jupyter-button.mod-active {
    /* MD Lite 4dp shadow */
    box-shadow: 0 4px 5px 0 rgba(0, 0, 0, var(--md-shadow-key-penumbra-opacity)),
                0 1px 10px 0 rgba(0, 0, 0, var(--md-shadow-ambient-shadow-opacity)),
                0 2px 4px -1px rgba(0, 0, 0, var(--md-shadow-key-umbra-opacity));
    color: var(--jp-ui-font-color1);
    background-color: var(--jp-layout-color3);
}

.jupyter-button:focus {
    outline: 1px solid var(--jp-widgets-input-focus-border-color);
}

/* Button "Primary" Styling */

.jupyter-button.mod-primary {
    color: var(--jp-inverse-ui-font-color1);
    background-color: var(--jp-brand-color1);
}

.jupyter-button.mod-primary.mod-active {
    color: var(--jp-inverse-ui-font-color0);
    background-color: var(--jp-brand-color0);
}

.jupyter-button.mod-primary:active {
    color: var(--jp-inverse-ui-font-color0);
    background-color: var(--jp-brand-color0);
}

/* Button "Success" Styling */

.jupyter-button.mod-success {
    color: var(--jp-inverse-ui-font-color1);
    background-color: var(--jp-success-color1);
}

.jupyter-button.mod-success.mod-active {
    color: var(--jp-inverse-ui-font-color0);
    background-color: var(--jp-success-color0);
 }

.jupyter-button.mod-success:active {
    color: var(--jp-inverse-ui-font-color0);
    background-color: var(--jp-success-color0);
 }

 /* Button "Info" Styling */

.jupyter-button.mod-info {
    color: var(--jp-inverse-ui-font-color1);
    background-color: var(--jp-info-color1);
}

.jupyter-button.mod-info.mod-active {
    color: var(--jp-inverse-ui-font-color0);
    background-color: var(--jp-info-color0);
}

.jupyter-button.mod-info:active {
    color: var(--jp-inverse-ui-font-color0);
    background-color: var(--jp-info-color0);
}

/* Button "Warning" Styling */

.jupyter-button.mod-warning {
    color: var(--jp-inverse-ui-font-color1);
    background-color: var(--jp-warn-color1);
}

.jupyter-button.mod-warning.mod-active {
    color: var(--jp-inverse-ui-font-color0);
    background-color: var(--jp-warn-color0);
}

.jupyter-button.mod-warning:active {
    color: var(--jp-inverse-ui-font-color0);
    background-color: var(--jp-warn-color0);
}

/* Button "Danger" Styling */

.jupyter-button.mod-danger {
    color: var(--jp-inverse-ui-font-color1);
    background-color: var(--jp-error-color1);
}

.jupyter-button.mod-danger.mod-active {
    color: var(--jp-inverse-ui-font-color0);
    background-color: var(--jp-error-color0);
}

.jupyter-button.mod-danger:active {
    color: var(--jp-inverse-ui-font-color0);
    background-color: var(--jp-error-color0);
}

/* Widget Button*/

.widget-button, .widget-toggle-button {
    width: var(--jp-widgets-inline-width-short);
}

/* Widget Label Styling */

.widget-label {
    /* Label */
    color: var(--jp-widgets-label-color);
    font-size: var(--jp-widgets-font-size);
    overflow: hidden;
    text-overflow: ellipsis;
    white-space: nowrap;
    line-height: var(--jp-widgets-inline-height);
    max-width: var(--jp-widgets-inline-width);
}

.jupyter-widgets.widget-label {
    width: var(--jp-widgets-inline-width-tiny);
}

.widget-inline-hbox .widget-label {
    /* Horizontal Widget Label */
    color: var(--jp-widgets-label-color);
    text-align: right;
    margin-right: var(--jp-widgets-inline-margin);
    max-width: var(--jp-widgets-inline-label-max-width);
    min-width: var(--jp-widgets-inline-label-min-width);
    flex-shrink: 0;
}

.widget-inline-vbox .widget-label {
    /* Vertical Widget Label */
    color: var(--jp-widgets-label-color);
    text-align: center;
}

/* Widget Readout Styling */

.widget-readout {
    color: var(--jp-widgets-readout-color);
    font-size: var(--jp-widgets-font-size);
    height: var(--jp-widgets-inline-height);
    line-height: var(--jp-widgets-inline-height);
    margin-left: var(--jp-widgets-inline-margin);
    overflow: hidden;
    white-space: nowrap;
    text-align: center;
}

.widget-readout.overflow {
    /* Overflowing Readout */

    /* From Material Design Lite
        shadow-key-umbra-opacity: 0.2;
        shadow-key-penumbra-opacity: 0.14;
        shadow-ambient-shadow-opacity: 0.12;
     */
    -webkit-box-shadow: 0 2px 2px 0 rgba(0, 0, 0, 0.2),
                        0 3px 1px -2px rgba(0, 0, 0, 0.14),
                        0 1px 5px 0 rgba(0, 0, 0, 0.12);

    -moz-box-shadow: 0 2px 2px 0 rgba(0, 0, 0, 0.2),
                     0 3px 1px -2px rgba(0, 0, 0, 0.14),
                     0 1px 5px 0 rgba(0, 0, 0, 0.12);

    box-shadow: 0 2px 2px 0 rgba(0, 0, 0, 0.2),
                0 3px 1px -2px rgba(0, 0, 0, 0.14),
                0 1px 5px 0 rgba(0, 0, 0, 0.12);
}

.widget-inline-hbox .widget-readout {
    /* Horizontal Readout */
    text-align: center;
    max-width: var(--jp-widgets-inline-width-short);
    min-width: var(--jp-widgets-inline-width-tiny);
    margin-left: var(--jp-widgets-inline-margin);
}

.widget-inline-vbox .widget-readout {
    /* Vertical Readout */
    margin-top: var(--jp-widgets-inline-margin);
}

/* Widget Checkbox Styling */

.widget-checkbox {
    width: var(--jp-widgets-inline-width-short);
    height: var(--jp-widgets-inline-height);
    line-height: var(--jp-widgets-inline-height);
    justify-content: space-between;
}

.widget-checkbox input[type="checkbox"] {
    margin: 0px var(--jp-widgets-inline-margin) 0px var(--jp-widgets-inline-margin);
    line-height: var(--jp-widgets-inline-height);
    font-size: large;
    flex-grow: 1;
    flex-shrink: 0;
    align-self: center;
}

/* Widget Valid Styling */

.widget-valid {
    height: var(--jp-widgets-inline-height);
    line-height: var(--jp-widgets-inline-height);
    width: var(--jp-widgets-inline-width-short);
    font-size: var(--jp-widgets-font-size);
}

.widget-valid i:before {
    height: var(--jp-widgets-inline-height);
    line-height: var(--jp-widgets-inline-height);
    margin-right: var(--jp-widgets-inline-margin);
    margin-left: var(--jp-widgets-inline-margin);

    /* from the fa class in FontAwesome: https://github.com/FortAwesome/Font-Awesome/blob/49100c7c3a7b58d50baa71efef11af41a66b03d3/css/font-awesome.css#L14 */
    display: inline-block;
    font: normal normal normal 14px/1 FontAwesome;
    font-size: inherit;
    text-rendering: auto;
    -webkit-font-smoothing: antialiased;
    -moz-osx-font-smoothing: grayscale;
}

.widget-valid.mod-valid i:before {
    content: "\f00c";
    color: green;
}

.widget-valid.mod-invalid i:before {
    content: "\f00d";
    color: red;
}

.widget-valid.mod-valid .widget-valid-readout {
    display: none;
}

/* Widget Text and TextArea Stying */

.widget-textarea, .widget-text {
    width: var(--jp-widgets-inline-width);
}

.widget-text input[type="text"] {
    height: var(--jp-widgets-inline-height);
    line-height: var(--jp-widgets-inline-height);
}

.widget-text input[type="text"], .widget-textarea textarea {
    box-sizing: border-box;
    border: var(--jp-widgets-input-border-width) solid var(--jp-widgets-input-border-color);
    background-color: var(--jp-widgets-input-background-color);
    color: var(--jp-widgets-input-color);
    font-size: var(--jp-widgets-font-size);
    padding: var(--jp-widgets-input-padding) calc( var(--jp-widgets-input-padding) *  2 );
    flex-grow: 1;
    min-width: 0; /* This makes it possible for the flexbox to shrink this input */
    flex-shrink: 1;
    outline: none !important;
    line-height: 1.5;
}

.widget-textarea textarea {
    height: inherit;
    width: inherit;
}

.widget-text input:focus, .widget-textarea textarea:focus {
    border-color: var(--jp-widgets-input-focus-border-color);
}

/* Widget Slider */

.widget-slider .ui-slider {
    /* Slider Track */
    border: var(--jp-widgets-slider-border-width) solid var(--jp-layout-color3);
    background: var(--jp-layout-color3);
    box-sizing: border-box;
    position: relative;
    border-radius: 0px;
}

.widget-slider .ui-slider .ui-slider-handle {
    /* Slider Handle */
    outline: none !important; /* focused slider handles are colored - see below */
    position: absolute;
    background-color: var(--jp-widgets-slider-handle-background-color);
    border: var(--jp-widgets-slider-border-width) solid var(--jp-widgets-slider-handle-border-color);
    box-sizing: border-box;
    z-index: 1;
    background-image: none; /* Override jquery-ui */
}

/* Override jquery-ui */
.widget-slider .ui-slider .ui-slider-handle:hover, .widget-slider .ui-slider .ui-slider-handle:focus {
    background-color: var(--jp-widgets-slider-active-handle-color);
    border: var(--jp-widgets-slider-border-width) solid var(--jp-widgets-slider-active-handle-color);
}

.widget-slider .ui-slider .ui-slider-handle:active {
    background-color: var(--jp-widgets-slider-active-handle-color);
    border-color: var(--jp-widgets-slider-active-handle-color);
    z-index: 2;
    transform: scale(1.2);
}

.widget-slider  .ui-slider .ui-slider-range {
    /* Interval between the two specified value of a double slider */
    position: absolute;
    background: var(--jp-widgets-slider-active-handle-color);
    z-index: 0;
}

/* Shapes of Slider Handles */

.widget-hslider .ui-slider .ui-slider-handle {
    width: var(--jp-widgets-slider-handle-size);
    height: var(--jp-widgets-slider-handle-size);
    margin-top: calc((var(--jp-widgets-slider-track-thickness) - var(--jp-widgets-slider-handle-size)) / 2 - var(--jp-widgets-slider-border-width));
    margin-left: calc(var(--jp-widgets-slider-handle-size) / -2 + var(--jp-widgets-slider-border-width));
    border-radius: 50%;
    top: 0;
}

.widget-vslider .ui-slider .ui-slider-handle {
    width: var(--jp-widgets-slider-handle-size);
    height: var(--jp-widgets-slider-handle-size);
    margin-bottom: calc(var(--jp-widgets-slider-handle-size) / -2 + var(--jp-widgets-slider-border-width));
    margin-left: calc((var(--jp-widgets-slider-track-thickness) - var(--jp-widgets-slider-handle-size)) / 2 - var(--jp-widgets-slider-border-width));
    border-radius: 50%;
    left: 0;
}

.widget-hslider .ui-slider .ui-slider-range {
    height: calc( var(--jp-widgets-slider-track-thickness) * 2 );
    margin-top: calc((var(--jp-widgets-slider-track-thickness) - var(--jp-widgets-slider-track-thickness) * 2 ) / 2 - var(--jp-widgets-slider-border-width));
}

.widget-vslider .ui-slider .ui-slider-range {
    width: calc( var(--jp-widgets-slider-track-thickness) * 2 );
    margin-left: calc((var(--jp-widgets-slider-track-thickness) - var(--jp-widgets-slider-track-thickness) * 2 ) / 2 - var(--jp-widgets-slider-border-width));
}

/* Horizontal Slider */

.widget-hslider {
    width: var(--jp-widgets-inline-width);
    height: var(--jp-widgets-inline-height);
    line-height: var(--jp-widgets-inline-height);
}

.widgets-slider .slider-container {
    overflow: visible;
}

.widget-hslider .slider-container {
    height: var(--jp-widgets-inline-height);
    margin-left: calc(var(--jp-widgets-slider-handle-size) / 2 - 2 * var(--jp-widgets-slider-border-width));
    margin-right: calc(var(--jp-widgets-slider-handle-size) / 2 - 2 * var(--jp-widgets-slider-border-width));
    align-self: stretch;
    flex: 1 1 var(--jp-widgets-inline-width-short);
}

.widget-hslider .ui-slider {
    /* Inner, invisible slide div */
    height: var(--jp-widgets-slider-track-thickness);
    margin-top: calc((var(--jp-widgets-inline-height) - var(--jp-widgets-slider-track-thickness)) / 2);
    width: 100%;
}

/* Vertical Slider */

.widget-vbox .widget-label {
    height: var(--jp-widgets-inline-height);
    line-height: var(--jp-widgets-inline-height);
}

.widget-vslider {
    /* Vertical Slider */
    height: var(--jp-widgets-vertical-height);
    width: var(--jp-widgets-inline-width-tiny);
}

.widget-vslider .slider-container {
    flex: 1 1 var(--jp-widgets-inline-width-short);
    margin-left: auto;
    margin-right: auto;
    margin-bottom: calc(var(--jp-widgets-slider-handle-size) / 2 - 2 * var(--jp-widgets-slider-border-width));
    margin-top: calc(var(--jp-widgets-slider-handle-size) / 2 - 2 * var(--jp-widgets-slider-border-width));
}

.widget-vslider .ui-slider {
    /* Inner, invisible slide div */
    width: var(--jp-widgets-slider-track-thickness);
    height: 100%;
    margin-left: auto;
    margin-right: auto;
}

/* Widget Progress Styling */

.progress-bar {
    -webkit-transition: none;
    -moz-transition: none;
    -ms-transition: none;
    -o-transition: none;
    transition: none;
}

.progress-bar {
    height: var(--jp-widgets-inline-height);
}

.progress-bar {
    background-color: var(--jp-brand-color1);
}

.progress-bar-success {
    background-color: var(--jp-success-color1);
}

.progress-bar-info {
    background-color: var(--jp-info-color1);
}

.progress-bar-warning {
    background-color: var(--jp-warn-color1);
}

.progress-bar-danger {
    background-color: var(--jp-error-color1);
}

.progress {
    background-color: var(--jp-layout-color2);
    border: none;
    box-shadow: none;
}

/* Horisontal Progress */

.widget-hprogress {
    /* Progress Bar */
    height: var(--jp-widgets-inline-height);
    line-height: var(--jp-widgets-inline-height);
    width: var(--jp-widgets-inline-width);
}

.widget-hprogress .progress {
    flex-grow: 1;
    height: var(--jp-widgets-progress-thickness);
    margin-top: auto;
    margin-bottom: auto;
}

/* Vertical Progress */

.widget-vprogress {
    height: var(--jp-widgets-vertical-height);
    width: var(--jp-widgets-inline-width-tiny);
}

.widget-vprogress .progress {
    flex-grow: 1;
    width: var(--jp-widgets-progress-thickness);
    margin-left: auto;
    margin-right: auto;
    margin-bottom: 0;
}

/* Select Widget Styling */

.widget-select {
    width: var(--jp-widgets-inline-width);
    height: var(--jp-widgets-inline-height);
    line-height: var(--jp-widgets-inline-height);
}

.widget-select select {
    border: var(--jp-widgets-input-border-width) solid var(--jp-widgets-input-border-color);
    border-radius: 0;
    height: var(--jp-widgets-inline-height);
    flex: 1 1 var(--jp-widgets-inline-width-short);
    min-width: 0; /* This makes it possible for the flexbox to shrink this input */
    box-sizing: border-box;
    outline: none !important;
    box-shadow: none;
    background-color: var(--jp-widgets-input-background-color);
    color: var(--jp-widgets-input-color);
    font-size: var(--jp-widgets-font-size);
    vertical-align: top;
    padding-left: calc( var(--jp-widgets-input-padding) * 2);
	appearance: none;
	-webkit-appearance: none;
	-moz-appearance: none;
    background-repeat: no-repeat;
	background-size: 20px;
	background-position: right center;
    background-image: url("data:image/svg+xml;base64,PD94bWwgdmVyc2lvbj0iMS4wIiBlbmNvZGluZz0idXRmLTgiPz4KPCEtLSBHZW5lcmF0b3I6IEFkb2JlIElsbHVzdHJhdG9yIDE5LjIuMSwgU1ZHIEV4cG9ydCBQbHVnLUluIC4gU1ZHIFZlcnNpb246IDYuMDAgQnVpbGQgMCkgIC0tPgo8c3ZnIHZlcnNpb249IjEuMSIgaWQ9IkxheWVyXzEiIHhtbG5zPSJodHRwOi8vd3d3LnczLm9yZy8yMDAwL3N2ZyIgeG1sbnM6eGxpbms9Imh0dHA6Ly93d3cudzMub3JnLzE5OTkveGxpbmsiIHg9IjBweCIgeT0iMHB4IgoJIHZpZXdCb3g9IjAgMCAxOCAxOCIgc3R5bGU9ImVuYWJsZS1iYWNrZ3JvdW5kOm5ldyAwIDAgMTggMTg7IiB4bWw6c3BhY2U9InByZXNlcnZlIj4KPHN0eWxlIHR5cGU9InRleHQvY3NzIj4KCS5zdDB7ZmlsbDpub25lO30KPC9zdHlsZT4KPHBhdGggZD0iTTUuMiw1LjlMOSw5LjdsMy44LTMuOGwxLjIsMS4ybC00LjksNWwtNC45LTVMNS4yLDUuOXoiLz4KPHBhdGggY2xhc3M9InN0MCIgZD0iTTAtMC42aDE4djE4SDBWLTAuNnoiLz4KPC9zdmc+Cg");
}

.widget-select select:focus {
    border-color: var(--jp-widgets-input-focus-border-color);
}

/* To disable the dotted border in Firefox around select controls.
   See http://stackoverflow.com/a/18853002 */
.widget-select select:-moz-focusring {
    color: transparent;
    text-shadow: 0 0 0 #000;
}

.widget-select select option:checked {
    color: var(--jp-ui-font-color0);
    background: var(--jp-layout-color0) repeat url("data:image/gif;base64,R0lGO...");
}

/* Select Multiple */

.widget-select-multiple {
    width: var(--jp-widgets-inline-width);
    line-height: var(--jp-widgets-inline-height);
}

.widget-select-multiple select {
    border: var(--jp-widgets-input-border-width) solid var(--jp-widgets-input-border-color);
    background-color: var(--jp-widgets-input-background-color);
    color: var(--jp-widgets-input-color);
    font-size: var(--jp-widgets-font-size);
    flex: 1 1 var(--jp-widgets-inline-width-short);
    outline: none !important;
    overflow: auto;
}

.widget-select-multiple select:focus {
    border-color: var(--jp-widgets-input-focus-border-color);
}

.widget-select-multiple select option:checked {
    color: var(--jp-ui-font-color0);
    background: var(--jp-layout-color0) repeat url("data:image/gif;base64,R0lGO...");
}

.wiget-select-multiple select option {
    padding-left: var(--jp-widgets-input-padding);
    line-height: var(--jp-widgets-inline-height);
    /* line-height doesn't work on some browsers for select options */
    padding-top: calc(var(--jp-widgets-inline-height)-var(--jp-widgets-font-size)/2);
    padding-bottom: calc(var(--jp-widgets-inline-height)-var(--jp-widgets-font-size)/2);
}



/* Toggle Buttons Styling */

.widget-toggle-buttons {
    line-height: var(--jp-widgets-inline-height);
}

.widget-toggle-buttons .widget-toggle-button {
    margin-left: var(--jp-widgets-margin);
    margin-right: var(--jp-widgets-margin);
}

/* Radio Buttons Styling */

.widget-radio {
    width: var(--jp-widgets-inline-width);
    line-height: var(--jp-widgets-inline-height);
}

.widget-radio-box {
    display: flex;
    flex-direction: column;
    align-items: stretch;
    box-sizing: border-box;
    flex-grow: 1;
}

.widget-radio-box label {
    height: var(--jp-widgets-inline-height);
    line-height: var(--jp-widgets-inline-height);
    font-size: var(--jp-widgets-font-size);
}

.widget-radio-box input {
    height: var(--jp-widgets-inline-height);
    line-height: var(--jp-widgets-inline-height);
    margin: 0 var(--jp-widgets-input-padding) 0 var(--jp-widgets-input-padding);
    float: left;
}

/* Color Picker Styling */

.widget-colorpicker {
    width: var(--jp-widgets-inline-width);
    height: var(--jp-widgets-inline-height);
    line-height: var(--jp-widgets-inline-height);
}

.widget-colorpicker > .widget-colorpicker-input {
    flex-grow: 1;
    flex-shrink: 1;
    min-width: var(--jp-widgets-inline-width-tiny);
}

.widget-colorpicker input[type="color"] {
    width: var(--jp-widgets-inline-height);
    height: var(--jp-widgets-inline-height);
    padding: 0 2px; /* make the color square actually square on Chrome on OS X */
    background: var(--jp-widgets-input-background-color);
    color: var(--jp-widgets-input-color);
    border: var(--jp-widgets-input-border-width) solid var(--jp-widgets-input-border-color);
    border-left: none;
    flex-grow: 0;
    flex-shrink: 0;
    box-sizing: border-box;
    align-self: stretch;
    outline: none !important;
}

.widget-colorpicker.concise input[type="color"] {
    border-left: var(--jp-widgets-input-border-width) solid var(--jp-widgets-input-border-color);
}

.widget-colorpicker input[type="color"]:focus, .widget-colorpicker input[type="text"]:focus {
    border-color: var(--jp-widgets-input-focus-border-color);
}

.widget-colorpicker input[type="text"] {
    flex-grow: 1;
    outline: none !important;
    height: var(--jp-widgets-inline-height);
    line-height: var(--jp-widgets-inline-height);
    background: var(--jp-widgets-input-background-color);
    color: var(--jp-widgets-input-color);
    border: var(--jp-widgets-input-border-width) solid var(--jp-widgets-input-border-color);
    font-size: var(--jp-widgets-font-size);
    padding: var(--jp-widgets-input-padding) calc( var(--jp-widgets-input-padding) *  2 );
    min-width: 0; /* This makes it possible for the flexbox to shrink this input */
    flex-shrink: 1;
    box-sizing: border-box;
}

/* Date Picker Styling */

.widget-datepicker {
    width: var(--jp-widgets-inline-width);
    height: var(--jp-widgets-inline-height);
    line-height: var(--jp-widgets-inline-height);
}

.widget-datepicker input[type="date"] {
    flex-grow: 1;
    flex-shrink: 1;
    min-width: 0; /* This makes it possible for the flexbox to shrink this input */
    outline: none !important;
    height: var(--jp-widgets-inline-height);
    border: var(--jp-widgets-input-border-width) solid var(--jp-widgets-input-border-color);
    background-color: var(--jp-widgets-input-background-color);
    color: var(--jp-widgets-input-color);
    font-size: var(--jp-widgets-font-size);
    padding: var(--jp-widgets-input-padding) calc( var(--jp-widgets-input-padding) *  2 );
    box-sizing: border-box;
}

.widget-datepicker input[type="date"]:focus {
    border-color: var(--jp-widgets-input-focus-border-color);
}

/* Play Widget */

.widget-play {
    min-width: var(--jp-widgets-inline-width-short);
    display: flex;
    justify-content: space-between;
}

.widget-play .jupyter-button {
    min-width: calc(var(--jp-widgets-inline-width-short) / 3 - 2 * var(--jp-widgets-margin));
    text-align: center;
}

/* Tab Widget */

.jupyter-widgets .p-TabBar {
    overflow-x: visible;
    overflow-y: visible;
}

.jupyter-widgets.widget-tab .p-TabBar.p-mod-horizontal > .p-TabBar-content {
    align-items: flex-end;
    margin-bottom: 0;
}

.jupyter-widgets.widget-tab .widget-tab-contents {
    width: 100%;
    box-sizing: border-box;
    margin: 0;
    background: var(--jp-layout-color1);
    color: var(--jp-ui-font-color1);
    border: var(--jp-border-width) solid var(--jp-border-color1);
    padding: var(--jp-widgets-container-padding);
}

.jupyter-widgets.widget-tab .widget-tab-contents .widget-tab-child.p-mod-hidden {
    display: none !important;
}

.jupyter-widgets.widget-tab .widget-tab-bar.p-TabBar {
    font: var(--jp-widgets-font-size) Helvetica, Arial, sans-serif;
}

.jupyter-widgets.widget-tab .p-TabBar-tab {
    flex: 0 1 var(--jp-widgets-horizontal-tab-width);
    min-width: 35px;
    min-height: calc(var(--jp-widgets-horizontal-tab-height) + var(--jp-border-width));
    line-height: var(--jp-widgets-horizontal-tab-height);
    margin-left: calc(-1 * var(--jp-border-width));
    padding: 0px 10px;
    background: var(--jp-layout-color2);
    color: var(--jp-ui-font-color2);
    border: var(--jp-border-width) solid var(--jp-border-color1);
    border-bottom: none;
    position: relative;
}

.jupyter-widgets.widget-tab .p-TabBar-tab.p-mod-current {
    color: var(--jp-ui-font-color0);
    /* We want the background to match the tab content background */
    background: var(--jp-layout-color1);
    min-height: calc(var(--jp-widgets-horizontal-tab-height) + 2 * var(--jp-border-width));
    transform: translateY(var(--jp-border-width));
}

.jupyter-widgets.widget-tab .p-TabBar-tab.p-mod-current:before {
    position: absolute;
    top: calc(-1 * var(--jp-border-width));
    left: calc(-1 * var(--jp-border-width));
    content: '';
    height: var(--jp-widgets-horizontal-tab-top-border);
    width: calc(100% + 2 * var(--jp-border-width));
    background: var(--jp-brand-color1);
}

.jupyter-widgets.widget-tab .p-TabBar-tab:first-child {
    margin-left: 0;
}

.jupyter-widgets.widget-tab .p-TabBar-tab:hover:not(.p-mod-current) {
    background: var(--jp-layout-color1);
    color: var(--jp-ui-font-color1);
}

.jupyter-widgets.widget-tab.p-mod-closable > .p-TabBar-tabCloseIcon {
    margin-left: 4px;
}

.jupyter-widgets.widget-tab.p-mod-closable > .p-TabBar-tabCloseIcon:before {
    font-family: FontAwesome;
    content: '\f00d'; /* close */
}

.jupyter-widgets.widget-tab .p-TabBar-tabIcon,
.jupyter-widgets.widget-tab .p-TabBar-tabLabel,
.jupyter-widgets.widget-tab .p-TabBar-tabCloseIcon {
    line-height: var(--jp-widgets-horizontal-tab-height);
}

/* Accordion Widget */

.p-Collapse {
    display: flex;
    flex-direction: column;
    align-items: stretch;
}

.p-Collapse-header {
    padding: var(--jp-widgets-input-padding);
    cursor: pointer;
    color: var(--jp-ui-font-color2);
    background-color: var(--jp-layout-color2);
    border: var(--jp-widgets-border-width) solid var(--jp-border-color1);
    padding: calc(var(--jp-widgets-container-padding) * 2 / 3) var(--jp-widgets-container-padding);
    font-weight: bold;
}

.p-Collapse-header:hover {
    background-color: var(--jp-layout-color1);
    color: var(--jp-ui-font-color1);
}

.p-Collapse-open .p-Collapse-header {
    background-color: var(--jp-layout-color1);
    color: var(--jp-ui-font-color0);
    cursor: default;
    border-bottom: none;
}

.p-Collapse .p-Collapse-header::before {
    content: '\f0da\00A0';  /* caret-right, non-breaking space */
    display: inline-block;
    font: normal normal normal 14px/1 FontAwesome;
    font-size: inherit;
    text-rendering: auto;
    -webkit-font-smoothing: antialiased;
    -moz-osx-font-smoothing: grayscale;
}

.p-Collapse-open .p-Collapse-header::before {
    content: '\f0d7\00A0'; /* caret-down, non-breaking space */
}

.p-Collapse-contents {
    padding: var(--jp-widgets-container-padding);
    background-color: var(--jp-layout-color1);
    color: var(--jp-ui-font-color1);
    border-left: var(--jp-widgets-border-width) solid var(--jp-border-color1);
    border-right: var(--jp-widgets-border-width) solid var(--jp-border-color1);
    border-bottom: var(--jp-widgets-border-width) solid var(--jp-border-color1);
}

.p-Accordion {
    display: flex;
    flex-direction: column;
    align-items: stretch;
}

.p-Accordion .p-Collapse {
    margin-bottom: 0;
}

.p-Accordion .p-Collapse + .p-Collapse {
    margin-top: 4px;
}



/* HTML widget */

.widget-html, .widget-htmlmath {
    font-size: var(--jp-widgets-font-size);
}

/*# sourceMappingURL=data:application/json;base64,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 */</style><style>/* Copyright (c) Jupyter Development Team.
 * Distributed under the terms of the Modified BSD License.
 */

/* We import all of these together in a single css file because the Webpack
loader sees only one file at a time. This allows postcss to see the variable
definitions when they are used. */

/*# sourceMappingURL=data:application/json;base64,eyJ2ZXJzaW9uIjozLCJzb3VyY2VzIjpbIndlYnBhY2s6Ly8uLy4uL2p1cHl0ZXItanMtd2lkZ2V0cy9jc3Mvd2lkZ2V0cy5jc3MiXSwibmFtZXMiOltdLCJtYXBwaW5ncyI6IkFBQUE7O0VBRUU7O0FBRUY7O2lDQUVpQyIsInNvdXJjZXNDb250ZW50IjpbIi8qIENvcHlyaWdodCAoYykgSnVweXRlciBEZXZlbG9wbWVudCBUZWFtLlxuICogRGlzdHJpYnV0ZWQgdW5kZXIgdGhlIHRlcm1zIG9mIHRoZSBNb2RpZmllZCBCU0QgTGljZW5zZS5cbiAqL1xuXG4vKiBXZSBpbXBvcnQgYWxsIG9mIHRoZXNlIHRvZ2V0aGVyIGluIGEgc2luZ2xlIGNzcyBmaWxlIGJlY2F1c2UgdGhlIFdlYnBhY2tcbmxvYWRlciBzZWVzIG9ubHkgb25lIGZpbGUgYXQgYSB0aW1lLiBUaGlzIGFsbG93cyBwb3N0Y3NzIHRvIHNlZSB0aGUgdmFyaWFibGVcbmRlZmluaXRpb25zIHdoZW4gdGhleSBhcmUgdXNlZC4gKi9cblxuQGltcG9ydCBcIi4vbGFidmFyaWFibGVzLmNzc1wiO1xuQGltcG9ydCBcIi4vd2lkZ2V0cy1iYXNlLmNzc1wiO1xuIl0sInNvdXJjZVJvb3QiOiIifQ== */</style><link id="favicon" type="image/x-icon" rel="shortcut icon" href="http://localhost:8889/static/base/images/favicon-notebook.ico"></head>

<body class="notebook_app command_mode" data-jupyter-api-token="e919e19c0e0159983fc0d4082c314a6c482b20e9a3edf94f" data-base-url="/" data-ws-url="" data-notebook-name="PyPro-SCiDaS-lec_05_flow_control_and_loops.ipynb" data-notebook-path="Downloads/PyPro-SCiDaS-lec_05_flow_control_and_loops.ipynb" dir="ltr"><div style="visibility: hidden; overflow: hidden; position: absolute; top: 0px; height: 1px; width: auto; padding: 0px; border: 0px; margin: 0px; text-align: left; text-indent: 0px; text-transform: none; line-height: normal; letter-spacing: normal; word-spacing: normal;"><div id="MathJax_Hidden"></div></div><div id="MathJax_Message" style="display: none;"></div>

<noscript>
    <div id='noscript'>
      Jupyter Notebook requires JavaScript.<br>
      Please enable it to proceed. 
  </div>
</noscript>

<div id="header" role="navigation" aria-label="Top Menu" style="display: block;">
  <div id="header-container" class="container">
  <div id="ipython_notebook" class="nav navbar-brand"><a href="http://localhost:8889/tree?token=e919e19c0e0159983fc0d4082c314a6c482b20e9a3edf94f" title="dashboard">
      <img src="george.a.ayinbangre-day04-report_files/logo.png" alt="Jupyter Notebook">
  </a></div>

  


<span id="save_widget" class="save_widget">
    <span id="notebook_name" class="filename">PyPro-SCiDaS-lec_05_flow_control_and_loops</span>
    <span class="checkpoint_status" title="Thu, Oct 16, 2025 12:56 PM">Last Checkpoint: 10/16/2025</span>
    <span class="autosave_status">(autosaved)</span>
</span>


  

<span id="kernel_logo_widget">
  
  <img class="current_kernel_logo" alt="Current Kernel Logo" src="george.a.ayinbangre-day04-report_files/logo-64x64.png" title="Python 3 (ipykernel)" style="display: inline;">
  
</span>


  
  
  
  

    <span id="login_widget">
      
        <button id="logout" class="btn btn-sm navbar-btn">Logout</button>
      
    </span>

  

  
  
  </div>
  <div class="header-bar"></div>

  
<div id="menubar-container" class="container">
<div id="menubar">
    <div id="menus" class="navbar navbar-default" role="navigation">
        <div class="container-fluid">
            <button type="button" class="btn btn-default navbar-btn navbar-toggle" data-toggle="collapse" data-target=".navbar-collapse">
              <i class="fa fa-bars"></i>
              <span class="navbar-text">Menu</span>
            </button>
            <p id="kernel_indicator" class="navbar-text indicator_area">
              <span class="kernel_indicator_name">Python 3 (ipykernel)</span>
              <i id="kernel_indicator_icon" class="kernel_idle_icon" title="Kernel Idle"></i>
            </p>
            <i id="readonly-indicator" class="navbar-text" title="This notebook is read-only" style="display: none;">
                <span class="fa-stack">
                    <i class="fa fa-save fa-stack-1x"></i>
                    <i class="fa fa-ban fa-stack-2x text-danger"></i>
                </span>
            </i>
            <i id="modal_indicator" class="navbar-text modal_indicator" title="Command Mode"></i>
            <span id="notification_area"><div id="notification_kernel" class="notification_widget btn btn-xs navbar-btn undefined info" style="display: none;"><span></span></div><div id="notification_notebook" class="notification_widget btn btn-xs navbar-btn" style="display: none;"><span></span></div><div id="notification_trusted" class="notification_widget btn btn-xs navbar-btn" style="cursor: help;" disabled="disabled"><span title="Javascript enabled for notebook display">Trusted</span></div><div id="notification_widgets" class="notification_widget btn btn-xs navbar-btn" style="display: none;"><span></span></div></span>
            <div class="navbar-collapse collapse">
              <ul class="nav navbar-nav">
                <li class="dropdown"><a href="#" class="dropdown-toggle" id="filelink" data-toggle="dropdown" aria-haspopup="true" aria-controls="file_menu">File</a>
                    <ul id="file_menu" class="dropdown-menu" role="menu" aria-labelledby="filelink">
                        <li id="new_notebook" class="menu_focus_highlight dropdown dropdown-submenu" role="none">
                            <a href="#" role="menuitem" aria-haspopup="true" aria-expanded="false" class="dropdown-toggle" data-toggle="dropdown">New Notebook<span class="sr-only">Dropdown</span></a>
                            <ul class="dropdown-menu" id="menu-new-notebook-submenu" role="menu">
                            <li id="new-notebook-submenu-python3"><a href="#">Python 3 (ipykernel)</a></li></ul>
                        </li>
                        <li id="open_notebook" role="none" title="Opens a new window with the Dashboard view">
                            <a href="#" role="menuitem">Open...</a></li>
                        <!-- <hr/> -->
                        <li class="divider" role="none"></li>
                        <li id="copy_notebook" role="none" title="Open a copy of this notebook's contents and start a new kernel">
                            <a href="#" role="menuitem">Make a Copy...</a></li>
                        <li id="save_notebook_as" role="none" title="Save a copy of the notebook's contents and start a new kernel">
                            <a href="#" role="menuitem">Save as...</a></li>
                        <li id="rename_notebook" role="none"><a href="#" role="menuitem">Rename...</a></li>
                        <li id="save_checkpoint" role="none"><a href="#" role="menuitem" class="menu-shortcut-container"><span class="action">Save and Checkpoint</span><span class="kb"><kbd>Ctrl-S</kbd></span></a></li>
                        <!-- <hr/> -->
                        <li class="divider" role="none"></li>
                        <li id="restore_checkpoint" class="menu_focus_highlight dropdown-submenu" role="none"><a href="#" role="menuitem" aria-haspopup="true" aria-expanded="false" class="dropdown-toggle" data-toggle="dropdown">Revert to Checkpoint<span class="sr-only">Dropdown</span></a>
                          <ul class="dropdown-menu"><li><a href="#">Thursday, October 16, 2025 12:56 PM</a></li></ul>
                        </li>
                        <li class="divider" role="none"></li>
                        <li id="print_preview" role="none"><a href="#" role="menuitem">Print Preview</a></li>
                        <li class="dropdown-submenu menu_focus_highlight" role="none"><a href="#" role="menuitem" aria-haspopup="true" aria-expanded="false" class="dropdown-toggle" data-toggle="dropdown">Download as<span class="sr-only">Dropdown</span></a>
                            <ul id="download_menu" class="dropdown-menu">
                                
                                <li id="download_asciidoc">
                                    <a href="#">AsciiDoc (.asciidoc)</a>
                                </li>
                                
                                <li id="download_html">
                                    <a href="#">HTML (.html)</a>
                                </li>
                                
                                <li id="download_latex">
                                    <a href="#">LaTeX (.tex)</a>
                                </li>
                                
                                <li id="download_markdown">
                                    <a href="#">Markdown (.md)</a>
                                </li>
                                
                                <li id="download_notebook">
                                    <a href="#">Notebook (.ipynb)</a>
                                </li>
                                
                                <li id="download_pdf">
                                    <a href="#">PDF via LaTeX (.pdf)</a>
                                </li>
                                
                                <li id="download_rst">
                                    <a href="#">reST (.rst)</a>
                                </li>
                                
                                <li id="download_script">
                                    <a href="#">Python (.py)</a>
                                </li>
                                
                                <li id="download_slides">
                                    <a href="#">Reveal.js slides (.slides.html)</a>
                                </li>
                                
                                <li id="download_webpdf">
                                    <a href="#">PDF via HTML (.html)</a>
                                </li>
                                
                            </ul>
                        </li>
                        <li class="dropdown-submenu hidden" role="none"><a href="#" role="menuitem">Deploy as</a>
                            <ul id="deploy_menu" class="dropdown-menu"></ul>
                        </li>
                        <li class="divider" role="none"></li>
                        <li id="trust_notebook" role="none" title="Trust the output of this notebook" class="disabled">
                            <a href="#" role="menuitem">Trusted Notebook</a></li>
                        <li class="divider" role="none"></li>
                        <li id="close_and_halt" role="none" title="Shutdown this notebook's kernel, and close this window">
                            <a href="#" role="menuitem">Close and Halt</a></li>
                    </ul>
                </li>

                <li class="dropdown"><a href="#" class="dropdown-toggle" id="editlink" data-toggle="dropdown" aria-haspopup="true" aria-controls="edit_menu">Edit</a>
                    <ul id="edit_menu" class="dropdown-menu" role="menu" aria-labelledby="editlink">
                        <li id="cut_cell" role="none"><a href="#" role="menuitem" class="menu-shortcut-container"><span class="action">Cut Cells</span><span class="kb"><kbd>X</kbd></span></a></li>
                        <li id="copy_cell" role="none"><a href="#" role="menuitem" class="menu-shortcut-container"><span class="action">Copy Cells</span><span class="kb"><kbd>C</kbd></span></a></li>
                        <li id="paste_cell_above" class="disabled" role="none"><a href="#" role="menuitem" aria-disabled="true" class="menu-shortcut-container"><span class="action">Paste Cells Above</span><span class="kb"><kbd>Shift-V</kbd></span></a></li>
                        <li id="paste_cell_below" class="disabled" role="none"><a href="#" role="menuitem" aria-disabled="true" class="menu-shortcut-container"><span class="action">Paste Cells Below</span><span class="kb"><kbd>V</kbd></span></a></li>
                        <li id="paste_cell_replace" class="disabled" role="none"><a href="#" role="menuitem" aria-disabled="true">Paste Cells &amp; Replace</a></li>
                        <li id="delete_cell" role="none"><a href="#" role="menuitem" class="menu-shortcut-container"><span class="action">Delete Cells</span><span class="kb"><kbd>D</kbd>,<kbd>D</kbd></span></a></li>
                        <li id="undelete_cell" class="disabled" role="none"><a href="#" role="menuitem" aria-disabled="true" class="menu-shortcut-container"><span class="action">Undo Delete Cells</span><span class="kb"><kbd>Z</kbd></span></a></li>
                        <li class="divider" role="none"></li>
                        <li id="split_cell" role="none"><a href="#" role="menuitem" class="menu-shortcut-container"><span class="action">Split Cell</span><span class="kb"><kbd>Ctrl-Shift-Minus</kbd></span></a></li>
                        <li id="merge_cell_above" role="none"><a href="#" role="menuitem">Merge Cell Above</a></li>
                        <li id="merge_cell_below" role="none"><a href="#" role="menuitem">Merge Cell Below</a></li>
                        <li class="divider" role="none"></li>
                        <li id="move_cell_up" role="none"><a href="#" role="menuitem">Move Cell Up</a></li>
                        <li id="move_cell_down" role="none"><a href="#" role="menuitem">Move Cell Down</a></li>
                        <li class="divider" role="none"></li>
                        <li id="edit_nb_metadata" role="none"><a href="#" role="menuitem">Edit Notebook Metadata</a></li>
                        <li class="divider" role="none"></li>
                        <li id="find_and_replace" role="none"><a href="#" role="menuitem"> Find and Replace </a></li>
                        <li class="divider" role="none"></li>
                        <li id="cut_cell_attachments" role="none"><a href="#" role="menuitem">Cut Cell Attachments</a></li>
                        <li id="copy_cell_attachments" role="none"><a href="#" role="menuitem">Copy Cell Attachments</a></li>
                        <li id="paste_cell_attachments" class="disabled" role="none"><a href="#" role="menuitem" aria-disabled="true">Paste Cell Attachments</a></li>
                        <li class="divider" role="none"></li>
                        <li id="insert_image" class="disabled" role="none"><a href="#" role="menuitem" aria-disabled="true">  Insert Image </a></li>
                    </ul>
                </li>
                <li class="dropdown"><a href="#" class="dropdown-toggle" id="viewlink" data-toggle="dropdown" aria-haspopup="true" aria-controls="view_menu">View</a>
                    <ul id="view_menu" class="dropdown-menu" role="menu" aria-labelledby="viewlink">
                        <li id="toggle_header" role="none" title="Show/Hide the logo and notebook title (above menu bar)">
                            <a href="#" role="menuitem">Toggle Header</a>
                        </li>
                        <li id="toggle_toolbar" role="none" title="Show/Hide the action icons (below menu bar)">
                            <a href="#" role="menuitem">Toggle Toolbar</a>
                        </li>
                        <li id="toggle_line_numbers" role="none" title="Show/Hide line numbers in cells">
                            <a href="#" role="menuitem" class="menu-shortcut-container"><span class="action">Toggle Line Numbers</span><span class="kb"><kbd>Shift-L</kbd></span></a>
                        </li>
                        <li id="menu-cell-toolbar" class="menu_focus_highlight dropdown-submenu" role="none">
                            <a href="#" role="menuitem" aria-haspopup="true" aria-expanded="false" class="dropdown-toggle" data-toggle="dropdown">Cell Toolbar</a>
                            <ul class="dropdown-menu" id="menu-cell-toolbar-submenu"><li data-name="None"><a href="#">None</a></li><li data-name="Edit%20Metadata"><a href="#">Edit Metadata</a></li><li data-name="Raw%20Cell%20Format"><a href="#">Raw Cell Format</a></li><li data-name="Slideshow"><a href="#">Slideshow</a></li><li data-name="Attachments"><a href="#">Attachments</a></li><li data-name="Tags"><a href="#">Tags</a></li></ul>
                        </li>
                    </ul>
                </li>
                <li class="dropdown"><a href="#" class="dropdown-toggle" id="insertlink" data-toggle="dropdown" aria-haspopup="true" aria-controls="insert_menu">Insert</a>
                    <ul id="insert_menu" class="dropdown-menu" role="menu" aria-labelledby="insertlink">
                        <li id="insert_cell_above" role="none" title="Insert an empty Code cell above the currently active cell">
                            <a href="#" role="menuitem" class="menu-shortcut-container"><span class="action">Insert Cell Above</span><span class="kb"><kbd>A</kbd></span></a></li>
                        <li id="insert_cell_below" role="none" title="Insert an empty Code cell below the currently active cell">
                            <a href="#" role="menuitem" class="menu-shortcut-container"><span class="action">Insert Cell Below</span><span class="kb"><kbd>B</kbd></span></a></li>
                    </ul>
                </li>
                <li class="dropdown"><a href="#" class="dropdown-toggle" id="celllink" data-toggle="dropdown" aria-haspopup="true" aria-controls="cell_menu">Cell</a>
                    <ul id="cell_menu" class="dropdown-menu" role="menu" aria-labelledby="celllink">
                        <li id="run_cell" role="none" title="Run this cell, and move cursor to the next one">
                            <a role="menuitem" href="#" class="menu-shortcut-container"><span class="action">Run Cells</span><span class="kb"><kbd>Ctrl-Enter</kbd></span></a></li>
                        <li id="run_cell_select_below" role="none" title="Run this cell, select below">
                            <a href="#" role="menuitem" class="menu-shortcut-container"><span class="action">Run Cells and Select Below</span><span class="kb"><kbd>Shift-Enter</kbd></span></a></li>
                        <li id="run_cell_insert_below" role="none" title="Run this cell, insert below">
                            <a href="#" role="menuitem" class="menu-shortcut-container"><span class="action">Run Cells and Insert Below</span><span class="kb"><kbd>Alt-Enter</kbd></span></a></li>
                        <li id="run_all_cells" role="none" title="Run all cells in the notebook">
                            <a href="#" role="menuitem">Run All</a></li>
                        <li id="run_all_cells_above" role="none" title="Run all cells above (but not including) this cell">
                            <a href="#" role="menuitem">Run All Above</a></li>
                        <li id="run_all_cells_below" role="none" title="Run this cell and all cells below it">
                            <a href="#" role="menuitem">Run All Below</a></li>
                        <li class="divider" role="none"></li>
                        <li id="change_cell_type" class="menu_focus_highlight dropdown-submenu" role="none" title="All cells in the notebook have a cell type. By default, new cells are created as 'Code' cells">
                            <a href="#" role="menuitem" aria-haspopup="true" aria-expanded="false" class="dropdown-toggle" data-toggle="dropdown">Cell Type</a>
                            <ul class="dropdown-menu" role="menu">
                              <li id="to_code" role="none" title="Contents will be sent to the kernel for execution, and output will display in the footer of cell">
                                  <a href="#" class="menu-shortcut-container"><span class="action">Code</span><span class="kb"><kbd>Y</kbd></span></a></li>
                              <li id="to_markdown" title="Contents will be rendered as HTML and serve as explanatory text">
                                  <a href="#" class="menu-shortcut-container"><span class="action">Markdown</span><span class="kb"><kbd>M</kbd></span></a></li>
                              <li id="to_raw" title="Contents will pass through nbconvert unmodified">
                                  <a href="#" class="menu-shortcut-container"><span class="action">Raw NBConvert</span><span class="kb"><kbd>R</kbd></span></a></li>
                            </ul>
                        </li>
                        <li class="divider" role="none"></li>
                        <li id="current_outputs" class="menu_focus_highlight dropdown-submenu" role="none"><a href="#" role="menuitem" aria-haspopup="true" aria-expanded="false" class="dropdown-toggle" data-toggle="dropdown">Current Outputs</a>
                            <ul class="dropdown-menu" role="menu">
                                <li id="toggle_current_output" role="none" title="Hide/Show the output of the current cell">
                                    <a href="#" class="menu-shortcut-container"><span class="action">Toggle</span><span class="kb"><kbd>O</kbd></span></a>
                                </li>
                                <li id="toggle_current_output_scroll" title="Scroll the output of the current cell">
                                    <a href="#" class="menu-shortcut-container"><span class="action">Toggle Scrolling</span><span class="kb"><kbd>Shift-O</kbd></span></a>
                                </li>
                                <li id="clear_current_output" title="Clear the output of the current cell">
                                    <a href="#">Clear</a>
                                </li>
                            </ul>
                        </li>
                        <li id="all_outputs" class="menu_focus_highlight dropdown-submenu" role="none"><a href="#" role="menuitem" aria-haspopup="true" aria-expanded="false" class="dropdown-toggle" data-toggle="dropdown">All Output</a>
                            <ul class="dropdown-menu" role="menu">
                                <li id="toggle_all_output" role="none" title="Hide/Show the output of all cells">
                                    <a href="#">Toggle</a>
                                </li>
                                <li id="toggle_all_output_scroll" title="Scroll the output of all cells">
                                    <a href="#">Toggle Scrolling</a>
                                </li>
                                <li id="clear_all_output" title="Clear the output of all cells">
                                    <a href="#">Clear</a>
                                </li>
                            </ul>
                        </li>
                    </ul>
                </li>
                <li class="dropdown"><a href="#" class="dropdown-toggle" data-toggle="dropdown" id="kernellink">Kernel</a>
                    <ul id="kernel_menu" class="dropdown-menu" aria-labelledby="kernellink">
                        <li id="int_kernel" title="Send Keyboard Interrupt (CTRL-C) to the Kernel">
                            <a href="#" class="menu-shortcut-container"><span class="action">Interrupt</span><span class="kb"><kbd>I</kbd>,<kbd>I</kbd></span></a>
                        </li>
                        <li id="restart_kernel" title="Restart the Kernel">
                            <a href="#" class="menu-shortcut-container"><span class="action">Restart</span><span class="kb"><kbd>0</kbd>,<kbd>0</kbd></span></a>
                        </li>
                        <li id="restart_clear_output" title="Restart the Kernel and clear all output">
                            <a href="#">Restart &amp; Clear Output</a>
                        </li>
                        <li id="restart_run_all" title="Restart the Kernel and re-run the notebook">
                            <a href="#">Restart &amp; Run All</a>
                        </li>
                        <li id="reconnect_kernel" title="Reconnect to the Kernel">
                            <a href="#">Reconnect</a>
                        </li>
                        <li id="shutdown_kernel" title="Shutdown the Kernel">
                            <a href="#">Shutdown</a>
                        </li>
                        <li class="divider" role="none"></li>
                        <li id="menu-change-kernel" class="menu_focus_highlight dropdown-submenu" role="menuitem">
                            <a href="#" role="menuitem" aria-haspopup="true" aria-expanded="false" class="dropdown-toggle" data-toggle="dropdown">Change kernel</a>
                            <ul class="dropdown-menu" id="menu-change-kernel-submenu"><li id="kernel-submenu-python3"><a href="#">Python 3 (ipykernel)</a></li></ul>
                        </li>
                    </ul>
                </li>
                <li class="dropdown"><a href="#" data-toggle="dropdown" class="dropdown-toggle">Widgets</a><ul id="widget-submenu" class="dropdown-menu"><li title="Save the notebook with the widget state information for static rendering"><a href="#">Save Notebook with Widgets</a></li><li title="Download the widget state as a JSON file"><a href="#">Download Widget State</a></li><li title="Embed interactive widgets"><a href="#">Embed Widgets</a></li></ul></li><li class="dropdown"><a href="#" class="dropdown-toggle" data-toggle="dropdown">Help</a>
                    <ul id="help_menu" class="dropdown-menu">
                        
                        <li id="notebook_tour" title="A quick tour of the notebook user interface"><a href="#">User Interface Tour</a></li>
                        <li id="keyboard_shortcuts" title="Opens a tooltip with all keyboard shortcuts"><a href="#" class="menu-shortcut-container"><span class="action">Keyboard Shortcuts</span><span class="kb"><kbd>H</kbd></span></a></li>
                        <li id="edit_keyboard_shortcuts" title="Opens a dialog allowing you to edit Keyboard shortcuts"><a href="#">Edit Keyboard Shortcuts</a></li>
                        <li class="divider"></li>
                        

						
                        
                            
                                <li><a rel="noreferrer" href="http://nbviewer.jupyter.org/github/ipython/ipython/blob/3.x/examples/Notebook/Index.ipynb" target="_blank" title="Opens in a new window">
                                
                                    <i class="fa fa-external-link menu-icon pull-right"></i>
                                

                                Notebook Help
                                </a></li>
                            
                                <li><a rel="noreferrer" href="https://help.github.com/articles/markdown-basics/" target="_blank" title="Opens in a new window">
                                
                                    <i class="fa fa-external-link menu-icon pull-right"></i>
                                

                                Markdown
                                </a></li>
                            
                            
                        
                        <li id="kernel-help-links" class="divider"></li><li><a target="_blank" title="Opens in a new window" href="https://docs.python.org/3.10?v=20251025090630"><i class="fa fa-external-link menu-icon pull-right"></i><span>Python Reference</span></a></li><li><a target="_blank" title="Opens in a new window" href="https://ipython.org/documentation.html?v=20251025090630"><i class="fa fa-external-link menu-icon pull-right"></i><span>IPython Reference</span></a></li><li><a target="_blank" title="Opens in a new window" href="https://docs.scipy.org/doc/numpy/reference/?v=20251025090630"><i class="fa fa-external-link menu-icon pull-right"></i><span>NumPy Reference</span></a></li><li><a target="_blank" title="Opens in a new window" href="https://docs.scipy.org/doc/scipy/reference/?v=20251025090630"><i class="fa fa-external-link menu-icon pull-right"></i><span>SciPy Reference</span></a></li><li><a target="_blank" title="Opens in a new window" href="https://matplotlib.org/contents.html?v=20251025090630"><i class="fa fa-external-link menu-icon pull-right"></i><span>Matplotlib Reference</span></a></li><li><a target="_blank" title="Opens in a new window" href="http://docs.sympy.org/latest/index.html?v=20251025090630"><i class="fa fa-external-link menu-icon pull-right"></i><span>SymPy Reference</span></a></li><li><a target="_blank" title="Opens in a new window" href="https://pandas.pydata.org/pandas-docs/stable/?v=20251025090630"><i class="fa fa-external-link menu-icon pull-right"></i><span>pandas Reference</span></a></li><li class="divider"></li>
                        <li title="About Jupyter Notebook"><a id="notebook_about" href="#">About</a></li>
                        
                    </ul>
                </li>
              </ul>
            </div>
        </div>
    </div>
</div>

<div id="maintoolbar" class="navbar">
  <div class="toolbar-inner navbar-inner navbar-nobg">
    <div id="maintoolbar-container" class="container toolbar"><div class="btn-group" id="save-notbook"><button class="btn btn-default" title="Save and Checkpoint" data-jupyter-action="jupyter-notebook:save-notebook"><i class="fa-save fa"></i></button></div><div class="btn-group" id="insert_above_below"><button class="btn btn-default" title="insert cell below" data-jupyter-action="jupyter-notebook:insert-cell-below"><i class="fa-plus fa"></i></button></div><div class="btn-group" id="cut_copy_paste"><button class="btn btn-default" title="cut selected cells" data-jupyter-action="jupyter-notebook:cut-cell"><i class="fa-cut fa"></i></button><button class="btn btn-default" title="copy selected cells" data-jupyter-action="jupyter-notebook:copy-cell"><i class="fa-copy fa"></i></button><button class="btn btn-default" title="paste cells below" data-jupyter-action="jupyter-notebook:paste-cell-below"><i class="fa-paste fa"></i></button></div><div class="btn-group" id="move_up_down"><button class="btn btn-default" title="move selected cells up" data-jupyter-action="jupyter-notebook:move-cell-up"><i class="fa-arrow-up fa"></i></button><button class="btn btn-default" title="move selected cells down" data-jupyter-action="jupyter-notebook:move-cell-down"><i class="fa-arrow-down fa"></i></button></div><div class="btn-group" id="run_int"><button class="btn btn-default" aria-label="Run" title="run cell, select below" data-jupyter-action="jupyter-notebook:run-cell-and-select-next"><i class="fa-play fa"></i><span class="toolbar-btn-label">Run</span></button><button class="btn btn-default" title="interrupt the kernel" data-jupyter-action="jupyter-notebook:interrupt-kernel"><i class="fa-stop fa"></i></button><button class="btn btn-default" title="restart the kernel (with dialog)" data-jupyter-action="jupyter-notebook:confirm-restart-kernel"><i class="fa-repeat fa"></i></button><button class="btn btn-default" title="restart the kernel, then re-run the whole notebook (with dialog)" data-jupyter-action="jupyter-notebook:confirm-restart-kernel-and-run-all-cells"><i class="fa-forward fa"></i></button></div><select id="cell_type" aria-label="combobox, select cell type" role="combobox" class="form-control select-xs"><option value="code" selected="selected">Code</option><option value="markdown">Markdown</option><option value="raw">Raw NBConvert</option><option value="heading">Heading</option><option value="multiselect" disabled="disabled" style="display: none;">-</option></select><div class="btn-group" id="cmd_palette"><button class="btn btn-default" title="open the command palette" data-jupyter-action="jupyter-notebook:show-command-palette"><i class="fa-keyboard-o fa"></i></button></div></div>
  </div>
</div>
</div>

<div class="lower-header-bar"></div>

</div>

<div id="site" style="display: block; height: 967.833px;">


<div id="ipython-main-app">
    <div id="notebook_panel">
        <div id="notebook" tabindex="-1"><div class="container" id="notebook-container"><div class="cell text_cell rendered unselected" tabindex="2"><div class="prompt input_prompt"></div><div class="inner_cell"><div class="ctb_hideshow"><div class="celltoolbar"></div></div><div class="input_area" aria-label="Edit Markup Text here"><div class="CodeMirror cm-s-default CodeMirror-wrap" translate="no"><div style="overflow: hidden; position: relative; width: 3px; height: 0px; top: 5.60001px; left: 4px;"><textarea style="position: absolute; bottom: -1em; padding: 0px; width: 1px; height: 1em; min-height: 1em; outline: none;" wrap="off" autocorrect="off" autocapitalize="none" spellcheck="false" tabindex="0"></textarea></div><div class="CodeMirror-vscrollbar" tabindex="-1" cm-not-content="true" style="bottom: 0px; width: 18px; pointer-events: none;"><div style="min-width: 1px; height: 0px;"></div></div><div class="CodeMirror-hscrollbar" tabindex="-1" cm-not-content="true" style="height: 18px; pointer-events: none;"><div style="height: 100%; min-height: 1px; width: 0px;"></div></div><div class="CodeMirror-scrollbar-filler" cm-not-content="true"></div><div class="CodeMirror-gutter-filler" cm-not-content="true"></div><div class="CodeMirror-scroll" tabindex="-1" draggable="true"><div class="CodeMirror-sizer" style="margin-left: 0px; padding-right: 0px; padding-bottom: 0px; margin-bottom: 0px; border-right-width: 50px; min-height: 166px;"><div style="position: relative; top: 0px;"><div class="CodeMirror-lines" role="presentation"><div style="position: relative; outline: none;" role="presentation"><div class="CodeMirror-measure"><pre class="CodeMirror-line-like"><span>xxxxxxxxxx</span></pre></div><div class="CodeMirror-measure"></div><div style="position: relative; z-index: 1;"></div><div class="CodeMirror-cursors"><div class="CodeMirror-cursor" style="left: 4px; top: 0px; height: 17px;">&nbsp;</div></div><div class="CodeMirror-code" role="presentation" style=""><pre class=" CodeMirror-line " role="presentation"><span role="presentation"><span class="cm-hr">****</span></span></pre><pre class=" CodeMirror-line " role="presentation"><span role="presentation"><span cm-text="">​</span></span></pre><pre class=" CodeMirror-line " role="presentation"><span role="presentation"><span class="cm-header cm-header-1"># </span><span class="cm-tag cm-bracket">&lt;</span><span class="cm-tag">center</span><span class="cm-tag cm-bracket">&gt;</span> <span class="cm-tag cm-bracket">&lt;</span><span class="cm-tag">b</span><span class="cm-tag cm-bracket">&gt;</span> <span class="cm-tag cm-bracket">&lt;</span><span class="cm-tag">span</span> <span class="cm-attribute">style</span>=<span class="cm-string">"color:orange;"</span><span class="cm-tag cm-bracket">&gt;</span> Python Proficiency for Scientific Computing and Data Science (PyPro-SCiDaS) &nbsp;<span class="cm-tag cm-bracket">&lt;/</span><span class="cm-tag">span</span><span class="cm-tag cm-bracket">&gt;</span> <span class="cm-tag cm-bracket">&lt;/</span><span class="cm-tag">b</span><span class="cm-tag cm-bracket">&gt;&lt;/</span><span class="cm-tag">center</span><span class="cm-tag cm-bracket">&gt;</span></span></pre><pre class=" CodeMirror-line " role="presentation"><span role="presentation"><span cm-text="">​</span></span></pre><pre class=" CodeMirror-line " role="presentation"><span role="presentation"><span class="cm-header cm-header-3">### </span><span class="cm-tag cm-bracket">&lt;</span><span class="cm-tag">center</span><span class="cm-tag cm-bracket">&gt;</span> <span class="cm-tag cm-bracket">&lt;</span><span class="cm-tag">b</span><span class="cm-tag cm-bracket">&gt;</span> <span class="cm-tag cm-bracket">&lt;</span><span class="cm-tag">span</span> <span class="cm-attribute">style</span>=<span class="cm-string">"color:green;"</span><span class="cm-tag cm-bracket">&gt;</span>An Initiation to Programming using Python (Init2Py) <span class="cm-tag cm-bracket">&lt;/</span><span class="cm-tag">span</span><span class="cm-tag cm-bracket">&gt;</span> <span class="cm-tag cm-bracket">&lt;/</span><span class="cm-tag">b</span><span class="cm-tag cm-bracket">&gt;&lt;/</span><span class="cm-tag">center</span><span class="cm-tag cm-bracket">&gt;</span></span></pre><pre class=" CodeMirror-line " role="presentation"><span role="presentation"> &nbsp; &nbsp;</span></pre><pre class=" CodeMirror-line " role="presentation"><span role="presentation"><span cm-text="">​</span></span></pre></div></div></div></div></div><div style="position: absolute; height: 50px; width: 1px; border-bottom: 0px solid transparent; top: 166px;"></div><div class="CodeMirror-gutters" style="display: none; height: 216px;"></div></div></div></div><div class="text_cell_render rendered_html" tabindex="-1" dir="ltr"><hr>
<h1 id="---Python-Proficiency-for-Scientific-Computing-and-Data-Science-(PyPro-SCiDaS)---"><center> <b> <span style="color:orange"> Python Proficiency for Scientific Computing and Data Science (PyPro-SCiDaS)  </span> </b></center><a class="anchor-link" href="#---Python-Proficiency-for-Scientific-Computing-and-Data-Science-(PyPro-SCiDaS)---">¶</a></h1>
<h3 id="--An-Initiation-to-Programming-using-Python-(Init2Py)--"><center> <b> <span style="color:green">An Initiation to Programming using Python (Init2Py) </span> </b></center><a class="anchor-link" href="#--An-Initiation-to-Programming-using-Python-(Init2Py)--">¶</a></h3>
</div></div></div><div class="cell text_cell unselected rendered" tabindex="2"><div class="prompt input_prompt"></div><div class="inner_cell"><div class="ctb_hideshow"><div class="celltoolbar"></div></div><div class="input_area" aria-label="Edit Markup Text here"><div class="CodeMirror cm-s-default CodeMirror-wrap" translate="no"><div style="overflow: hidden; position: relative; width: 3px; height: 0px; top: 5.59998px; left: 4px;"><textarea style="position: absolute; bottom: -1em; padding: 0px; width: 1px; height: 1em; min-height: 1em; outline: none;" wrap="off" autocorrect="off" autocapitalize="none" spellcheck="false" tabindex="0"></textarea></div><div class="CodeMirror-vscrollbar" tabindex="-1" cm-not-content="true" style="bottom: 0px; width: 18px; pointer-events: none;"><div style="min-width: 1px; height: 0px;"></div></div><div class="CodeMirror-hscrollbar" tabindex="-1" cm-not-content="true" style="height: 18px; pointer-events: none;"><div style="height: 100%; min-height: 1px; width: 0px;"></div></div><div class="CodeMirror-scrollbar-filler" cm-not-content="true"></div><div class="CodeMirror-gutter-filler" cm-not-content="true"></div><div class="CodeMirror-scroll" tabindex="-1" draggable="true"><div class="CodeMirror-sizer" style="margin-left: 0px; padding-right: 0px; padding-bottom: 0px; margin-bottom: 0px; border-right-width: 50px; min-height: 97px;"><div style="position: relative; top: 0px;"><div class="CodeMirror-lines" role="presentation"><div style="position: relative; outline: none;" role="presentation"><div class="CodeMirror-measure"><pre class="CodeMirror-line-like"><span>xxxxxxxxxx</span></pre></div><div class="CodeMirror-measure"></div><div style="position: relative; z-index: 1;"></div><div class="CodeMirror-cursors"><div class="CodeMirror-cursor" style="left: 4px; top: 0px; height: 17px;">&nbsp;</div></div><div class="CodeMirror-code" role="presentation" style=""><pre class=" CodeMirror-line " role="presentation"><span role="presentation"><span class="cm-hr">****</span></span></pre><pre class=" CodeMirror-line " role="presentation"><span role="presentation"><span cm-text="">​</span></span></pre><pre class=" CodeMirror-line " role="presentation"><span role="presentation"><span class="cm-header cm-header-1"># </span><span class="cm-tag cm-bracket">&lt;</span><span class="cm-tag">center</span><span class="cm-tag cm-bracket">&gt;</span> <span class="cm-tag cm-bracket">&lt;</span><span class="cm-tag">b</span><span class="cm-tag cm-bracket">&gt;</span> <span class="cm-tag cm-bracket">&lt;</span><span class="cm-tag">span</span> <span class="cm-attribute">style</span>=<span class="cm-string">"color:blue;"</span><span class="cm-tag cm-bracket">&gt;</span> Lecture 6: Flow control <span class="cm-tag cm-bracket">&lt;/</span><span class="cm-tag">span</span><span class="cm-tag cm-bracket">&gt;</span> <span class="cm-tag cm-bracket">&lt;/</span><span class="cm-tag">b</span><span class="cm-tag cm-bracket">&gt;&lt;/</span><span class="cm-tag">center</span><span class="cm-tag cm-bracket">&gt;</span></span></pre><pre class=" CodeMirror-line " role="presentation"><span role="presentation"><span cm-text="">​</span></span></pre><pre class=" CodeMirror-line " role="presentation"><span role="presentation"><span class="cm-hr">****</span></span></pre></div></div></div></div></div><div style="position: absolute; height: 50px; width: 1px; border-bottom: 0px solid transparent; top: 97px;"></div><div class="CodeMirror-gutters" style="display: none; height: 147px;"></div></div></div></div><div class="text_cell_render rendered_html" tabindex="-1" dir="ltr"><hr>
<h1 id="---Lecture-6:-Flow-control--"><center> <b> <span style="color:blue"> Lecture 6: Flow control </span> </b></center><a class="anchor-link" href="#---Lecture-6:-Flow-control--">¶</a></h1>
<hr>
</div></div></div><div class="cell text_cell unselected rendered" tabindex="2"><div class="prompt input_prompt"></div><div class="inner_cell"><div class="ctb_hideshow"><div class="celltoolbar"></div></div><div class="input_area" aria-label="Edit Markup Text here"><div class="CodeMirror cm-s-default CodeMirror-wrap" translate="no"><div style="overflow: hidden; position: relative; width: 3px; height: 0px; top: 5.59998px; left: 4px;"><textarea style="position: absolute; bottom: -1em; padding: 0px; width: 1px; height: 1em; min-height: 1em; outline: none;" wrap="off" autocorrect="off" autocapitalize="none" spellcheck="false" tabindex="0"></textarea></div><div class="CodeMirror-vscrollbar" tabindex="-1" cm-not-content="true" style="bottom: 0px; width: 18px; pointer-events: none;"><div style="min-width: 1px; height: 0px;"></div></div><div class="CodeMirror-hscrollbar" tabindex="-1" cm-not-content="true" style="height: 18px; pointer-events: none;"><div style="height: 100%; min-height: 1px; width: 0px;"></div></div><div class="CodeMirror-scrollbar-filler" cm-not-content="true"></div><div class="CodeMirror-gutter-filler" cm-not-content="true"></div><div class="CodeMirror-scroll" tabindex="-1" draggable="true"><div class="CodeMirror-sizer" style="margin-left: 0px; padding-right: 0px; padding-bottom: 0px; margin-bottom: 0px; border-right-width: 50px; min-height: 130px;"><div style="position: relative; top: 0px;"><div class="CodeMirror-lines" role="presentation"><div style="position: relative; outline: none;" role="presentation"><div class="CodeMirror-measure"><pre class="CodeMirror-line-like"><span>xxxxxxxxxx</span></pre></div><div class="CodeMirror-measure"></div><div style="position: relative; z-index: 1;"></div><div class="CodeMirror-cursors"><div class="CodeMirror-cursor" style="left: 4px; top: 0px; height: 16.9917px;">&nbsp;</div></div><div class="CodeMirror-code" role="presentation"><pre class=" CodeMirror-line " role="presentation"><span role="presentation"><span class="cm-strong">**Flow control**</span> in Python is essential for directing the flow of a program's execution, enabling dynamic and adaptable behavior. <span class="cm-comment">`Conditional statements`</span>, such as <span class="cm-comment">`if`</span>, <span class="cm-comment">`elif`</span>, and <span class="cm-comment">`else`</span>, allow you to execute different blocks of code based on specific conditions, facilitating complex decision-making processes. <span class="cm-comment">`Loops`</span>, including <span class="cm-comment">`for`</span> and <span class="cm-comment">`while`</span>, provide mechanisms for repeating code execution, which is invaluable for tasks that involve processing collections of data or performing actions multiple times. Mastering these flow control constructs is key to writing efficient, readable, and flexible code, as they allow you to tailor your program's behavior to meet varying conditions and requirements.</span></pre></div></div></div></div></div><div style="position: absolute; height: 50px; width: 1px; border-bottom: 0px solid transparent; top: 130px;"></div><div class="CodeMirror-gutters" style="display: none; height: 180px;"></div></div></div></div><div class="text_cell_render rendered_html" tabindex="-1" dir="ltr"><p><strong>Flow control</strong> in Python is essential for directing the flow of a program's execution, enabling dynamic and adaptable behavior. <code>Conditional statements</code>, such as <code>if</code>, <code>elif</code>, and <code>else</code>, allow you to execute different blocks of code based on specific conditions, facilitating complex decision-making processes. <code>Loops</code>, including <code>for</code> and <code>while</code>,
 provide mechanisms for repeating code execution, which is invaluable 
for tasks that involve processing collections of data or performing 
actions multiple times. Mastering these flow control constructs is key 
to writing efficient, readable, and flexible code, as they allow you to 
tailor your program's behavior to meet varying conditions and 
requirements.</p>
</div></div></div><div class="cell text_cell unselected rendered" tabindex="2"><div class="prompt input_prompt"></div><div class="inner_cell"><div class="ctb_hideshow"><div class="celltoolbar"></div></div><div class="input_area" aria-label="Edit Markup Text here"><div class="CodeMirror cm-s-default CodeMirror-wrap" translate="no"><div style="overflow: hidden; position: relative; width: 3px; height: 0px; top: 5.60004px; left: 4px;"><textarea style="position: absolute; bottom: -1em; padding: 0px; width: 1px; height: 1em; min-height: 1em; outline: none;" wrap="off" autocorrect="off" autocapitalize="none" spellcheck="false" tabindex="0"></textarea></div><div class="CodeMirror-vscrollbar" tabindex="-1" cm-not-content="true" style="bottom: 0px; width: 18px; pointer-events: none;"><div style="min-width: 1px; height: 0px;"></div></div><div class="CodeMirror-hscrollbar" tabindex="-1" cm-not-content="true" style="height: 18px; pointer-events: none;"><div style="height: 100%; min-height: 1px; width: 0px;"></div></div><div class="CodeMirror-scrollbar-filler" cm-not-content="true"></div><div class="CodeMirror-gutter-filler" cm-not-content="true"></div><div class="CodeMirror-scroll" tabindex="-1" draggable="true"><div class="CodeMirror-sizer" style="margin-left: 0px; padding-right: 0px; padding-bottom: 0px; margin-bottom: 0px; border-right-width: 50px; min-height: 437px;"><div style="position: relative; top: 0px;"><div class="CodeMirror-lines" role="presentation"><div style="position: relative; outline: none;" role="presentation"><div class="CodeMirror-measure"><pre class="CodeMirror-line-like"><span>xxxxxxxxxx</span></pre></div><div class="CodeMirror-measure"></div><div style="position: relative; z-index: 1;"></div><div class="CodeMirror-cursors"><div class="CodeMirror-cursor" style="left: 4px; top: 0px; height: 17.0167px;">&nbsp;</div></div><div class="CodeMirror-code" role="presentation" style=""><pre class=" CodeMirror-line " role="presentation"><span role="presentation"><span class="cm-header cm-header-2">## 0. Conditional structure</span></span></pre><pre class=" CodeMirror-line " role="presentation"><span role="presentation"><span cm-text="">​</span></span></pre><pre class=" CodeMirror-line " role="presentation"><span role="presentation"><span class="cm-header cm-header-3">### 0.0. Instructions with the if...else clause</span></span></pre><pre class=" CodeMirror-line " role="presentation"><span role="presentation"><span cm-text="">​</span></span></pre><pre class=" CodeMirror-line " role="presentation"><span role="presentation">Conditional statements are operations that the program executes when a logical expression evaluates to <span class="cm-comment">`True`</span> or <span class="cm-comment">`False`</span> (depending on the case). Conditional statements are defined within an <span class="cm-comment">`if...else`</span> clause.</span></pre><pre class=" CodeMirror-line " role="presentation"><span role="presentation"><span cm-text="">​</span></span></pre><pre class=" CodeMirror-line " role="presentation"><span role="presentation">The general structure of an <span class="cm-comment">`if...else`</span> block is as follows:</span></pre><pre class=" CodeMirror-line " role="presentation"><span role="presentation"><span cm-text="">​</span></span></pre><pre class=" CodeMirror-line " role="presentation"><span role="presentation"><span class="cm-comment">```python</span></span></pre><pre class=" CodeMirror-line " role="presentation"><span role="presentation"><span class="cm-keyword">if</span> <span class="cm-variable">logical_expression</span>:</span></pre><pre class=" CodeMirror-line " role="presentation"><span role="presentation"> &nbsp; &nbsp;<span class="cm-variable">statement1</span></span></pre><pre class=" CodeMirror-line " role="presentation"><span role="presentation"> &nbsp; &nbsp;<span class="cm-variable">statement2</span></span></pre><pre class=" CodeMirror-line " role="presentation"><span role="presentation"> &nbsp; &nbsp;<span class="cm-operator">...</span></span></pre><pre class=" CodeMirror-line " role="presentation"><span role="presentation"> &nbsp; &nbsp;<span class="cm-variable">statementn</span></span></pre><pre class=" CodeMirror-line " role="presentation"><span role="presentation"><span class="cm-keyword">else</span>:</span></pre><pre class=" CodeMirror-line " role="presentation"><span role="presentation"> &nbsp; &nbsp;<span class="cm-variable">other_block_of_statements</span></span></pre><pre class=" CodeMirror-line " role="presentation"><span role="presentation"><span class="cm-comment">```</span></span></pre><pre class=" CodeMirror-line " role="presentation"><span role="presentation"><span cm-text="">​</span></span></pre><pre class=" CodeMirror-line " role="presentation"><span role="presentation">Note the <span class="cm-comment">`:`</span> symbol following the <span class="cm-comment">`if`</span> or <span class="cm-comment">`else`</span> keyword, which indicates the end of the <span class="cm-comment">`if`</span> or <span class="cm-comment">`else`</span> declaration and the beginning of the statement definitions. Also, note that the <span class="cm-comment">`else`</span> clause is optional, meaning there can be an <span class="cm-comment">`if`</span> clause without an <span class="cm-comment">`else`</span> clause.</span></pre><pre class=" CodeMirror-line " role="presentation"><span role="presentation"><span cm-text="">​</span></span></pre><pre class=" CodeMirror-line " role="presentation"><span role="presentation">It is crucial to observe the essential role of <span class="cm-em">*indentation*</span>, which delineates each block of statements, and the presence of colons after the condition and after the <span class="cm-comment">`else`</span> keyword.</span></pre></div></div></div></div></div><div style="position: absolute; height: 50px; width: 1px; border-bottom: 0px solid transparent; top: 437px;"></div><div class="CodeMirror-gutters" style="display: none; height: 487px;"></div></div></div></div><div class="text_cell_render rendered_html" tabindex="-1" dir="ltr"><h2 id="0.-Conditional-structure">0. Conditional structure<a class="anchor-link" href="#0.-Conditional-structure">¶</a></h2>
<h3 id="0.0.-Instructions-with-the-if...else-clause">0.0. Instructions with the if...else clause<a class="anchor-link" href="#0.0.-Instructions-with-the-if...else-clause">¶</a></h3>
<p>Conditional statements are operations that the program executes when a logical expression evaluates to <code>True</code> or <code>False</code> (depending on the case). Conditional statements are defined within an <code>if...else</code> clause.</p>
<p>The general structure of an <code>if...else</code> block is as follows:</p>
<pre><code class="cm-s-ipython language-python"><span class="cm-keyword">if</span> <span class="cm-variable">logical_expression</span>:
    <span class="cm-variable">statement1</span>
    <span class="cm-variable">statement2</span>
    <span class="cm-operator">...</span>
    <span class="cm-variable">statementn</span>
<span class="cm-keyword">else</span>:
    <span class="cm-variable">other_block_of_statements</span>
</code></pre>
<p>Note the <code>:</code> symbol following the <code>if</code> or <code>else</code> keyword, which indicates the end of the <code>if</code> or <code>else</code> declaration and the beginning of the statement definitions. Also, note that the <code>else</code> clause is optional, meaning there can be an <code>if</code> clause without an <code>else</code> clause.</p>
<p>It is crucial to observe the essential role of <em>indentation</em>, which delineates each block of statements, and the presence of colons after the condition and after the <code>else</code> keyword.</p>
</div></div></div><div class="cell code_cell unselected rendered" tabindex="2"><div class="input"><div class="prompt_container"><div class="prompt input_prompt"><bdi>In</bdi>&nbsp;[2]:</div><div class="run_this_cell" title="Run this cell"><i class="fa-step-forward fa"></i></div></div><div class="inner_cell"><div class="ctb_hideshow"><div class="celltoolbar"></div></div><div class="input_area" aria-label="Edit code here"><div class="CodeMirror cm-s-ipython" translate="no"><div style="overflow: hidden; position: relative; width: 3px; height: 0px; top: 5.59998px; left: 4px;"><textarea style="position: absolute; bottom: -1em; padding: 0px; width: 1px; height: 1em; min-height: 1em; outline: none;" wrap="off" autocorrect="off" autocapitalize="none" spellcheck="false" tabindex="0"></textarea></div><div class="CodeMirror-vscrollbar" tabindex="-1" cm-not-content="true" style="width: 18px; pointer-events: none;"><div style="min-width: 1px; height: 0px;"></div></div><div class="CodeMirror-hscrollbar" tabindex="-1" cm-not-content="true" style="height: 18px; pointer-events: none;"><div style="height: 100%; min-height: 1px; width: 0px;"></div></div><div class="CodeMirror-scrollbar-filler" cm-not-content="true"></div><div class="CodeMirror-gutter-filler" cm-not-content="true"></div><div class="CodeMirror-scroll" tabindex="-1" draggable="true"><div class="CodeMirror-sizer" style="margin-left: 0px; min-width: 276.333px; margin-bottom: 0px; border-right-width: 50px; min-height: 113px; padding-right: 0px; padding-bottom: 0px;"><div style="position: relative; top: 0px;"><div class="CodeMirror-lines" role="presentation"><div style="position: relative; outline: none;" role="presentation"><div class="CodeMirror-measure"><pre class="CodeMirror-line-like"><span>xxxxxxxxxx</span></pre></div><div class="CodeMirror-measure"></div><div style="position: relative; z-index: 1;"></div><div class="CodeMirror-cursors"><div class="CodeMirror-cursor" style="left: 4px; top: 0px; height: 17px;">&nbsp;</div></div><div class="CodeMirror-code" role="presentation" style=""><pre class=" CodeMirror-line " role="presentation"><span role="presentation"><span class="cm-variable">g</span><span class="cm-operator">=</span><span class="cm-builtin">int</span>(<span class="cm-builtin">input</span>(<span class="cm-string">"How old are you"</span>))</span></pre><pre class=" CodeMirror-line " role="presentation"><span role="presentation"><span class="cm-keyword">if</span> <span class="cm-variable">g</span><span class="cm-operator">&lt;</span><span class="cm-number">25</span>:</span></pre><pre class=" CodeMirror-line " role="presentation"><span role="presentation">    <span class="cm-builtin">print</span>(<span class="cm-string">"you are still young"</span>)</span></pre><pre class=" CodeMirror-line " role="presentation"><span role="presentation"><span class="cm-keyword">else</span>:</span></pre><pre class=" CodeMirror-line " role="presentation"><span role="presentation">    <span class="cm-builtin">print</span>(<span class="cm-string">"you are getting old"</span>)</span></pre><pre class=" CodeMirror-line " role="presentation"><span role="presentation">    </span></pre></div></div></div></div></div><div style="position: absolute; height: 50px; width: 1px; border-bottom: 0px solid transparent; top: 113px;"></div><div class="CodeMirror-gutters" style="display: none; height: 163px;"></div></div></div></div></div></div><div class="widget-area" style="display: none;"><div class="prompt"><button class="close">×</button></div><div class="widget-subarea jp-Output-result"></div></div><div class="output_wrapper"><div class="out_prompt_overlay prompt" title="click to expand output; double click to hide output"></div><div class="output"><div class="output_area"><div class="run_this_cell"></div><div class="prompt"></div><div class="output_subarea output_text output_stream output_stdout" dir="auto"><pre>How old are you22
you are still young
</pre></div></div></div><div style="display: none;" class="btn btn-default output_collapsed" title="click to expand output">. . .</div></div></div><div class="cell code_cell unselected rendered" tabindex="2"><div class="input"><div class="prompt_container"><div class="prompt input_prompt"><bdi>In</bdi>&nbsp;[3]:</div><div class="run_this_cell" title="Run this cell"><i class="fa-step-forward fa"></i></div></div><div class="inner_cell"><div class="ctb_hideshow"><div class="celltoolbar"></div></div><div class="input_area" aria-label="Edit code here"><div class="CodeMirror cm-s-ipython" translate="no"><div style="overflow: hidden; position: relative; width: 3px; height: 0px; top: 5.59998px; left: 4px;"><textarea style="position: absolute; bottom: -1em; padding: 0px; width: 1px; height: 1em; min-height: 1em; outline: none;" wrap="off" autocorrect="off" autocapitalize="none" spellcheck="false" tabindex="0"></textarea></div><div class="CodeMirror-vscrollbar" tabindex="-1" cm-not-content="true" style="width: 18px; pointer-events: none;"><div style="min-width: 1px; height: 0px;"></div></div><div class="CodeMirror-hscrollbar" tabindex="-1" cm-not-content="true" style="height: 18px; pointer-events: none;"><div style="height: 100%; min-height: 1px; width: 0px;"></div></div><div class="CodeMirror-scrollbar-filler" cm-not-content="true"></div><div class="CodeMirror-gutter-filler" cm-not-content="true"></div><div class="CodeMirror-scroll" tabindex="-1" draggable="true"><div class="CodeMirror-sizer" style="margin-left: 0px; min-width: 276.333px; margin-bottom: 0px; border-right-width: 50px; min-height: 96px; padding-right: 0px; padding-bottom: 0px;"><div style="position: relative; top: 0px;"><div class="CodeMirror-lines" role="presentation"><div style="position: relative; outline: none;" role="presentation"><div class="CodeMirror-measure"><pre class="CodeMirror-line-like"><span>xxxxxxxxxx</span></pre></div><div class="CodeMirror-measure"></div><div style="position: relative; z-index: 1;"></div><div class="CodeMirror-cursors"><div class="CodeMirror-cursor" style="left: 4px; top: 0px; height: 17px;">&nbsp;</div></div><div class="CodeMirror-code" role="presentation" style=""><pre class=" CodeMirror-line " role="presentation"><span role="presentation"><span class="cm-variable">g</span><span class="cm-operator">=</span><span class="cm-builtin">int</span>(<span class="cm-builtin">input</span>(<span class="cm-string">"How old are you"</span>))</span></pre><pre class=" CodeMirror-line " role="presentation"><span role="presentation"><span class="cm-keyword">if</span> <span class="cm-variable">g</span><span class="cm-operator">&lt;</span><span class="cm-number">25</span>:</span></pre><pre class=" CodeMirror-line " role="presentation"><span role="presentation">    <span class="cm-builtin">print</span>(<span class="cm-string">"you are still young"</span>)</span></pre><pre class=" CodeMirror-line " role="presentation"><span role="presentation"><span class="cm-keyword">else</span>:</span></pre><pre class=" CodeMirror-line " role="presentation"><span role="presentation">    <span class="cm-builtin">print</span>(<span class="cm-string">"you are getting old"</span>)</span></pre></div></div></div></div></div><div style="position: absolute; height: 50px; width: 1px; border-bottom: 0px solid transparent; top: 96px;"></div><div class="CodeMirror-gutters" style="display: none; height: 146px;"></div></div></div></div></div></div><div class="widget-area" style="display: none;"><div class="prompt"><button class="close">×</button></div><div class="widget-subarea jp-Output-result"></div></div><div class="output_wrapper"><div class="out_prompt_overlay prompt" title="click to expand output; double click to hide output"></div><div class="output"><div class="output_area"><div class="run_this_cell"></div><div class="prompt"></div><div class="output_subarea output_text output_stream output_stdout" dir="auto"><pre>How old are you  35
you are getting old
</pre></div></div></div><div style="display: none;" class="btn btn-default output_collapsed" title="click to expand output">. . .</div></div></div><div class="cell code_cell rendered unselected" tabindex="2"><div class="input"><div class="prompt_container"><div class="prompt input_prompt"><bdi>In</bdi>&nbsp;[22]:</div><div class="run_this_cell" title="Run this cell"><i class="fa-step-forward fa"></i></div></div><div class="inner_cell"><div class="ctb_hideshow"><div class="celltoolbar"></div></div><div class="input_area" aria-label="Edit code here"><div class="CodeMirror cm-s-ipython" translate="no"><div style="overflow: hidden; position: relative; width: 3px; height: 0px; top: 56.6px; left: 54.5px;"><textarea style="position: absolute; bottom: -1em; padding: 0px; width: 1px; height: 1em; min-height: 1em; outline: none;" wrap="off" autocorrect="off" autocapitalize="none" spellcheck="false" tabindex="0"></textarea></div><div class="CodeMirror-vscrollbar" tabindex="-1" cm-not-content="true" style="width: 18px; pointer-events: none;"><div style="min-width: 1px; height: 0px;"></div></div><div class="CodeMirror-hscrollbar" tabindex="-1" cm-not-content="true" style="height: 18px; pointer-events: none;"><div style="height: 100%; min-height: 1px; width: 0px;"></div></div><div class="CodeMirror-scrollbar-filler" cm-not-content="true"></div><div class="CodeMirror-gutter-filler" cm-not-content="true"></div><div class="CodeMirror-scroll" tabindex="-1" draggable="true"><div class="CodeMirror-sizer" style="margin-left: 0px; min-width: 385.75px; margin-bottom: 0px; border-right-width: 50px; min-height: 96px; padding-right: 0px; padding-bottom: 0px;"><div style="position: relative; top: 0px;"><div class="CodeMirror-lines" role="presentation"><div style="position: relative; outline: none;" role="presentation"><div class="CodeMirror-measure"></div><div class="CodeMirror-measure"></div><div style="position: relative; z-index: 1;"></div><div class="CodeMirror-cursors" style="visibility: hidden;"><div class="CodeMirror-cursor" style="left: 54.5px; top: 51px; height: 17px;">&nbsp;</div></div><div class="CodeMirror-code" role="presentation" style=""><pre class=" CodeMirror-line " role="presentation"><span role="presentation"><span class="cm-variable">a</span><span class="cm-operator">=</span><span class="cm-builtin">int</span>(<span class="cm-builtin">input</span>(<span class="cm-string">"what is your choice of number"</span>))</span></pre><pre class=" CodeMirror-line " role="presentation"><span role="presentation"><span class="cm-keyword">if</span> <span class="cm-variable">a</span><span class="cm-operator">&lt;</span><span class="cm-number">100</span>:</span></pre><pre class=" CodeMirror-line " role="presentation"><span role="presentation">    <span class="cm-builtin">print</span>(<span class="cm-string">"the number is lesser than 100"</span>)</span></pre><pre class=" CodeMirror-line " role="presentation"><span role="presentation"><span class="cm-keyword">else</span>: </span></pre><pre class=" CodeMirror-line " role="presentation"><span role="presentation">    <span class="cm-builtin">print</span>(<span class="cm-string">"the number is greater than 100"</span>)</span></pre></div></div></div></div></div><div style="position: absolute; height: 50px; width: 1px; border-bottom: 0px solid transparent; top: 96px;"></div><div class="CodeMirror-gutters" style="display: none; height: 146px;"></div></div></div></div></div></div><div class="widget-area" style="display: none;"><div class="prompt"><button class="close">×</button></div><div class="widget-subarea jp-Output-result"></div></div><div class="output_wrapper"><div class="out_prompt_overlay prompt" title="click to scroll output; double click to hide"></div><div class="output"><div class="output_area"><div class="run_this_cell"></div><div class="prompt"></div><div class="output_subarea output_text output_stream output_stdout" dir="auto"><pre>what is your choice of number13
the number is lesser than 100
</pre></div></div></div><div style="display: none;" class="btn btn-default output_collapsed" title="click to expand output">. . .</div></div></div><div class="cell code_cell rendered selected" tabindex="2"><div class="input"><div class="prompt_container"><div class="prompt input_prompt"><bdi>In</bdi>&nbsp;[21]:</div><div class="run_this_cell" title="Run this cell"><i class="fa-step-forward fa"></i></div></div><div class="inner_cell"><div class="ctb_hideshow"><div class="celltoolbar"></div></div><div class="input_area" aria-label="Edit code here"><div class="CodeMirror cm-s-ipython" translate="no"><div style="overflow: hidden; position: relative; width: 3px; height: 0px; top: 107.6px; left: 189.167px;"><textarea style="position: absolute; bottom: -1em; padding: 0px; width: 1px; height: 1em; min-height: 1em; outline: none;" wrap="off" autocorrect="off" autocapitalize="none" spellcheck="false" tabindex="0"></textarea></div><div class="CodeMirror-vscrollbar" tabindex="-1" cm-not-content="true" style="width: 18px; pointer-events: none;"><div style="min-width: 1px; height: 0px;"></div></div><div class="CodeMirror-hscrollbar" tabindex="-1" cm-not-content="true" style="height: 18px; pointer-events: none;"><div style="height: 100%; min-height: 1px; width: 0px;"></div></div><div class="CodeMirror-scrollbar-filler" cm-not-content="true"></div><div class="CodeMirror-gutter-filler" cm-not-content="true"></div><div class="CodeMirror-scroll" tabindex="-1" draggable="true"><div class="CodeMirror-sizer" style="margin-left: 0px; min-width: 242.667px; margin-bottom: 0px; border-right-width: 50px; min-height: 130px; padding-right: 0px; padding-bottom: 0px;"><div style="position: relative; top: 0px;"><div class="CodeMirror-lines" role="presentation"><div style="position: relative; outline: none;" role="presentation"><div class="CodeMirror-measure"></div><div class="CodeMirror-measure"></div><div style="position: relative; z-index: 1;"></div><div class="CodeMirror-cursors" style="visibility: hidden;"><div class="CodeMirror-cursor" style="left: 189.167px; top: 102px; height: 17px;">&nbsp;</div></div><div class="CodeMirror-code" role="presentation" style=""><pre class=" CodeMirror-line " role="presentation"><span role="presentation"><span class="cm-variable">a</span><span class="cm-operator">=</span><span class="cm-number">200</span></span></pre><pre class=" CodeMirror-line " role="presentation"><span role="presentation"><span class="cm-keyword">if</span> <span class="cm-variable">a</span><span class="cm-operator">&gt;</span><span class="cm-number">200</span>:</span></pre><pre class=" CodeMirror-line " role="presentation"><span role="presentation">    <span class="cm-builtin">print</span>(<span class="cm-string">'exceeds 200'</span>)</span></pre><pre class=" CodeMirror-line " role="presentation"><span role="presentation"><span class="cm-keyword">elif</span> <span class="cm-variable">a</span><span class="cm-operator">&lt;</span><span class="cm-number">200</span>:</span></pre><pre class=" CodeMirror-line " role="presentation"><span role="presentation">    <span class="cm-builtin">print</span>(<span class="cm-string">'lesser than 200'</span>)</span></pre><pre class=" CodeMirror-line " role="presentation"><span role="presentation"><span class="cm-keyword">else</span>:</span></pre><pre class=" CodeMirror-line " role="presentation"><span role="presentation">    <span class="cm-builtin">print</span>(<span class="cm-string">'equal 200'</span>)</span></pre></div></div></div></div></div><div style="position: absolute; height: 50px; width: 1px; border-bottom: 0px solid transparent; top: 130px;"></div><div class="CodeMirror-gutters" style="display: none; height: 180px;"></div></div></div></div></div></div><div class="widget-area" style="display: none;"><div class="prompt"><button class="close">×</button></div><div class="widget-subarea jp-Output-result"></div></div><div class="output_wrapper"><div class="out_prompt_overlay prompt" title="click to scroll output; double click to hide"></div><div class="output"><div class="output_area"><div class="run_this_cell"></div><div class="prompt"></div><div class="output_subarea output_text output_stream output_stdout" dir="auto"><pre>equal 200
</pre></div></div></div><div style="display: none;" class="btn btn-default output_collapsed" title="click to expand output">. . .</div></div></div><div class="cell code_cell rendered unselected" tabindex="2"><div class="input"><div class="prompt_container"><div class="prompt input_prompt"><bdi>In</bdi>&nbsp;[20]:</div><div class="run_this_cell" title="Run this cell"><i class="fa-step-forward fa"></i></div></div><div class="inner_cell"><div class="ctb_hideshow"><div class="celltoolbar"></div></div><div class="input_area" aria-label="Edit code here"><div class="CodeMirror cm-s-ipython" translate="no"><div style="overflow: hidden; position: relative; width: 3px; height: 0px; top: 158.6px; left: 340.667px;"><textarea style="position: absolute; bottom: -1em; padding: 0px; width: 1px; height: 1em; min-height: 1em; outline: none;" wrap="off" autocorrect="off" autocapitalize="none" spellcheck="false" tabindex="0"></textarea></div><div class="CodeMirror-vscrollbar" tabindex="-1" cm-not-content="true" style="width: 18px; pointer-events: none; bottom: 0px;"><div style="min-width: 1px; height: 0px;"></div></div><div class="CodeMirror-hscrollbar" tabindex="-1" cm-not-content="true" style="height: 18px; pointer-events: none;"><div style="height: 100%; min-height: 1px; width: 0px;"></div></div><div class="CodeMirror-scrollbar-filler" cm-not-content="true"></div><div class="CodeMirror-gutter-filler" cm-not-content="true"></div><div class="CodeMirror-scroll" tabindex="-1" draggable="true"><div class="CodeMirror-sizer" style="margin-left: 0px; min-width: 486.75px; margin-bottom: 0px; border-right-width: 50px; min-height: 266px; padding-right: 0px; padding-bottom: 0px;"><div style="position: relative; top: 0px;"><div class="CodeMirror-lines" role="presentation"><div style="position: relative; outline: none;" role="presentation"><div class="CodeMirror-measure"></div><div class="CodeMirror-measure"></div><div style="position: relative; z-index: 1;"></div><div class="CodeMirror-cursors" style="visibility: hidden;"><div class="CodeMirror-cursor" style="left: 340.667px; top: 153px; height: 17px;">&nbsp;</div></div><div class="CodeMirror-code" role="presentation" style=""><pre class=" CodeMirror-line " role="presentation"><span role="presentation"><span class="cm-comment"># Instructions with a simple "if" clause</span></span></pre><pre class=" CodeMirror-line " role="presentation"><span role="presentation"><span class="cm-variable">a</span> <span class="cm-operator">=</span> <span class="cm-number">150</span></span></pre><pre class=" CodeMirror-line " role="presentation"><span role="presentation"><span class="cm-keyword">if</span> (<span class="cm-variable">a</span> <span class="cm-operator">&gt;</span> <span class="cm-number">100</span>):</span></pre><pre class=" CodeMirror-line " role="presentation"><span role="presentation">    <span class="cm-builtin">print</span>(<span class="cm-string">"a exceeds 100"</span>)</span></pre><pre class=" CodeMirror-line " role="presentation"><span role="presentation"><span cm-text="">​</span></span></pre><pre class=" CodeMirror-line " role="presentation"><span role="presentation"><span class="cm-builtin">print</span>(<span class="cm-string">"================================================"</span>)</span></pre><pre class=" CodeMirror-line " role="presentation"><span role="presentation"><span class="cm-builtin">print</span>(<span class="cm-string">'\t'</span>)</span></pre><pre class=" CodeMirror-line " role="presentation"><span role="presentation"><span cm-text="">​</span></span></pre><pre class=" CodeMirror-line " role="presentation"><span role="presentation"><span cm-text="">​</span></span></pre><pre class=" CodeMirror-line " role="presentation"><span role="presentation"><span class="cm-comment"># Instructions with the if...else clause</span></span></pre><pre class=" CodeMirror-line " role="presentation"><span role="presentation"><span class="cm-variable">x</span> <span class="cm-operator">=</span> <span class="cm-number">65</span></span></pre><pre class=" CodeMirror-line " role="presentation"><span role="presentation"><span class="cm-keyword">if</span> (<span class="cm-variable">x</span> <span class="cm-operator">&gt;</span> <span class="cm-number">70</span>):</span></pre><pre class=" CodeMirror-line " role="presentation"><span role="presentation">    <span class="cm-builtin">print</span>(<span class="cm-string">"x exceeds 70"</span>)</span></pre><pre class=" CodeMirror-line " role="presentation"><span role="presentation"><span class="cm-keyword">else</span>:</span></pre><pre class=" CodeMirror-line " role="presentation"><span role="presentation">    <span class="cm-builtin">print</span>(<span class="cm-string">"x does not exceed 100"</span>)</span></pre></div></div></div></div></div><div style="position: absolute; height: 50px; width: 1px; border-bottom: 0px solid transparent; top: 266px;"></div><div class="CodeMirror-gutters" style="display: none; height: 316px;"></div></div></div></div></div></div><div class="widget-area" style="display: none;"><div class="prompt"><button class="close">×</button></div><div class="widget-subarea jp-Output-result"></div></div><div class="output_wrapper"><div class="out_prompt_overlay prompt" title="click to scroll output; double click to hide"></div><div class="output"><div class="output_area"><div class="run_this_cell"></div><div class="prompt"></div><div class="output_subarea output_text output_stream output_stdout" dir="auto"><pre>a exceeds 100
================================================
	
x does not exceed 100
</pre></div></div></div><div style="display: none;" class="btn btn-default output_collapsed" title="click to expand output">. . .</div></div></div><div class="cell text_cell rendered unselected" tabindex="2"><div class="prompt input_prompt"></div><div class="inner_cell"><div class="ctb_hideshow"><div class="celltoolbar"></div></div><div class="input_area" aria-label="Edit Markup Text here"><div class="CodeMirror cm-s-default CodeMirror-wrap" translate="no"><div style="overflow: hidden; position: relative; width: 3px; height: 0px; top: 5.6001px; left: 4px;"><textarea style="position: absolute; bottom: -1em; padding: 0px; width: 1px; height: 1em; min-height: 1em; outline: none;" wrap="off" autocorrect="off" autocapitalize="none" spellcheck="false" tabindex="0"></textarea></div><div class="CodeMirror-vscrollbar" tabindex="-1" cm-not-content="true" style="bottom: 0px; width: 18px; pointer-events: none;"><div style="min-width: 1px; height: 0px;"></div></div><div class="CodeMirror-hscrollbar" tabindex="-1" cm-not-content="true" style="height: 18px; pointer-events: none;"><div style="height: 100%; min-height: 1px; width: 0px;"></div></div><div class="CodeMirror-scrollbar-filler" cm-not-content="true"></div><div class="CodeMirror-gutter-filler" cm-not-content="true"></div><div class="CodeMirror-scroll" tabindex="-1" draggable="true"><div class="CodeMirror-sizer" style="margin-left: 0px; padding-right: 0px; padding-bottom: 0px; margin-bottom: 0px; border-right-width: 50px; min-height: 250px;"><div style="position: relative; top: 0px;"><div class="CodeMirror-lines" role="presentation"><div style="position: relative; outline: none;" role="presentation"><div class="CodeMirror-measure"><pre class="CodeMirror-line-like"><span>xxxxxxxxxx</span></pre></div><div class="CodeMirror-measure"></div><div style="position: relative; z-index: 1;"></div><div class="CodeMirror-cursors"><div class="CodeMirror-cursor" style="left: 4px; top: 0px; height: 18.1px;">&nbsp;</div></div><div class="CodeMirror-code" role="presentation" style=""><pre class=" CodeMirror-line " role="presentation"><span role="presentation"><span class="cm-header cm-header-3">### 0.1. Instructions with the if...elif...else clause</span></span></pre><pre class=" CodeMirror-line " role="presentation"><span role="presentation"><span cm-text="">​</span></span></pre><pre class=" CodeMirror-line " role="presentation"><span role="presentation">The <span class="cm-comment">`if...elif...else`</span> clause is used when there are multiple logical conditions, each associated with instructions to execute when they are met.</span></pre><pre class=" CodeMirror-line " role="presentation"><span role="presentation"><span cm-text="">​</span></span></pre><pre class=" CodeMirror-line " role="presentation"><span role="presentation"><span class="cm-comment">```python</span></span></pre><pre class=" CodeMirror-line " role="presentation"><span role="presentation"> &nbsp; &nbsp;<span class="cm-variable">x</span> <span class="cm-operator">=</span> <span class="cm-number">0</span></span></pre><pre class=" CodeMirror-line " role="presentation"><span role="presentation"> &nbsp; &nbsp;<span class="cm-keyword">if</span> <span class="cm-variable">x</span> <span class="cm-operator">&gt;</span> <span class="cm-number">0</span> :</span></pre><pre class=" CodeMirror-line " role="presentation"><span role="presentation"> &nbsp; &nbsp; &nbsp; &nbsp;<span class="cm-builtin">print</span>(<span class="cm-string">"x is positive"</span>)</span></pre><pre class=" CodeMirror-line " role="presentation"><span role="presentation"> &nbsp; &nbsp;<span class="cm-keyword">elif</span> <span class="cm-variable">x</span> <span class="cm-operator">&lt;</span> <span class="cm-number">0</span> :</span></pre><pre class=" CodeMirror-line " role="presentation"><span role="presentation"> &nbsp; &nbsp; &nbsp; &nbsp;<span class="cm-builtin">print</span>(<span class="cm-string">"x is negative"</span>)</span></pre><pre class=" CodeMirror-line " role="presentation"><span role="presentation"> &nbsp; &nbsp;<span class="cm-keyword">else</span>:</span></pre><pre class=" CodeMirror-line " role="presentation"><span role="presentation"> &nbsp; &nbsp; &nbsp; &nbsp;<span class="cm-builtin">print</span>(<span class="cm-string">"x is zero"</span>)</span></pre><pre class=" CodeMirror-line " role="presentation"><span role="presentation"><span class="cm-comment">```</span></span></pre></div></div></div></div></div><div style="position: absolute; height: 50px; width: 1px; border-bottom: 0px solid transparent; top: 250px;"></div><div class="CodeMirror-gutters" style="display: none; height: 300px;"></div></div></div></div><div class="text_cell_render rendered_html" tabindex="-1" dir="ltr"><h3 id="0.1.-Instructions-with-the-if...elif...else-clause">0.1. Instructions with the if...elif...else clause<a class="anchor-link" href="#0.1.-Instructions-with-the-if...elif...else-clause">¶</a></h3>
<p>The <code>if...elif...else</code> clause is used when there are multiple logical conditions, each associated with instructions to execute when they are met.</p>
<pre><code class="cm-s-ipython language-python">    <span class="cm-variable">x</span> <span class="cm-operator">=</span> <span class="cm-number">0</span>
    <span class="cm-keyword">if</span> <span class="cm-variable">x</span> <span class="cm-operator">&gt;</span> <span class="cm-number">0</span> :
        <span class="cm-builtin">print</span>(<span class="cm-string">"x is positive"</span>)
    <span class="cm-keyword">elif</span> <span class="cm-variable">x</span> <span class="cm-operator">&lt;</span> <span class="cm-number">0</span> :
        <span class="cm-builtin">print</span>(<span class="cm-string">"x is negative"</span>)
    <span class="cm-keyword">else</span>:
        <span class="cm-builtin">print</span>(<span class="cm-string">"x is zero"</span>)
</code></pre>
</div></div></div><div class="cell code_cell rendered unselected" tabindex="2"><div class="input"><div class="prompt_container"><div class="prompt input_prompt"><bdi>In</bdi>&nbsp;[19]:</div><div class="run_this_cell" title="Run this cell"><i class="fa-step-forward fa"></i></div></div><div class="inner_cell"><div class="ctb_hideshow"><div class="celltoolbar"></div></div><div class="input_area" aria-label="Edit code here"><div class="CodeMirror cm-s-ipython" translate="no"><div style="overflow: hidden; position: relative; width: 3px; height: 0px; top: 73.6px; left: 239.667px;"><textarea style="position: absolute; bottom: -1em; padding: 0px; width: 1px; height: 1em; min-height: 1em; outline: none;" wrap="off" autocorrect="off" autocapitalize="none" spellcheck="false" tabindex="0"></textarea></div><div class="CodeMirror-vscrollbar" tabindex="-1" cm-not-content="true" style="width: 18px; pointer-events: none;"><div style="min-width: 1px; height: 0px;"></div></div><div class="CodeMirror-hscrollbar" tabindex="-1" cm-not-content="true" style="height: 18px; pointer-events: none;"><div style="height: 100%; min-height: 1px; width: 0px;"></div></div><div class="CodeMirror-scrollbar-filler" cm-not-content="true"></div><div class="CodeMirror-gutter-filler" cm-not-content="true"></div><div class="CodeMirror-scroll" tabindex="-1" draggable="true"><div class="CodeMirror-sizer" style="margin-left: 0px; min-width: 242.667px; margin-bottom: 0px; border-right-width: 50px; min-height: 130px; padding-right: 0px; padding-bottom: 0px;"><div style="position: relative; top: 0px;"><div class="CodeMirror-lines" role="presentation"><div style="position: relative; outline: none;" role="presentation"><div class="CodeMirror-measure"></div><div class="CodeMirror-measure"></div><div style="position: relative; z-index: 1;"></div><div class="CodeMirror-cursors" style="visibility: hidden;"><div class="CodeMirror-cursor" style="left: 239.667px; top: 68px; height: 17px;">&nbsp;</div></div><div class="CodeMirror-code" role="presentation" style=""><pre class=" CodeMirror-line " role="presentation"><span role="presentation"><span class="cm-variable">a</span><span class="cm-operator">=</span><span class="cm-number">200</span></span></pre><pre class=" CodeMirror-line " role="presentation"><span role="presentation"><span class="cm-keyword">if</span> <span class="cm-variable">a</span><span class="cm-operator">&gt;</span><span class="cm-number">200</span>:</span></pre><pre class=" CodeMirror-line " role="presentation"><span role="presentation">    <span class="cm-builtin">print</span>(<span class="cm-string">'exceeds 200'</span>)</span></pre><pre class=" CodeMirror-line " role="presentation"><span role="presentation"><span class="cm-keyword">elif</span> <span class="cm-variable">a</span><span class="cm-operator">&lt;</span><span class="cm-number">200</span>:</span></pre><pre class=" CodeMirror-line " role="presentation"><span role="presentation">    <span class="cm-builtin">print</span>(<span class="cm-string">'lesser than 200'</span>)</span></pre><pre class=" CodeMirror-line " role="presentation"><span role="presentation"><span class="cm-keyword">else</span>:</span></pre><pre class=" CodeMirror-line " role="presentation"><span role="presentation">    <span class="cm-builtin">print</span>(<span class="cm-string">'equal 200'</span>)</span></pre></div></div></div></div></div><div style="position: absolute; height: 50px; width: 1px; border-bottom: 0px solid transparent; top: 130px;"></div><div class="CodeMirror-gutters" style="display: none; height: 180px;"></div></div></div></div></div></div><div class="widget-area" style="display: none;"><div class="prompt"><button class="close">×</button></div><div class="widget-subarea jp-Output-result"></div></div><div class="output_wrapper"><div class="out_prompt_overlay prompt" title="click to scroll output; double click to hide"></div><div class="output"><div class="output_area"><div class="run_this_cell"></div><div class="prompt"></div><div class="output_subarea output_text output_stream output_stdout" dir="auto"><pre>equal 200
</pre></div></div></div><div style="display: none;" class="btn btn-default output_collapsed" title="click to expand output">. . .</div></div></div><div class="cell code_cell rendered unselected" tabindex="2"><div class="input"><div class="prompt_container"><div class="prompt input_prompt"><bdi>In</bdi>&nbsp;[18]:</div><div class="run_this_cell" title="Run this cell"><i class="fa-step-forward fa"></i></div></div><div class="inner_cell"><div class="ctb_hideshow"><div class="celltoolbar"></div></div><div class="input_area" aria-label="Edit code here"><div class="CodeMirror cm-s-ipython" translate="no"><div style="overflow: hidden; position: relative; width: 3px; height: 0px; top: 73.6px; left: 222.833px;"><textarea style="position: absolute; bottom: -1em; padding: 0px; width: 1px; height: 1em; min-height: 1em; outline: none;" wrap="off" autocorrect="off" autocapitalize="none" spellcheck="false" tabindex="0"></textarea></div><div class="CodeMirror-vscrollbar" tabindex="-1" cm-not-content="true" style="width: 18px; pointer-events: none;"><div style="min-width: 1px; height: 0px;"></div></div><div class="CodeMirror-hscrollbar" tabindex="-1" cm-not-content="true" style="height: 18px; pointer-events: none;"><div style="height: 100%; min-height: 1px; width: 0px;"></div></div><div class="CodeMirror-scrollbar-filler" cm-not-content="true"></div><div class="CodeMirror-gutter-filler" cm-not-content="true"></div><div class="CodeMirror-scroll" tabindex="-1" draggable="true"><div class="CodeMirror-sizer" style="margin-left: 0px; min-width: 225.833px; margin-bottom: 0px; border-right-width: 50px; min-height: 130px; padding-right: 0px; padding-bottom: 0px;"><div style="position: relative; top: 0px;"><div class="CodeMirror-lines" role="presentation"><div style="position: relative; outline: none;" role="presentation"><div class="CodeMirror-measure"></div><div class="CodeMirror-measure"></div><div style="position: relative; z-index: 1;"></div><div class="CodeMirror-cursors" style="visibility: hidden;"><div class="CodeMirror-cursor" style="left: 222.833px; top: 68px; height: 17px;">&nbsp;</div></div><div class="CodeMirror-code" role="presentation" style=""><pre class=" CodeMirror-line " role="presentation"><span role="presentation"><span class="cm-variable">x</span> <span class="cm-operator">=</span> <span class="cm-number">0</span></span></pre><pre class=" CodeMirror-line " role="presentation"><span role="presentation"><span class="cm-keyword">if</span> <span class="cm-variable">x</span> <span class="cm-operator">&gt;</span> <span class="cm-number">0</span> :</span></pre><pre class=" CodeMirror-line " role="presentation"><span role="presentation">    <span class="cm-builtin">print</span>(<span class="cm-string">"x is positive"</span>)</span></pre><pre class=" CodeMirror-line " role="presentation"><span role="presentation"><span class="cm-keyword">elif</span> <span class="cm-variable">x</span> <span class="cm-operator">&lt;</span> <span class="cm-number">0</span> :</span></pre><pre class=" CodeMirror-line " role="presentation"><span role="presentation">    <span class="cm-builtin">print</span>(<span class="cm-string">"x is negative"</span>)</span></pre><pre class=" CodeMirror-line " role="presentation"><span role="presentation"><span class="cm-keyword">else</span>:</span></pre><pre class=" CodeMirror-line " role="presentation"><span role="presentation">        <span class="cm-builtin">print</span>(<span class="cm-string">"x is zero"</span>)</span></pre></div></div></div></div></div><div style="position: absolute; height: 50px; width: 1px; border-bottom: 0px solid transparent; top: 130px;"></div><div class="CodeMirror-gutters" style="display: none; height: 180px;"></div></div></div></div></div></div><div class="widget-area" style="display: none;"><div class="prompt"><button class="close">×</button></div><div class="widget-subarea jp-Output-result"></div></div><div class="output_wrapper"><div class="out_prompt_overlay prompt" title="click to scroll output; double click to hide"></div><div class="output"><div class="output_area"><div class="run_this_cell"></div><div class="prompt"></div><div class="output_subarea output_text output_stream output_stdout" dir="auto"><pre>x is zero
</pre></div></div></div><div style="display: none;" class="btn btn-default output_collapsed" title="click to expand output">. . .</div></div></div><div class="cell text_cell rendered unselected" tabindex="2"><div class="prompt input_prompt"></div><div class="inner_cell"><div class="ctb_hideshow"><div class="celltoolbar"></div></div><div class="input_area" aria-label="Edit Markup Text here"><div class="CodeMirror cm-s-default CodeMirror-wrap" translate="no"><div style="overflow: hidden; position: relative; width: 3px; height: 0px; top: 5.59998px; left: 4px;"><textarea style="position: absolute; bottom: -1em; padding: 0px; width: 1px; height: 1em; min-height: 1em; outline: none;" wrap="off" autocorrect="off" autocapitalize="none" spellcheck="false" tabindex="0"></textarea></div><div class="CodeMirror-vscrollbar" tabindex="-1" cm-not-content="true" style="bottom: 0px; width: 18px; pointer-events: none;"><div style="min-width: 1px; height: 0px;"></div></div><div class="CodeMirror-hscrollbar" tabindex="-1" cm-not-content="true" style="height: 18px; pointer-events: none;"><div style="height: 100%; min-height: 1px; width: 0px;"></div></div><div class="CodeMirror-scrollbar-filler" cm-not-content="true"></div><div class="CodeMirror-gutter-filler" cm-not-content="true"></div><div class="CodeMirror-scroll" tabindex="-1" draggable="true"><div class="CodeMirror-sizer" style="margin-left: 0px; padding-right: 0px; padding-bottom: 0px; margin-bottom: 0px; border-right-width: 50px; min-height: 62px;"><div style="position: relative; top: 0px;"><div class="CodeMirror-lines" role="presentation"><div style="position: relative; outline: none;" role="presentation"><div class="CodeMirror-measure"><pre class="CodeMirror-line-like"><span>xxxxxxxxxx</span></pre></div><div class="CodeMirror-measure"></div><div style="position: relative; z-index: 1;"></div><div class="CodeMirror-cursors"><div class="CodeMirror-cursor" style="left: 4px; top: 0px; height: 16.9917px;">&nbsp;</div></div><div class="CodeMirror-code" role="presentation"><pre class=" CodeMirror-line " role="presentation"><span role="presentation"><span class="cm-strong">**Note:**</span> As demonstrated by the example above, the <span class="cm-comment">`elif`</span> clause can be used as many times as there are alternative conditions between the initial <span class="cm-comment">`if`</span> clause and the final <span class="cm-comment">`else`</span> clause. However, using <span class="cm-comment">`elif`</span> is not mandatory for handling alternative conditions. You can simply use additional <span class="cm-comment">`if`</span> clauses instead.</span></pre></div></div></div></div></div><div style="position: absolute; height: 50px; width: 1px; border-bottom: 0px solid transparent; top: 62px;"></div><div class="CodeMirror-gutters" style="display: none; height: 112px;"></div></div></div></div><div class="text_cell_render rendered_html" tabindex="-1" dir="ltr"><p><strong>Note:</strong> As demonstrated by the example above, the <code>elif</code> clause can be used as many times as there are alternative conditions between the initial <code>if</code> clause and the final <code>else</code> clause. However, using <code>elif</code> is not mandatory for handling alternative conditions. You can simply use additional <code>if</code> clauses instead.</p>
</div></div></div><div class="cell text_cell unselected rendered" tabindex="2"><div class="prompt input_prompt"></div><div class="inner_cell"><div class="ctb_hideshow"><div class="celltoolbar"></div></div><div class="input_area" aria-label="Edit Markup Text here"><div class="CodeMirror cm-s-default CodeMirror-wrap" translate="no"><div style="overflow: hidden; position: relative; width: 3px; height: 0px; top: 5.59998px; left: 4px;"><textarea style="position: absolute; bottom: -1em; padding: 0px; width: 1px; height: 1em; min-height: 1em; outline: none;" wrap="off" autocorrect="off" autocapitalize="none" spellcheck="false" tabindex="0"></textarea></div><div class="CodeMirror-vscrollbar" tabindex="-1" cm-not-content="true" style="bottom: 0px; width: 18px; pointer-events: none;"><div style="min-width: 1px; height: 0px;"></div></div><div class="CodeMirror-hscrollbar" tabindex="-1" cm-not-content="true" style="height: 18px; pointer-events: none;"><div style="height: 100%; min-height: 1px; width: 0px;"></div></div><div class="CodeMirror-scrollbar-filler" cm-not-content="true"></div><div class="CodeMirror-gutter-filler" cm-not-content="true"></div><div class="CodeMirror-scroll" tabindex="-1" draggable="true"><div class="CodeMirror-sizer" style="margin-left: 0px; padding-right: 0px; padding-bottom: 0px; margin-bottom: 0px; border-right-width: 50px; min-height: 403px;"><div style="position: relative; top: 0px;"><div class="CodeMirror-lines" role="presentation"><div style="position: relative; outline: none;" role="presentation"><div class="CodeMirror-measure"><pre class="CodeMirror-line-like"><span>xxxxxxxxxx</span></pre></div><div class="CodeMirror-measure"></div><div style="position: relative; z-index: 1;"></div><div class="CodeMirror-cursors"><div class="CodeMirror-cursor" style="left: 4px; top: 0px; height: 18.1px;">&nbsp;</div></div><div class="CodeMirror-code" role="presentation" style=""><pre class=" CodeMirror-line " role="presentation"><span role="presentation"><span class="cm-header cm-header-3">### 0.2. Defining nested </span><span class="cm-comment cm-header cm-header-3">`if`</span><span class="cm-header cm-header-3"> clauses</span></span></pre><pre class=" CodeMirror-line " role="presentation"><span role="presentation"><span cm-text="">​</span></span></pre><pre class=" CodeMirror-line " role="presentation"><span role="presentation">The previous examples illustrate first-level <span class="cm-comment">`if`</span> clauses. In complex programs, it is very common to have nested <span class="cm-comment">`if`</span> clauses, meaning that <span class="cm-comment">`if`</span> clauses are defined inside other <span class="cm-comment">`if`</span> clauses, sometimes at multiple levels. See the example below:</span></pre><pre class=" CodeMirror-line " role="presentation"><span role="presentation"><span cm-text="">​</span></span></pre><pre class=" CodeMirror-line " role="presentation"><span role="presentation"><span class="cm-comment">```python</span></span></pre><pre class=" CodeMirror-line " role="presentation"><span role="presentation"><span class="cm-variable">a</span> <span class="cm-operator">=</span> <span class="cm-number">15</span></span></pre><pre class=" CodeMirror-line " role="presentation"><span role="presentation"><span class="cm-variable">b</span> <span class="cm-operator">=</span> <span class="cm-number">10</span></span></pre><pre class=" CodeMirror-line " role="presentation"><span role="presentation"><span cm-text="">​</span></span></pre><pre class=" CodeMirror-line " role="presentation"><span role="presentation"><span class="cm-keyword">if</span> <span class="cm-variable">a</span> <span class="cm-operator">&gt;</span> <span class="cm-variable">b</span>:</span></pre><pre class=" CodeMirror-line " role="presentation"><span role="presentation"> &nbsp; &nbsp;<span class="cm-builtin">print</span>(<span class="cm-string">"a is greater than b"</span>)</span></pre><pre class=" CodeMirror-line " role="presentation"><span role="presentation"> &nbsp; &nbsp;<span class="cm-keyword">if</span> <span class="cm-variable">a</span> <span class="cm-operator">-</span> <span class="cm-variable">b</span> <span class="cm-operator">&gt;</span> <span class="cm-number">5</span>:</span></pre><pre class=" CodeMirror-line " role="presentation"><span role="presentation"> &nbsp; &nbsp; &nbsp; &nbsp;<span class="cm-builtin">print</span>(<span class="cm-string">"The difference between a and b is greater than 5"</span>)</span></pre><pre class=" CodeMirror-line " role="presentation"><span role="presentation"> &nbsp; &nbsp;<span class="cm-keyword">else</span>:</span></pre><pre class=" CodeMirror-line " role="presentation"><span role="presentation"> &nbsp; &nbsp; &nbsp; &nbsp;<span class="cm-builtin">print</span>(<span class="cm-string">"The difference between a and b is 5 or less"</span>)</span></pre><pre class=" CodeMirror-line " role="presentation"><span role="presentation"><span class="cm-keyword">else</span>:</span></pre><pre class=" CodeMirror-line " role="presentation"><span role="presentation"> &nbsp; &nbsp;<span class="cm-builtin">print</span>(<span class="cm-string">"a is not greater than b"</span>)</span></pre><pre class=" CodeMirror-line " role="presentation"><span role="presentation"><span class="cm-comment">```</span></span></pre><pre class=" CodeMirror-line " role="presentation"><span role="presentation"><span cm-text="">​</span></span></pre><pre class=" CodeMirror-line " role="presentation"><span role="presentation">In this example, there is an <span class="cm-comment">`if`</span> statement nested within another <span class="cm-comment">`if`</span> statement. This structure allows for more granular control over the conditions and the corresponding actions in your program.</span></pre><pre class=" CodeMirror-line " role="presentation"><span role="presentation"><span cm-text="">​</span></span></pre></div></div></div></div></div><div style="position: absolute; height: 50px; width: 1px; border-bottom: 0px solid transparent; top: 403px;"></div><div class="CodeMirror-gutters" style="display: none; height: 453px;"></div></div></div></div><div class="text_cell_render rendered_html" tabindex="-1" dir="ltr"><h3 id="0.2.-Defining-nested-if-clauses">0.2. Defining nested <code>if</code> clauses<a class="anchor-link" href="#0.2.-Defining-nested-if-clauses">¶</a></h3>
<p>The previous examples illustrate first-level <code>if</code> clauses. In complex programs, it is very common to have nested <code>if</code> clauses, meaning that <code>if</code> clauses are defined inside other <code>if</code> clauses, sometimes at multiple levels. See the example below:</p>
<pre><code class="cm-s-ipython language-python"><span class="cm-variable">a</span> <span class="cm-operator">=</span> <span class="cm-number">15</span>
<span class="cm-variable">b</span> <span class="cm-operator">=</span> <span class="cm-number">10</span>

<span class="cm-keyword">if</span> <span class="cm-variable">a</span> <span class="cm-operator">&gt;</span> <span class="cm-variable">b</span>:
    <span class="cm-builtin">print</span>(<span class="cm-string">"a is greater than b"</span>)
    <span class="cm-keyword">if</span> <span class="cm-variable">a</span> <span class="cm-operator">-</span> <span class="cm-variable">b</span> <span class="cm-operator">&gt;</span> <span class="cm-number">5</span>:
        <span class="cm-builtin">print</span>(<span class="cm-string">"The difference between a and b is greater than 5"</span>)
    <span class="cm-keyword">else</span>:
        <span class="cm-builtin">print</span>(<span class="cm-string">"The difference between a and b is 5 or less"</span>)
<span class="cm-keyword">else</span>:
    <span class="cm-builtin">print</span>(<span class="cm-string">"a is not greater than b"</span>)
</code></pre>
<p>In this example, there is an <code>if</code> statement nested within another <code>if</code> statement. This structure allows for more granular control over the conditions and the corresponding actions in your program.</p>
</div></div></div><div class="cell code_cell rendered unselected" tabindex="2"><div class="input"><div class="prompt_container"><div class="prompt input_prompt"><bdi>In</bdi>&nbsp;[17]:</div><div class="run_this_cell" title="Run this cell"><i class="fa-step-forward fa"></i></div></div><div class="inner_cell"><div class="ctb_hideshow"><div class="celltoolbar"></div></div><div class="input_area" aria-label="Edit code here"><div class="CodeMirror cm-s-ipython" translate="no"><div style="overflow: hidden; position: relative; width: 3px; height: 0px; top: 158.6px; left: 46.0833px;"><textarea style="position: absolute; bottom: -1em; padding: 0px; width: 1px; height: 1em; min-height: 1em; outline: none;" wrap="off" autocorrect="off" autocapitalize="none" spellcheck="false" tabindex="0"></textarea></div><div class="CodeMirror-vscrollbar" tabindex="-1" cm-not-content="true" style="width: 18px; pointer-events: none;"><div style="min-width: 1px; height: 0px;"></div></div><div class="CodeMirror-hscrollbar" tabindex="-1" cm-not-content="true" style="height: 18px; pointer-events: none;"><div style="height: 100%; min-height: 1px; width: 0px;"></div></div><div class="CodeMirror-scrollbar-filler" cm-not-content="true"></div><div class="CodeMirror-gutter-filler" cm-not-content="true"></div><div class="CodeMirror-scroll" tabindex="-1" draggable="true"><div class="CodeMirror-sizer" style="margin-left: 0px; min-width: 554.083px; margin-bottom: 0px; border-right-width: 50px; min-height: 198px; padding-right: 0px; padding-bottom: 0px;"><div style="position: relative; top: 0px;"><div class="CodeMirror-lines" role="presentation"><div style="position: relative; outline: none;" role="presentation"><div class="CodeMirror-measure"></div><div class="CodeMirror-measure"></div><div style="position: relative; z-index: 1;"></div><div class="CodeMirror-cursors" style="visibility: hidden;"><div class="CodeMirror-cursor" style="left: 46.0833px; top: 153px; height: 17px;">&nbsp;</div></div><div class="CodeMirror-code" role="presentation" style=""><pre class=" CodeMirror-line " role="presentation"><span role="presentation"><span class="cm-variable">a</span> <span class="cm-operator">=</span> <span class="cm-number">15</span></span></pre><pre class=" CodeMirror-line " role="presentation"><span role="presentation"><span class="cm-variable">b</span> <span class="cm-operator">=</span> <span class="cm-number">10</span></span></pre><pre class=" CodeMirror-line " role="presentation"><span role="presentation"><span cm-text="">​</span></span></pre><pre class=" CodeMirror-line " role="presentation"><span role="presentation"><span class="cm-keyword">if</span> <span class="cm-variable">a</span> <span class="cm-operator">&gt;</span> <span class="cm-variable">b</span>:</span></pre><pre class=" CodeMirror-line " role="presentation"><span role="presentation">    <span class="cm-builtin">print</span>(<span class="cm-string">"a is greater than b"</span>)</span></pre><pre class=" CodeMirror-line " role="presentation"><span role="presentation">    <span class="cm-keyword">if</span> <span class="cm-variable">a</span> <span class="cm-operator">-</span> <span class="cm-variable">b</span> <span class="cm-operator">&gt;</span> <span class="cm-number">5</span>:</span></pre><pre class=" CodeMirror-line " role="presentation"><span role="presentation">        <span class="cm-builtin">print</span>(<span class="cm-string">"The difference between a and b is greater than 5"</span>)</span></pre><pre class=" CodeMirror-line " role="presentation"><span role="presentation">    <span class="cm-keyword">else</span>:</span></pre><pre class=" CodeMirror-line " role="presentation"><span role="presentation">        <span class="cm-builtin">print</span>(<span class="cm-string">"The difference between a and b is 5 or less"</span>)</span></pre><pre class=" CodeMirror-line " role="presentation"><span role="presentation"><span class="cm-keyword">else</span>:</span></pre><pre class=" CodeMirror-line " role="presentation"><span role="presentation">    <span class="cm-builtin">print</span>(<span class="cm-string">"a is not greater than b"</span>)</span></pre></div></div></div></div></div><div style="position: absolute; height: 50px; width: 1px; border-bottom: 0px solid transparent; top: 198px;"></div><div class="CodeMirror-gutters" style="display: none; height: 248px;"></div></div></div></div></div></div><div class="widget-area" style="display: none;"><div class="prompt"><button class="close">×</button></div><div class="widget-subarea jp-Output-result"></div></div><div class="output_wrapper"><div class="out_prompt_overlay prompt" title="click to scroll output; double click to hide"></div><div class="output"><div class="output_area"><div class="run_this_cell"></div><div class="prompt"></div><div class="output_subarea output_text output_stream output_stdout" dir="auto"><pre>a is greater than b
The difference between a and b is 5 or less
</pre></div></div></div><div style="display: none;" class="btn btn-default output_collapsed" title="click to expand output">. . .</div></div></div><div class="cell code_cell rendered unselected" tabindex="2"><div class="input"><div class="prompt_container"><div class="prompt input_prompt"><bdi>In</bdi>&nbsp;[16]:</div><div class="run_this_cell" title="Run this cell"><i class="fa-step-forward fa"></i></div></div><div class="inner_cell"><div class="ctb_hideshow"><div class="celltoolbar"></div></div><div class="input_area" aria-label="Edit code here"><div class="CodeMirror cm-s-ipython" translate="no"><div style="overflow: hidden; position: relative; width: 3px; height: 0px; top: 90.6px; left: 458.5px;"><textarea style="position: absolute; bottom: -1em; padding: 0px; width: 1px; height: 1em; min-height: 1em; outline: none;" wrap="off" autocorrect="off" autocapitalize="none" spellcheck="false" tabindex="0"></textarea></div><div class="CodeMirror-vscrollbar" tabindex="-1" cm-not-content="true" style="width: 18px; pointer-events: none;"><div style="min-width: 1px; height: 0px;"></div></div><div class="CodeMirror-hscrollbar" tabindex="-1" cm-not-content="true" style="height: 18px; pointer-events: none;"><div style="height: 100%; min-height: 1px; width: 0px;"></div></div><div class="CodeMirror-scrollbar-filler" cm-not-content="true"></div><div class="CodeMirror-gutter-filler" cm-not-content="true"></div><div class="CodeMirror-scroll" tabindex="-1" draggable="true"><div class="CodeMirror-sizer" style="margin-left: 0px; min-width: 461.5px; margin-bottom: 0px; border-right-width: 50px; min-height: 181px; padding-right: 0px; padding-bottom: 0px;"><div style="position: relative; top: 0px;"><div class="CodeMirror-lines" role="presentation"><div style="position: relative; outline: none;" role="presentation"><div class="CodeMirror-measure"></div><div class="CodeMirror-measure"></div><div style="position: relative; z-index: 1;"></div><div class="CodeMirror-cursors" style="visibility: hidden;"><div class="CodeMirror-cursor" style="left: 458.5px; top: 85px; height: 17px;">&nbsp;</div></div><div class="CodeMirror-code" role="presentation" style=""><pre class=" CodeMirror-line " role="presentation"><span role="presentation"><span class="cm-variable">embranchement</span> <span class="cm-operator">=</span> <span class="cm-string">"rien"</span></span></pre><pre class=" CodeMirror-line " role="presentation"><span role="presentation"><span class="cm-keyword">if</span> <span class="cm-variable">embranchement</span> <span class="cm-operator">==</span> <span class="cm-string">"vertébrés"</span>:</span></pre><pre class=" CodeMirror-line " role="presentation"><span role="presentation">    <span class="cm-keyword">if</span> <span class="cm-variable">classe</span> <span class="cm-operator">==</span> <span class="cm-string">"mammifères"</span>:</span></pre><pre class=" CodeMirror-line " role="presentation"><span role="presentation">        <span class="cm-keyword">if</span> <span class="cm-variable">ordre</span> <span class="cm-operator">==</span> <span class="cm-string">"carnivores"</span>:</span></pre><pre class=" CodeMirror-line " role="presentation"><span role="presentation">            <span class="cm-keyword">if</span> <span class="cm-variable">famille</span> <span class="cm-operator">==</span> <span class="cm-string">"félins"</span>:</span></pre><pre class=" CodeMirror-line " role="presentation"><span role="presentation">                <span class="cm-builtin">print</span>(<span class="cm-string">"Il s’agit peut-être d’un chat"</span>)</span></pre><pre class=" CodeMirror-line " role="presentation"><span role="presentation">        <span class="cm-builtin">print</span>(<span class="cm-string">"C’est en tous cas un mammifère"</span>)</span></pre><pre class=" CodeMirror-line " role="presentation"><span role="presentation">    <span class="cm-keyword">elif</span> <span class="cm-variable">classe</span> <span class="cm-operator">==</span> <span class="cm-string">"oiseaux"</span>:</span></pre><pre class=" CodeMirror-line " role="presentation"><span role="presentation">        <span class="cm-builtin">print</span>(<span class="cm-string">"C’est peut-être un canari"</span>)</span></pre><pre class=" CodeMirror-line " role="presentation"><span role="presentation"><span class="cm-builtin">print</span>(<span class="cm-string">"La classification des animaux est complexe"</span>)</span></pre></div></div></div></div></div><div style="position: absolute; height: 50px; width: 1px; border-bottom: 0px solid transparent; top: 181px;"></div><div class="CodeMirror-gutters" style="display: none; height: 231px;"></div></div></div></div></div></div><div class="widget-area" style="display: none;"><div class="prompt"><button class="close">×</button></div><div class="widget-subarea jp-Output-result"></div></div><div class="output_wrapper"><div class="out_prompt_overlay prompt" title="click to scroll output; double click to hide"></div><div class="output"><div class="output_area"><div class="run_this_cell"></div><div class="prompt"></div><div class="output_subarea output_text output_stream output_stdout" dir="auto"><pre>La classification des animaux est complexe
</pre></div></div></div><div style="display: none;" class="btn btn-default output_collapsed" title="click to expand output">. . .</div></div></div><div class="cell text_cell rendered unselected" tabindex="2"><div class="prompt input_prompt"></div><div class="inner_cell"><div class="ctb_hideshow"><div class="celltoolbar"></div></div><div class="input_area" aria-label="Edit Markup Text here"><div class="CodeMirror cm-s-default CodeMirror-wrap" translate="no"><div style="overflow: hidden; position: relative; width: 3px; height: 0px; top: 5.59985px; left: 4px;"><textarea style="position: absolute; bottom: -1em; padding: 0px; width: 1px; height: 1em; min-height: 1em; outline: none;" wrap="off" autocorrect="off" autocapitalize="none" spellcheck="false" tabindex="0"></textarea></div><div class="CodeMirror-vscrollbar" tabindex="-1" cm-not-content="true" style="bottom: 0px; width: 18px; pointer-events: none;"><div style="min-width: 1px; height: 0px;"></div></div><div class="CodeMirror-hscrollbar" tabindex="-1" cm-not-content="true" style="height: 18px; pointer-events: none;"><div style="height: 100%; min-height: 1px; width: 0px;"></div></div><div class="CodeMirror-scrollbar-filler" cm-not-content="true"></div><div class="CodeMirror-gutter-filler" cm-not-content="true"></div><div class="CodeMirror-scroll" tabindex="-1" draggable="true"><div class="CodeMirror-sizer" style="margin-left: 0px; padding-right: 0px; padding-bottom: 0px; margin-bottom: 0px; border-right-width: 50px; min-height: 692px;"><div style="position: relative; top: 0px;"><div class="CodeMirror-lines" role="presentation"><div style="position: relative; outline: none;" role="presentation"><div class="CodeMirror-measure"><pre class="CodeMirror-line-like"><span>xxxxxxxxxx</span></pre></div><div class="CodeMirror-measure"></div><div style="position: relative; z-index: 1;"></div><div class="CodeMirror-cursors"><div class="CodeMirror-cursor" style="left: 4px; top: 0px; height: 17.0167px;">&nbsp;</div></div><div class="CodeMirror-code" role="presentation" style=""><pre class=" CodeMirror-line " role="presentation"><span role="presentation"><span class="cm-header cm-header-2">## 1. Loop instructions</span></span></pre><pre class=" CodeMirror-line " role="presentation"><span role="presentation"><span cm-text="">​</span></span></pre><pre class=" CodeMirror-line " role="presentation"><span role="presentation">In Python, there are two main types of loop instructions:</span></pre><pre class=" CodeMirror-line " role="presentation"><span role="presentation"><span cm-text="">​</span></span></pre><pre class=" CodeMirror-line " role="presentation"><span role="presentation"><span class="cm-variable-2">1. </span><span class="cm-strong cm-variable-2">**</span><span class="cm-strong cm-comment cm-variable-2">`while...`</span><span class="cm-strong cm-variable-2"> loops**</span><span class="cm-variable-2">: These loops execute a block of code repeatedly as long as a specified condition remains </span><span class="cm-comment cm-variable-2">`True`</span><span class="cm-variable-2">. They are useful when the number of iterations is not known in advance and depends on dynamic conditions evaluated during execution.</span></span></pre><pre class=" CodeMirror-line " role="presentation"><span role="presentation"><span cm-text="">​</span></span></pre><pre class=" CodeMirror-line " role="presentation"><span role="presentation"><span class="cm-variable-2">2. </span><span class="cm-strong cm-variable-2">**</span><span class="cm-strong cm-comment cm-variable-2">`for... in...`</span><span class="cm-strong cm-variable-2"> loops**</span><span class="cm-variable-2">: These loops iterate over a sequence (such as a list, tuple, or string) or other iterable objects. They are ideal for iterating through known sequences or ranges of values, allowing for clear and concise iteration over collections or ranges.</span></span></pre><pre class=" CodeMirror-line " role="presentation"><span role="presentation"><span cm-text="">​</span></span></pre><pre class=" CodeMirror-line " role="presentation"><span role="presentation">Both types of loops are fundamental for controlling the flow of execution and repeating tasks efficiently in Python programs.</span></pre><pre class=" CodeMirror-line " role="presentation"><span role="presentation"><span cm-text="">​</span></span></pre><pre class=" CodeMirror-line " role="presentation"><span role="presentation"><span cm-text="">​</span></span></pre><pre class=" CodeMirror-line " role="presentation"><span role="presentation"><span class="cm-header cm-header-3">###  1.0. while... loops</span></span></pre><pre class=" CodeMirror-line " role="presentation"><span role="presentation"><span cm-text="">​</span></span></pre><pre class=" CodeMirror-line " role="presentation"><span role="presentation">After introducing conditional structures, we turn our attention to loop structures: these structures allow a block of instructions to be executed multiple times. These repetitions fall into two categories:</span></pre><pre class=" CodeMirror-line " role="presentation"><span role="presentation"><span cm-text="">​</span></span></pre><pre class=" CodeMirror-line " role="presentation"><span role="presentation"><span class="cm-variable-2">- </span><span class="cm-strong cm-variable-2">**Conditional repetitions**</span><span class="cm-variable-2">: The block of instructions is repeated as long as a condition is true.</span></span></pre><pre class=" CodeMirror-line " role="presentation"><span role="presentation"><span cm-text="">​</span></span></pre><pre class=" CodeMirror-line " role="presentation"><span role="presentation"><span class="cm-variable-2">- </span><span class="cm-strong cm-variable-2">**Unconditional repetitions**</span><span class="cm-variable-2">: The block of instructions is repeated a specified number of times.</span></span></pre><pre class=" CodeMirror-line " role="presentation"><span role="presentation"><span cm-text="">​</span></span></pre><pre class=" CodeMirror-line " role="presentation"><span role="presentation">The general syntax for defining <span class="cm-comment">`while`</span> loop instructions is as follows:</span></pre><pre class=" CodeMirror-line " role="presentation"><span role="presentation"><span cm-text="">​</span></span></pre><pre class=" CodeMirror-line " role="presentation"><span role="presentation"><span class="cm-comment">```python</span></span></pre><pre class=" CodeMirror-line " role="presentation"><span role="presentation"> &nbsp; <span class="cm-variable">Initialize</span> <span class="cm-variable">increment</span> <span class="cm-variable">variable</span></span></pre><pre class=" CodeMirror-line " role="presentation"><span role="presentation"> &nbsp; <span class="cm-keyword cm-error">while</span> <span class="cm-variable">condition</span>:</span></pre><pre class=" CodeMirror-line " role="presentation"><span role="presentation"> &nbsp; &nbsp; &nbsp; &nbsp;<span class="cm-variable">block_of_instructions</span></span></pre><pre class=" CodeMirror-line " role="presentation"><span role="presentation"> &nbsp; &nbsp; &nbsp; &nbsp;<span class="cm-variable">increment</span></span></pre><pre class=" CodeMirror-line " role="presentation"><span role="presentation"><span class="cm-comment">```</span></span></pre><pre class=" CodeMirror-line " role="presentation"><span role="presentation"><span cm-text="">​</span></span></pre><pre class=" CodeMirror-line " role="presentation"><span role="presentation">As with the <span class="cm-comment">`if`</span> structure, the condition is first evaluated, and if it is true, the block of instructions is executed. However, with the <span class="cm-comment">`while`</span> loop, after executing the block of instructions, the condition is evaluated again. This process repeats until the condition becomes false. Therefore, it is essential to define an increment variable whose value changes after each execution so that the condition can eventually become false. This increment is necessary to prevent the instructions from being evaluated indefinitely, creating an infinite loop (or endless loop). Such a situation requires forcibly stopping the program's execution.</span></pre></div></div></div></div></div><div style="position: absolute; height: 50px; width: 1px; border-bottom: 0px solid transparent; top: 692px;"></div><div class="CodeMirror-gutters" style="display: none; height: 742px;"></div></div></div></div><div class="text_cell_render rendered_html" tabindex="-1" dir="ltr"><h2 id="1.-Loop-instructions">1. Loop instructions<a class="anchor-link" href="#1.-Loop-instructions">¶</a></h2>
<p>In Python, there are two main types of loop instructions:</p>
<ol>
<li><p><strong><code>while...</code> loops</strong>: These loops execute a block of code repeatedly as long as a specified condition remains <code>True</code>.
 They are useful when the number of iterations is not known in advance 
and depends on dynamic conditions evaluated during execution.</p>
</li>
<li><p><strong><code>for... in...</code> loops</strong>: These loops 
iterate over a sequence (such as a list, tuple, or string) or other 
iterable objects. They are ideal for iterating through known sequences 
or ranges of values, allowing for clear and concise iteration over 
collections or ranges.</p>
</li>
</ol>
<p>Both types of loops are fundamental for controlling the flow of execution and repeating tasks efficiently in Python programs.</p>
<h3 id="1.0.-while...-loops">1.0. while... loops<a class="anchor-link" href="#1.0.-while...-loops">¶</a></h3>
<p>After introducing conditional structures, we turn our attention to 
loop structures: these structures allow a block of instructions to be 
executed multiple times. These repetitions fall into two categories:</p>
<ul>
<li><p><strong>Conditional repetitions</strong>: The block of instructions is repeated as long as a condition is true.</p>
</li>
<li><p><strong>Unconditional repetitions</strong>: The block of instructions is repeated a specified number of times.</p>
</li>
</ul>
<p>The general syntax for defining <code>while</code> loop instructions is as follows:</p>
<pre><code class="cm-s-ipython language-python">   <span class="cm-variable">Initialize</span> <span class="cm-variable">increment</span> <span class="cm-variable">variable</span>
   <span class="cm-keyword">while</span> <span class="cm-variable">condition</span>:
        <span class="cm-variable">block_of_instructions</span>
        <span class="cm-variable">increment</span>
</code></pre>
<p>As with the <code>if</code> structure, the condition is first evaluated, and if it is true, the block of instructions is executed. However, with the <code>while</code>
 loop, after executing the block of instructions, the condition is 
evaluated again. This process repeats until the condition becomes false.
 Therefore, it is essential to define an increment variable whose value 
changes after each execution so that the condition can eventually become
 false. This increment is necessary to prevent the instructions from 
being evaluated indefinitely, creating an infinite loop (or endless 
loop). Such a situation requires forcibly stopping the program's 
execution.</p>
</div></div></div><div class="cell code_cell rendered unselected" tabindex="2"><div class="input"><div class="prompt_container"><div class="prompt input_prompt"><bdi>In</bdi>&nbsp;[15]:</div><div class="run_this_cell" title="Run this cell"><i class="fa-step-forward fa"></i></div></div><div class="inner_cell"><div class="ctb_hideshow"><div class="celltoolbar"></div></div><div class="input_area" aria-label="Edit code here"><div class="CodeMirror cm-s-ipython" translate="no"><div style="overflow: hidden; position: relative; width: 3px; height: 0px; top: 5.60004px; left: 340.667px;"><textarea style="position: absolute; bottom: -1em; padding: 0px; width: 1px; height: 1em; min-height: 1em; outline: none;" wrap="off" autocorrect="off" autocapitalize="none" spellcheck="false" tabindex="0"></textarea></div><div class="CodeMirror-vscrollbar" tabindex="-1" cm-not-content="true" style="width: 18px; pointer-events: none;"><div style="min-width: 1px; height: 0px;"></div></div><div class="CodeMirror-hscrollbar" tabindex="-1" cm-not-content="true" style="height: 18px; pointer-events: none;"><div style="height: 100%; min-height: 1px; width: 0px;"></div></div><div class="CodeMirror-scrollbar-filler" cm-not-content="true"></div><div class="CodeMirror-gutter-filler" cm-not-content="true"></div><div class="CodeMirror-scroll" tabindex="-1" draggable="true"><div class="CodeMirror-sizer" style="margin-left: 0px; min-width: 368.917px; margin-bottom: 0px; border-right-width: 50px; min-height: 79px; padding-right: 0px; padding-bottom: 0px;"><div style="position: relative; top: 0px;"><div class="CodeMirror-lines" role="presentation"><div style="position: relative; outline: none;" role="presentation"><div class="CodeMirror-measure"></div><div class="CodeMirror-measure"></div><div style="position: relative; z-index: 1;"></div><div class="CodeMirror-cursors" style="visibility: hidden;"><div class="CodeMirror-cursor" style="left: 340.667px; top: 0px; height: 17px;">&nbsp;</div></div><div class="CodeMirror-code" role="presentation"><pre class=" CodeMirror-line " role="presentation"><span role="presentation"><span class="cm-variable">x</span> <span class="cm-operator">=</span> <span class="cm-number">1</span> <span class="cm-comment"># Initialization of the variable x</span></span></pre><pre class=" CodeMirror-line " role="presentation"><span role="presentation"><span class="cm-keyword">while</span> (<span class="cm-variable">x</span> <span class="cm-operator">&lt;</span> <span class="cm-number">10</span>):</span></pre><pre class=" CodeMirror-line " role="presentation"><span role="presentation">    <span class="cm-builtin">print</span>(<span class="cm-string">'The value of x is '</span>, <span class="cm-variable">x</span>)</span></pre><pre class=" CodeMirror-line " role="presentation"><span role="presentation">    <span class="cm-variable">x</span> <span class="cm-operator">=</span> <span class="cm-variable">x</span> <span class="cm-operator">+</span> <span class="cm-number">1</span> <span class="cm-comment"># Increment of the variable x</span></span></pre></div></div></div></div></div><div style="position: absolute; height: 50px; width: 1px; border-bottom: 0px solid transparent; top: 79px;"></div><div class="CodeMirror-gutters" style="display: none; height: 129px;"></div></div></div></div></div></div><div class="widget-area" style="display: none;"><div class="prompt"><button class="close">×</button></div><div class="widget-subarea jp-Output-result"></div></div><div class="output_wrapper"><div class="out_prompt_overlay prompt" title="click to scroll output; double click to hide"></div><div class="output"><div class="output_area"><div class="run_this_cell"></div><div class="prompt"></div><div class="output_subarea output_text output_stream output_stdout" dir="auto"><pre>The value of x is  1
The value of x is  2
The value of x is  3
The value of x is  4
The value of x is  5
The value of x is  6
The value of x is  7
The value of x is  8
The value of x is  9
</pre></div></div></div><div style="display: none;" class="btn btn-default output_collapsed" title="click to expand output">. . .</div></div></div><div class="cell code_cell rendered unselected" tabindex="2"><div class="input"><div class="prompt_container"><div class="prompt input_prompt"><bdi>In</bdi>&nbsp;[14]:</div><div class="run_this_cell" title="Run this cell"><i class="fa-step-forward fa"></i></div></div><div class="inner_cell"><div class="ctb_hideshow"><div class="celltoolbar"></div></div><div class="input_area" aria-label="Edit code here"><div class="CodeMirror cm-s-ipython" translate="no"><div style="overflow: hidden; position: relative; width: 3px; height: 0px; top: 56.6px; left: 180.75px;"><textarea style="position: absolute; bottom: -1em; padding: 0px; width: 1px; height: 1em; min-height: 1em; outline: none;" wrap="off" autocorrect="off" autocapitalize="none" spellcheck="false" tabindex="0"></textarea></div><div class="CodeMirror-vscrollbar" tabindex="-1" cm-not-content="true" style="width: 18px; pointer-events: none;"><div style="min-width: 1px; height: 0px;"></div></div><div class="CodeMirror-hscrollbar" tabindex="-1" cm-not-content="true" style="height: 18px; pointer-events: none;"><div style="height: 100%; min-height: 1px; width: 0px;"></div></div><div class="CodeMirror-scrollbar-filler" cm-not-content="true"></div><div class="CodeMirror-gutter-filler" cm-not-content="true"></div><div class="CodeMirror-scroll" tabindex="-1" draggable="true"><div class="CodeMirror-sizer" style="margin-left: 0px; min-width: 444.667px; margin-bottom: 0px; border-right-width: 50px; min-height: 96px; padding-right: 0px; padding-bottom: 0px;"><div style="position: relative; top: 0px;"><div class="CodeMirror-lines" role="presentation"><div style="position: relative; outline: none;" role="presentation"><div class="CodeMirror-measure"></div><div class="CodeMirror-measure"></div><div style="position: relative; z-index: 1;"></div><div class="CodeMirror-cursors" style=""><div class="CodeMirror-cursor" style="left: 180.75px; top: 51px; height: 17px;">&nbsp;</div></div><div class="CodeMirror-code" role="presentation" style=""><pre class=" CodeMirror-line " role="presentation"><span role="presentation"><span class="cm-variable">fruits</span> <span class="cm-operator">=</span> [<span class="cm-string">'pommes'</span>, <span class="cm-string">'oranges'</span>, <span class="cm-string">'fraises'</span>, <span class="cm-string">'bananes'</span>]</span></pre><pre class=" CodeMirror-line " role="presentation"><span role="presentation"><span class="cm-variable">i</span> <span class="cm-operator">=</span> <span class="cm-number">0</span></span></pre><pre class=" CodeMirror-line " role="presentation"><span role="presentation"><span class="cm-keyword">while</span> <span class="cm-variable">i</span> <span class="cm-operator">&lt;</span> <span class="cm-builtin">len</span>(<span class="cm-variable">fruits</span>):</span></pre><pre class=" CodeMirror-line " role="presentation"><span role="presentation">    <span class="cm-builtin">print</span> (<span class="cm-variable">fruits</span>[<span class="cm-variable">i</span>])</span></pre><pre class=" CodeMirror-line " role="presentation"><span role="presentation">    <span class="cm-variable">i</span> <span class="cm-operator">=</span> <span class="cm-variable">i</span> <span class="cm-operator">+</span> <span class="cm-number">1</span></span></pre></div></div></div></div></div><div style="position: absolute; height: 50px; width: 1px; border-bottom: 0px solid transparent; top: 96px;"></div><div class="CodeMirror-gutters" style="display: none; height: 146px;"></div></div></div></div></div></div><div class="widget-area" style="display: none;"><div class="prompt"><button class="close">×</button></div><div class="widget-subarea jp-Output-result"></div></div><div class="output_wrapper"><div class="out_prompt_overlay prompt" title="click to scroll output; double click to hide"></div><div class="output"><div class="output_area"><div class="run_this_cell"></div><div class="prompt"></div><div class="output_subarea output_text output_stream output_stdout" dir="auto"><pre>pommes
oranges
fraises
bananes
</pre></div></div></div><div style="display: none;" class="btn btn-default output_collapsed" title="click to expand output">. . .</div></div></div><div class="cell text_cell rendered unselected" tabindex="2"><div class="prompt input_prompt"></div><div class="inner_cell"><div class="ctb_hideshow"><div class="celltoolbar"></div></div><div class="input_area" aria-label="Edit Markup Text here"><div class="CodeMirror cm-s-default CodeMirror-wrap" translate="no"><div style="overflow: hidden; position: relative; width: 3px; height: 0px; top: 5.59985px; left: 4px;"><textarea style="position: absolute; bottom: -1em; padding: 0px; width: 1px; height: 1em; min-height: 1em; outline: none;" wrap="off" autocorrect="off" autocapitalize="none" spellcheck="false" tabindex="0"></textarea></div><div class="CodeMirror-vscrollbar" tabindex="-1" cm-not-content="true" style="bottom: 0px; width: 18px; pointer-events: none;"><div style="min-width: 1px; height: 0px;"></div></div><div class="CodeMirror-hscrollbar" tabindex="-1" cm-not-content="true" style="height: 18px; pointer-events: none;"><div style="height: 100%; min-height: 1px; width: 0px;"></div></div><div class="CodeMirror-scrollbar-filler" cm-not-content="true"></div><div class="CodeMirror-gutter-filler" cm-not-content="true"></div><div class="CodeMirror-scroll" tabindex="-1" draggable="true"><div class="CodeMirror-sizer" style="margin-left: 0px; padding-right: 0px; padding-bottom: 0px; margin-bottom: 0px; border-right-width: 50px; min-height: 267px;"><div style="position: relative; top: 0px;"><div class="CodeMirror-lines" role="presentation"><div style="position: relative; outline: none;" role="presentation"><div class="CodeMirror-measure"><pre class="CodeMirror-line-like"><span>xxxxxxxxxx</span></pre></div><div class="CodeMirror-measure"></div><div style="position: relative; z-index: 1;"></div><div class="CodeMirror-cursors"><div class="CodeMirror-cursor" style="left: 4px; top: 0px; height: 18.1px;">&nbsp;</div></div><div class="CodeMirror-code" role="presentation" style=""><pre class=" CodeMirror-line " role="presentation"><span role="presentation"><span class="cm-header cm-header-3">### 1.1. Loop instructions: </span><span class="cm-comment cm-header cm-header-3">`for... in...`</span></span></pre><pre class=" CodeMirror-line " role="presentation"><span role="presentation"><span cm-text="">​</span></span></pre><pre class=" CodeMirror-line " role="presentation"><span role="presentation">When we want to repeat a block of instructions a specified number of times, we can use a <span class="cm-em">*counter*</span>, which is a variable that counts the number of repetitions and controls the exit of the <span class="cm-comment">`while`</span> loop. This is illustrated in the following example, where a function takes an integer <span class="cm-comment">`n`</span> as an argument and prints the same message <span class="cm-comment">`n`</span> times.</span></pre><pre class=" CodeMirror-line " role="presentation"><span role="presentation"><span cm-text="">​</span></span></pre><pre class=" CodeMirror-line " role="presentation"><span role="presentation">To perform such a repetition, we have a loop structure that saves us from initializing the counter <span class="cm-comment">`(i = 0)`</span> and incrementing it <span class="cm-comment">`(i += 1)`</span>: this is the structure introduced by the <span class="cm-comment">`for`</span> keyword.</span></pre><pre class=" CodeMirror-line " role="presentation"><span role="presentation"><span cm-text="">​</span></span></pre><pre class=" CodeMirror-line " role="presentation"><span role="presentation">The general syntax for defining <span class="cm-comment">`for... in...`</span> loop instructions is as follows:</span></pre><pre class=" CodeMirror-line " role="presentation"><span role="presentation"><span cm-text="">​</span></span></pre><pre class=" CodeMirror-line " role="presentation"><span role="presentation"><span class="cm-comment">```python</span></span></pre><pre class=" CodeMirror-line " role="presentation"><span role="presentation"> &nbsp; <span class="cm-keyword">for</span> <span class="cm-variable">element</span> <span class="cm-keyword">in</span> <span class="cm-variable">sequence_of_values</span> :</span></pre><pre class=" CodeMirror-line " role="presentation"><span role="presentation"> &nbsp; &nbsp; &nbsp; &nbsp;<span class="cm-variable">block</span> <span class="cm-variable">of</span> <span class="cm-variable">instructions</span></span></pre><pre class=" CodeMirror-line " role="presentation"><span role="presentation"><span class="cm-comment">```</span></span></pre></div></div></div></div></div><div style="position: absolute; height: 50px; width: 1px; border-bottom: 0px solid transparent; top: 267px;"></div><div class="CodeMirror-gutters" style="display: none; height: 317px;"></div></div></div></div><div class="text_cell_render rendered_html" tabindex="-1" dir="ltr"><h3 id="1.1.-Loop-instructions:-for...-in...">1.1. Loop instructions: <code>for... in...</code><a class="anchor-link" href="#1.1.-Loop-instructions:-for...-in...">¶</a></h3>
<p>When we want to repeat a block of instructions a specified number of times, we can use a <em>counter</em>, which is a variable that counts the number of repetitions and controls the exit of the <code>while</code> loop. This is illustrated in the following example, where a function takes an integer <code>n</code> as an argument and prints the same message <code>n</code> times.</p>
<p>To perform such a repetition, we have a loop structure that saves us from initializing the counter <code>(i = 0)</code> and incrementing it <code>(i += 1)</code>: this is the structure introduced by the <code>for</code> keyword.</p>
<p>The general syntax for defining <code>for... in...</code> loop instructions is as follows:</p>
<pre><code class="cm-s-ipython language-python">   <span class="cm-keyword">for</span> <span class="cm-variable">element</span> <span class="cm-keyword">in</span> <span class="cm-variable">sequence_of_values</span> :
        <span class="cm-variable">block</span> <span class="cm-variable">of</span> <span class="cm-variable">instructions</span>
</code></pre>
</div></div></div><div class="cell code_cell rendered unselected" tabindex="2"><div class="input"><div class="prompt_container"><div class="prompt input_prompt"><bdi>In</bdi>&nbsp;[13]:</div><div class="run_this_cell" title="Run this cell"><i class="fa-step-forward fa"></i></div></div><div class="inner_cell"><div class="ctb_hideshow"><div class="celltoolbar"></div></div><div class="input_area" aria-label="Edit code here"><div class="CodeMirror cm-s-ipython" translate="no"><div style="overflow: hidden; position: relative; width: 3px; height: 0px; top: 39.6px; left: 517.417px;"><textarea style="position: absolute; bottom: -1em; padding: 0px; width: 1px; height: 1em; min-height: 1em; outline: none;" wrap="off" autocorrect="off" autocapitalize="none" spellcheck="false" tabindex="0">)</textarea></div><div class="CodeMirror-vscrollbar" tabindex="-1" cm-not-content="true" style="width: 18px; pointer-events: none;"><div style="min-width: 1px; height: 0px;"></div></div><div class="CodeMirror-hscrollbar" tabindex="-1" cm-not-content="true" style="height: 18px; pointer-events: none;"><div style="height: 100%; min-height: 1px; width: 0px;"></div></div><div class="CodeMirror-scrollbar-filler" cm-not-content="true"></div><div class="CodeMirror-gutter-filler" cm-not-content="true"></div><div class="CodeMirror-scroll" tabindex="-1" draggable="true"><div class="CodeMirror-sizer" style="margin-left: 0px; min-width: 520.417px; margin-bottom: 0px; border-right-width: 50px; min-height: 62px; padding-right: 0px; padding-bottom: 0px;"><div style="position: relative; top: 0px;"><div class="CodeMirror-lines" role="presentation"><div style="position: relative; outline: none;" role="presentation"><div class="CodeMirror-measure"><pre class="CodeMirror-line-like">x</pre></div><div class="CodeMirror-measure"></div><div style="position: relative; z-index: 1;"><div class="CodeMirror-selected" style="position: absolute; left: 509px; top: 34px; width: 8.41667px; height: 17px;"></div></div><div class="CodeMirror-cursors" style="visibility: hidden;"></div><div class="CodeMirror-code" role="presentation"><pre class=" CodeMirror-line " role="presentation"><span role="presentation"><span class="cm-variable">n</span> <span class="cm-operator">=</span> <span class="cm-number">5</span></span></pre><pre class=" CodeMirror-line " role="presentation"><span role="presentation"><span class="cm-keyword">for</span> <span class="cm-variable">i</span> <span class="cm-keyword">in</span> <span class="cm-builtin">range</span>(<span class="cm-variable">n</span>):</span></pre><pre class=" CodeMirror-line " role="presentation"><span role="presentation">    <span class="cm-builtin">print</span>(<span class="cm-string">'I repeat myself {} times.'</span> <span class="cm-string">' (i={})'</span>.<span class="cm-property">format</span>(<span class="cm-variable">n</span>, <span class="cm-variable">i</span>))</span></pre></div></div></div></div></div><div style="position: absolute; height: 50px; width: 1px; border-bottom: 0px solid transparent; top: 62px;"></div><div class="CodeMirror-gutters" style="display: none; height: 112px;"></div></div></div></div></div></div><div class="widget-area" style="display: none;"><div class="prompt"><button class="close">×</button></div><div class="widget-subarea jp-Output-result"></div></div><div class="output_wrapper"><div class="out_prompt_overlay prompt" title="click to scroll output; double click to hide"></div><div class="output"><div class="output_area"><div class="run_this_cell"></div><div class="prompt"></div><div class="output_subarea output_text output_stream output_stdout" dir="auto"><pre>I repeat myself 5 times. (i=0)
I repeat myself 5 times. (i=1)
I repeat myself 5 times. (i=2)
I repeat myself 5 times. (i=3)
I repeat myself 5 times. (i=4)
</pre></div></div></div><div style="display: none;" class="btn btn-default output_collapsed" title="click to expand output">. . .</div></div></div><div class="cell code_cell rendered unselected" tabindex="2"><div class="input"><div class="prompt_container"><div class="prompt input_prompt"><bdi>In</bdi>&nbsp;[12]:</div><div class="run_this_cell" title="Run this cell"><i class="fa-step-forward fa"></i></div></div><div class="inner_cell"><div class="ctb_hideshow"><div class="celltoolbar"></div></div><div class="input_area" aria-label="Edit code here"><div class="CodeMirror cm-s-ipython" translate="no"><div style="overflow: hidden; position: relative; width: 3px; height: 0px; top: 5.60001px; left: 4px;"><textarea style="position: absolute; bottom: -1em; padding: 0px; width: 1px; height: 1em; min-height: 1em; outline: none;" wrap="off" autocorrect="off" autocapitalize="none" spellcheck="false" tabindex="0"></textarea></div><div class="CodeMirror-vscrollbar" tabindex="-1" cm-not-content="true" style="width: 18px; pointer-events: none;"><div style="min-width: 1px; height: 0px;"></div></div><div class="CodeMirror-hscrollbar" tabindex="-1" cm-not-content="true" style="height: 18px; pointer-events: none;"><div style="height: 100%; min-height: 1px; width: 0px;"></div></div><div class="CodeMirror-scrollbar-filler" cm-not-content="true"></div><div class="CodeMirror-gutter-filler" cm-not-content="true"></div><div class="CodeMirror-scroll" tabindex="-1" draggable="true"><div class="CodeMirror-sizer" style="margin-left: 0px; min-width: 453.083px; margin-bottom: 0px; border-right-width: 50px; min-height: 62px; padding-right: 0px; padding-bottom: 0px;"><div style="position: relative; top: 0px;"><div class="CodeMirror-lines" role="presentation"><div style="position: relative; outline: none;" role="presentation"><div class="CodeMirror-measure"></div><div class="CodeMirror-measure"></div><div style="position: relative; z-index: 1;"></div><div class="CodeMirror-cursors"><div class="CodeMirror-cursor" style="left: 4px; top: 0px; height: 17px;">&nbsp;</div></div><div class="CodeMirror-code" role="presentation"><pre class=" CodeMirror-line " role="presentation"><span role="presentation"><span class="cm-comment"># Instruction dans une boucle « for.. in ... » simple</span></span></pre><pre class=" CodeMirror-line " role="presentation"><span role="presentation"><span class="cm-keyword">for</span> <span class="cm-variable">i</span> <span class="cm-keyword">in</span> <span class="cm-builtin">range</span>(<span class="cm-number">1</span>,<span class="cm-number">11</span>) :</span></pre><pre class=" CodeMirror-line " role="presentation"><span role="presentation">    <span class="cm-builtin">print</span>(<span class="cm-variable">i</span>)</span></pre></div></div></div></div></div><div style="position: absolute; height: 50px; width: 1px; border-bottom: 0px solid transparent; top: 62px;"></div><div class="CodeMirror-gutters" style="display: none; height: 112px;"></div></div></div></div></div></div><div class="widget-area" style="display: none;"><div class="prompt"><button class="close">×</button></div><div class="widget-subarea jp-Output-result"></div></div><div class="output_wrapper"><div class="out_prompt_overlay prompt" title="click to scroll output; double click to hide"></div><div class="output"><div class="output_area"><div class="run_this_cell"></div><div class="prompt"></div><div class="output_subarea output_text output_stream output_stdout" dir="auto"><pre>1
2
3
4
5
6
7
8
9
10
</pre></div></div></div><div style="display: none;" class="btn btn-default output_collapsed" title="click to expand output">. . .</div></div></div><div class="cell code_cell rendered unselected" tabindex="2"><div class="input"><div class="prompt_container"><div class="prompt input_prompt"><bdi>In</bdi>&nbsp;[11]:</div><div class="run_this_cell" title="Run this cell"><i class="fa-step-forward fa"></i></div></div><div class="inner_cell"><div class="ctb_hideshow"><div class="celltoolbar"></div></div><div class="input_area" aria-label="Edit code here"><div class="CodeMirror cm-s-ipython" translate="no"><div style="overflow: hidden; position: relative; width: 3px; height: 0px; top: 56.6px; left: 130.25px;"><textarea style="position: absolute; bottom: -1em; padding: 0px; width: 1px; height: 1em; min-height: 1em; outline: none;" wrap="off" autocorrect="off" autocapitalize="none" spellcheck="false" tabindex="0"></textarea></div><div class="CodeMirror-vscrollbar" tabindex="-1" cm-not-content="true" style="width: 18px; pointer-events: none;"><div style="min-width: 1px; height: 0px;"></div></div><div class="CodeMirror-hscrollbar" tabindex="-1" cm-not-content="true" style="height: 18px; pointer-events: none;"><div style="height: 100%; min-height: 1px; width: 0px;"></div></div><div class="CodeMirror-scrollbar-filler" cm-not-content="true"></div><div class="CodeMirror-gutter-filler" cm-not-content="true"></div><div class="CodeMirror-scroll" tabindex="-1" draggable="true"><div class="CodeMirror-sizer" style="margin-left: 0px; min-width: 453.083px; margin-bottom: 0px; border-right-width: 50px; min-height: 79px; padding-right: 0px; padding-bottom: 0px;"><div style="position: relative; top: 0px;"><div class="CodeMirror-lines" role="presentation"><div style="position: relative; outline: none;" role="presentation"><div class="CodeMirror-measure"></div><div class="CodeMirror-measure"></div><div style="position: relative; z-index: 1;"></div><div class="CodeMirror-cursors" style="visibility: hidden;"><div class="CodeMirror-cursor" style="left: 130.25px; top: 51px; height: 17px;">&nbsp;</div></div><div class="CodeMirror-code" role="presentation"><pre class=" CodeMirror-line " role="presentation"><span role="presentation"><span class="cm-comment"># Boucle « for.. in... » sur une chaine de caractères</span></span></pre><pre class=" CodeMirror-line " role="presentation"><span role="presentation"><span class="cm-variable">listch</span> <span class="cm-operator">=</span> <span class="cm-string">"Hello world"</span></span></pre><pre class=" CodeMirror-line " role="presentation"><span role="presentation"><span class="cm-keyword">for</span> <span class="cm-variable">i</span> <span class="cm-keyword">in</span> <span class="cm-variable">listch</span> :</span></pre><pre class=" CodeMirror-line " role="presentation"><span role="presentation">    <span class="cm-builtin">print</span> ( <span class="cm-variable">i</span> )</span></pre></div></div></div></div></div><div style="position: absolute; height: 50px; width: 1px; border-bottom: 0px solid transparent; top: 79px;"></div><div class="CodeMirror-gutters" style="display: none; height: 129px;"></div></div></div></div></div></div><div class="widget-area" style="display: none;"><div class="prompt"><button class="close">×</button></div><div class="widget-subarea jp-Output-result"></div></div><div class="output_wrapper"><div class="out_prompt_overlay prompt" title="click to scroll output; double click to hide"></div><div class="output"><div class="output_area"><div class="run_this_cell"></div><div class="prompt"></div><div class="output_subarea output_text output_stream output_stdout" dir="auto"><pre>H
e
l
l
o
 
w
o
r
l
d
</pre></div></div></div><div style="display: none;" class="btn btn-default output_collapsed" title="click to expand output">. . .</div></div></div><div class="cell code_cell rendered unselected" tabindex="2"><div class="input"><div class="prompt_container"><div class="prompt input_prompt"><bdi>In</bdi>&nbsp;[10]:</div><div class="run_this_cell" title="Run this cell"><i class="fa-step-forward fa"></i></div></div><div class="inner_cell"><div class="ctb_hideshow"><div class="celltoolbar"></div></div><div class="input_area" aria-label="Edit code here"><div class="CodeMirror cm-s-ipython" translate="no"><div style="overflow: hidden; position: relative; width: 3px; height: 0px; top: 90.6px; left: 88.1667px;"><textarea style="position: absolute; bottom: -1em; padding: 0px; width: 1px; height: 1em; min-height: 1em; outline: none;" wrap="off" autocorrect="off" autocapitalize="none" spellcheck="false" tabindex="0"></textarea></div><div class="CodeMirror-vscrollbar" tabindex="-1" cm-not-content="true" style="width: 18px; pointer-events: none;"><div style="min-width: 1px; height: 0px;"></div></div><div class="CodeMirror-hscrollbar" tabindex="-1" cm-not-content="true" style="height: 18px; pointer-events: none;"><div style="height: 100%; min-height: 1px; width: 0px;"></div></div><div class="CodeMirror-scrollbar-filler" cm-not-content="true"></div><div class="CodeMirror-gutter-filler" cm-not-content="true"></div><div class="CodeMirror-scroll" tabindex="-1" draggable="true"><div class="CodeMirror-sizer" style="margin-left: 0px; min-width: 554.083px; margin-bottom: 0px; border-right-width: 50px; min-height: 130px; padding-right: 0px; padding-bottom: 0px;"><div style="position: relative; top: 0px;"><div class="CodeMirror-lines" role="presentation"><div style="position: relative; outline: none;" role="presentation"><div class="CodeMirror-measure"></div><div class="CodeMirror-measure"></div><div style="position: relative; z-index: 1;"></div><div class="CodeMirror-cursors" style="visibility: hidden;"><div class="CodeMirror-cursor" style="left: 88.1667px; top: 85px; height: 17px;">&nbsp;</div></div><div class="CodeMirror-code" role="presentation" style=""><pre class=" CodeMirror-line " role="presentation"><span role="presentation"><span class="cm-comment"># Combining a `for...in...` Loop with an `if` Clause</span></span></pre><pre class=" CodeMirror-line " role="presentation"><span role="presentation"><span class="cm-variable">listnb</span> <span class="cm-operator">=</span> [<span class="cm-number">4</span>, <span class="cm-number">5</span>, <span class="cm-number">6</span>]</span></pre><pre class=" CodeMirror-line " role="presentation"><span role="presentation"><span class="cm-keyword">for</span> <span class="cm-variable">i</span> <span class="cm-keyword">in</span> <span class="cm-variable">listnb</span>:</span></pre><pre class=" CodeMirror-line " role="presentation"><span role="presentation">    <span class="cm-keyword">if</span> <span class="cm-variable">i</span> <span class="cm-operator">==</span> <span class="cm-number">5</span>:</span></pre><pre class=" CodeMirror-line " role="presentation"><span role="presentation">        <span class="cm-builtin">print</span>(<span class="cm-string">"The condition is verified for the element"</span>, <span class="cm-variable">i</span>)</span></pre><pre class=" CodeMirror-line " role="presentation"><span role="presentation">    <span class="cm-keyword">else</span> :</span></pre><pre class=" CodeMirror-line " role="presentation"><span role="presentation">        <span class="cm-builtin">print</span>(<span class="cm-string">"The condition is not verified for the element"</span>, <span class="cm-variable">i</span>)</span></pre></div></div></div></div></div><div style="position: absolute; height: 50px; width: 1px; border-bottom: 0px solid transparent; top: 130px;"></div><div class="CodeMirror-gutters" style="display: none; height: 180px;"></div></div></div></div></div></div><div class="widget-area" style="display: none;"><div class="prompt"><button class="close">×</button></div><div class="widget-subarea jp-Output-result"></div></div><div class="output_wrapper"><div class="out_prompt_overlay prompt" title="click to scroll output; double click to hide"></div><div class="output"><div class="output_area"><div class="run_this_cell"></div><div class="prompt"></div><div class="output_subarea output_text output_stream output_stdout" dir="auto"><pre>The condition is not verified for the element 4
The condition is verified for the element 5
The condition is not verified for the element 6
</pre></div></div></div><div style="display: none;" class="btn btn-default output_collapsed" title="click to expand output">. . .</div></div></div><div class="cell code_cell rendered unselected" tabindex="2"><div class="input"><div class="prompt_container"><div class="prompt input_prompt"><bdi>In</bdi>&nbsp;[9]:</div><div class="run_this_cell" title="Run this cell"><i class="fa-step-forward fa"></i></div></div><div class="inner_cell"><div class="ctb_hideshow"><div class="celltoolbar"></div></div><div class="input_area" aria-label="Edit code here"><div class="CodeMirror cm-s-ipython" translate="no"><div style="overflow: hidden; position: relative; width: 3px; height: 0px; top: 56.6px; left: 273.333px;"><textarea style="position: absolute; bottom: -1em; padding: 0px; width: 1px; height: 1em; min-height: 1em; outline: none;" wrap="off" autocorrect="off" autocapitalize="none" spellcheck="false" tabindex="0"></textarea></div><div class="CodeMirror-vscrollbar" tabindex="-1" cm-not-content="true" style="width: 18px; pointer-events: none;"><div style="min-width: 1px; height: 0px;"></div></div><div class="CodeMirror-hscrollbar" tabindex="-1" cm-not-content="true" style="height: 18px; pointer-events: none;"><div style="height: 100%; min-height: 1px; width: 0px;"></div></div><div class="CodeMirror-scrollbar-filler" cm-not-content="true"></div><div class="CodeMirror-gutter-filler" cm-not-content="true"></div><div class="CodeMirror-scroll" tabindex="-1" draggable="true"><div class="CodeMirror-sizer" style="margin-left: 0px; min-width: 469.917px; margin-bottom: 0px; border-right-width: 50px; min-height: 130px; padding-right: 0px; padding-bottom: 0px;"><div style="position: relative; top: 0px;"><div class="CodeMirror-lines" role="presentation"><div style="position: relative; outline: none;" role="presentation"><div class="CodeMirror-measure"></div><div class="CodeMirror-measure"></div><div style="position: relative; z-index: 1;"></div><div class="CodeMirror-cursors" style=""><div class="CodeMirror-cursor" style="left: 273.333px; top: 51px; height: 17px;">&nbsp;</div></div><div class="CodeMirror-code" role="presentation" style=""><pre class=" CodeMirror-line " role="presentation"><span role="presentation"><span class="cm-comment"># Combining a `for...in...` Loop with an `if` Clause</span></span></pre><pre class=" CodeMirror-line " role="presentation"><span role="presentation"><span class="cm-variable">mych</span> <span class="cm-operator">=</span> <span class="cm-string">"Hello World"</span></span></pre><pre class=" CodeMirror-line " role="presentation"><span role="presentation"><span class="cm-keyword">for</span> <span class="cm-variable">lettre</span> <span class="cm-keyword">in</span> <span class="cm-variable">mych</span> :</span></pre><pre class=" CodeMirror-line " role="presentation"><span role="presentation">    <span class="cm-keyword">if</span> <span class="cm-variable">lettre</span> <span class="cm-keyword">in</span> <span class="cm-string">"AEIOUYaeiouy"</span>:</span></pre><pre class=" CodeMirror-line " role="presentation"><span role="presentation">        <span class="cm-builtin">print</span> (<span class="cm-string">'La lettre'</span>, <span class="cm-variable">lettre</span>, <span class="cm-string">'est une voyelle'</span>)</span></pre><pre class=" CodeMirror-line " role="presentation"><span role="presentation">    <span class="cm-keyword">else</span> :</span></pre><pre class=" CodeMirror-line " role="presentation"><span role="presentation">        <span class="cm-builtin">print</span> (<span class="cm-string">'La lettre'</span>, <span class="cm-variable">lettre</span>, <span class="cm-string">'est une consonne'</span>)</span></pre></div></div></div></div></div><div style="position: absolute; height: 50px; width: 1px; border-bottom: 0px solid transparent; top: 130px;"></div><div class="CodeMirror-gutters" style="display: none; height: 180px;"></div></div></div></div></div></div><div class="widget-area" style="display: none;"><div class="prompt"><button class="close">×</button></div><div class="widget-subarea jp-Output-result"></div></div><div class="output_wrapper"><div class="out_prompt_overlay prompt" title="click to scroll output; double click to hide"></div><div class="output"><div class="output_area"><div class="run_this_cell"></div><div class="prompt"></div><div class="output_subarea output_text output_stream output_stdout" dir="auto"><pre>La lettre H est une consonne
La lettre e est une voyelle
La lettre l est une consonne
La lettre l est une consonne
La lettre o est une voyelle
La lettre   est une consonne
La lettre W est une consonne
La lettre o est une voyelle
La lettre r est une consonne
La lettre l est une consonne
La lettre d est une consonne
</pre></div></div></div><div style="display: none;" class="btn btn-default output_collapsed" title="click to expand output">. . .</div></div></div><div class="cell code_cell rendered unselected" tabindex="2"><div class="input"><div class="prompt_container"><div class="prompt input_prompt"><bdi>In</bdi>&nbsp;[8]:</div><div class="run_this_cell" title="Run this cell"><i class="fa-step-forward fa"></i></div></div><div class="inner_cell"><div class="ctb_hideshow"><div class="celltoolbar"></div></div><div class="input_area" aria-label="Edit code here"><div class="CodeMirror cm-s-ipython" translate="no"><div style="overflow: hidden; position: relative; width: 3px; height: 0px; top: 90.6px; left: 37.6667px;"><textarea style="position: absolute; bottom: -1em; padding: 0px; width: 1px; height: 1em; min-height: 1em; outline: none;" wrap="off" autocorrect="off" autocapitalize="none" spellcheck="false" tabindex="0"></textarea></div><div class="CodeMirror-vscrollbar" tabindex="-1" cm-not-content="true" style="width: 18px; pointer-events: none;"><div style="min-width: 1px; height: 0px;"></div></div><div class="CodeMirror-hscrollbar" tabindex="-1" cm-not-content="true" style="height: 18px; pointer-events: none;"><div style="height: 100%; min-height: 1px; width: 0px;"></div></div><div class="CodeMirror-scrollbar-filler" cm-not-content="true"></div><div class="CodeMirror-gutter-filler" cm-not-content="true"></div><div class="CodeMirror-scroll" tabindex="-1" draggable="true"><div class="CodeMirror-sizer" style="margin-left: 0px; min-width: 453.083px; margin-bottom: 0px; border-right-width: 50px; min-height: 215px; padding-right: 0px; padding-bottom: 0px;"><div style="position: relative; top: 0px;"><div class="CodeMirror-lines" role="presentation"><div style="position: relative; outline: none;" role="presentation"><div class="CodeMirror-measure"></div><div class="CodeMirror-measure"></div><div style="position: relative; z-index: 1;"></div><div class="CodeMirror-cursors" style=""><div class="CodeMirror-cursor" style="left: 37.6667px; top: 85px; height: 17px;">&nbsp;</div></div><div class="CodeMirror-code" role="presentation" style=""><pre class=" CodeMirror-line " role="presentation"><span role="presentation"><span class="cm-comment"># Combining a `for...in...` Loop with an `if` Clause</span></span></pre><pre class=" CodeMirror-line " role="presentation"><span role="presentation"><span class="cm-comment"># Considering the `space` character</span></span></pre><pre class=" CodeMirror-line " role="presentation"><span role="presentation"><span class="cm-variable">mych</span> <span class="cm-operator">=</span> <span class="cm-string">"Hello World"</span></span></pre><pre class=" CodeMirror-line " role="presentation"><span role="presentation"><span class="cm-keyword">for</span> <span class="cm-variable">letter</span> <span class="cm-keyword">in</span> <span class="cm-variable">mych</span>:</span></pre><pre class=" CodeMirror-line " role="presentation"><span role="presentation">    <span class="cm-keyword">if</span> <span class="cm-variable">letter</span> <span class="cm-keyword">in</span> <span class="cm-string">"AEIOUYaeiouy"</span>:</span></pre><pre class=" CodeMirror-line " role="presentation"><span role="presentation">    </span></pre><pre class=" CodeMirror-line " role="presentation"><span role="presentation">        <span class="cm-builtin">print</span>(<span class="cm-string">'The letter'</span>, <span class="cm-variable">letter</span>, <span class="cm-string">'is a vowel'</span>)</span></pre><pre class=" CodeMirror-line " role="presentation"><span role="presentation">    <span class="cm-keyword">elif</span> <span class="cm-variable">letter</span> <span class="cm-operator">==</span> <span class="cm-string">" "</span>:</span></pre><pre class=" CodeMirror-line " role="presentation"><span role="presentation">        <span class="cm-builtin">print</span>(<span class="cm-string">"This is likely a space"</span>)</span></pre><pre class=" CodeMirror-line " role="presentation"><span role="presentation">    <span class="cm-keyword">else</span>:</span></pre><pre class=" CodeMirror-line " role="presentation"><span role="presentation">        <span class="cm-builtin">print</span>(<span class="cm-string">'The letter'</span>, <span class="cm-variable">letter</span>, <span class="cm-string">'is a consonant'</span>)</span></pre><pre class=" CodeMirror-line " role="presentation"><span role="presentation"><span cm-text="">​</span></span></pre></div></div></div></div></div><div style="position: absolute; height: 50px; width: 1px; border-bottom: 0px solid transparent; top: 215px;"></div><div class="CodeMirror-gutters" style="display: none; height: 265px;"></div></div></div></div></div></div><div class="widget-area" style="display: none;"><div class="prompt"><button class="close">×</button></div><div class="widget-subarea jp-Output-result"></div></div><div class="output_wrapper"><div class="out_prompt_overlay prompt" title="click to scroll output; double click to hide"></div><div class="output"><div class="output_area"><div class="run_this_cell"></div><div class="prompt"></div><div class="output_subarea output_text output_stream output_stdout" dir="auto"><pre>The letter H is a consonant
The letter e is a vowel
The letter l is a consonant
The letter l is a consonant
The letter o is a vowel
This is likely a space
The letter W is a consonant
The letter o is a vowel
The letter r is a consonant
The letter l is a consonant
The letter d is a consonant
</pre></div></div></div><div style="display: none;" class="btn btn-default output_collapsed" title="click to expand output">. . .</div></div></div><div class="cell code_cell rendered unselected" tabindex="2"><div class="input"><div class="prompt_container"><div class="prompt input_prompt"><bdi>In</bdi>&nbsp;[7]:</div><div class="run_this_cell" title="Run this cell"><i class="fa-step-forward fa"></i></div></div><div class="inner_cell"><div class="ctb_hideshow"><div class="celltoolbar"></div></div><div class="input_area" aria-label="Edit code here"><div class="CodeMirror cm-s-ipython" translate="no"><div style="overflow: hidden; position: relative; width: 3px; height: 0px; top: 56.6px; left: 475.333px;"><textarea style="position: absolute; bottom: -1em; padding: 0px; width: 1px; height: 1em; min-height: 1em; outline: none;" wrap="off" autocorrect="off" autocapitalize="none" spellcheck="false" tabindex="0"></textarea></div><div class="CodeMirror-vscrollbar" tabindex="-1" cm-not-content="true" style="width: 18px; pointer-events: none;"><div style="min-width: 1px; height: 0px;"></div></div><div class="CodeMirror-hscrollbar" tabindex="-1" cm-not-content="true" style="height: 18px; pointer-events: none;"><div style="height: 100%; min-height: 1px; width: 0px;"></div></div><div class="CodeMirror-scrollbar-filler" cm-not-content="true"></div><div class="CodeMirror-gutter-filler" cm-not-content="true"></div><div class="CodeMirror-scroll" tabindex="-1" draggable="true"><div class="CodeMirror-sizer" style="margin-left: 0px; min-width: 478.333px; margin-bottom: 0px; border-right-width: 50px; min-height: 96px; padding-right: 0px; padding-bottom: 0px;"><div style="position: relative; top: 0px;"><div class="CodeMirror-lines" role="presentation"><div style="position: relative; outline: none;" role="presentation"><div class="CodeMirror-measure"></div><div class="CodeMirror-measure"></div><div style="position: relative; z-index: 1;"></div><div class="CodeMirror-cursors" style="visibility: hidden;"><div class="CodeMirror-cursor" style="left: 475.333px; top: 51px; height: 17px;">&nbsp;</div></div><div class="CodeMirror-code" role="presentation" style=""><pre class=" CodeMirror-line " role="presentation"><span role="presentation"><span class="cm-variable">fruits</span> <span class="cm-operator">=</span> [<span class="cm-string">'mangue'</span>, <span class="cm-string">'orange'</span>, <span class="cm-string">'pomme'</span>, <span class="cm-string">'banane'</span>]</span></pre><pre class=" CodeMirror-line " role="presentation"><span role="presentation"><span class="cm-variable">costs</span> <span class="cm-operator">=</span> [<span class="cm-number">49</span>, <span class="cm-number">99</span>, <span class="cm-number">15</span>, <span class="cm-number">32</span>]</span></pre><pre class=" CodeMirror-line " role="presentation"><span role="presentation"><span class="cm-keyword">for</span> <span class="cm-variable">fruit</span>, <span class="cm-variable">price</span> <span class="cm-keyword">in</span> <span class="cm-builtin">zip</span>(<span class="cm-variable">fruits</span>, <span class="cm-variable">costs</span>):</span></pre><pre class=" CodeMirror-line " role="presentation"><span role="presentation">    <span class="cm-builtin">print</span>(<span class="cm-string">"A"</span>, <span class="cm-variable">fruit</span>, <span class="cm-string">"costs"</span>, <span class="cm-variable">price</span>, <span class="cm-string">"Rwandan francs."</span>)</span></pre><pre class=" CodeMirror-line " role="presentation"><span role="presentation"><span cm-text="">​</span></span></pre></div></div></div></div></div><div style="position: absolute; height: 50px; width: 1px; border-bottom: 0px solid transparent; top: 96px;"></div><div class="CodeMirror-gutters" style="display: none; height: 146px;"></div></div></div></div></div></div><div class="widget-area" style="display: none;"><div class="prompt"><button class="close">×</button></div><div class="widget-subarea jp-Output-result"></div></div><div class="output_wrapper"><div class="out_prompt_overlay prompt" title="click to scroll output; double click to hide"></div><div class="output"><div class="output_area"><div class="run_this_cell"></div><div class="prompt"></div><div class="output_subarea output_text output_stream output_stdout" dir="auto"><pre>A mangue costs 49 Rwandan francs.
A orange costs 99 Rwandan francs.
A pomme costs 15 Rwandan francs.
A banane costs 32 Rwandan francs.
</pre></div></div></div><div style="display: none;" class="btn btn-default output_collapsed" title="click to expand output">. . .</div></div></div><div class="cell code_cell rendered unselected" tabindex="2"><div class="input"><div class="prompt_container"><div class="prompt input_prompt"><bdi>In</bdi>&nbsp;[6]:</div><div class="run_this_cell" title="Run this cell"><i class="fa-step-forward fa"></i></div></div><div class="inner_cell"><div class="ctb_hideshow"><div class="celltoolbar"></div></div><div class="input_area" aria-label="Edit code here"><div class="CodeMirror cm-s-ipython" translate="no"><div style="overflow: hidden; position: relative; width: 3px; height: 0px; top: 5.60004px; left: 534.25px;"><textarea style="position: absolute; bottom: -1em; padding: 0px; width: 1px; height: 1em; min-height: 1em; outline: none;" wrap="off" autocorrect="off" autocapitalize="none" spellcheck="false" tabindex="0"></textarea></div><div class="CodeMirror-vscrollbar" tabindex="-1" cm-not-content="true" style="width: 18px; pointer-events: none;"><div style="min-width: 1px; height: 0px;"></div></div><div class="CodeMirror-hscrollbar" tabindex="-1" cm-not-content="true" style="height: 18px; pointer-events: none;"><div style="height: 100%; min-height: 1px; width: 0px;"></div></div><div class="CodeMirror-scrollbar-filler" cm-not-content="true"></div><div class="CodeMirror-gutter-filler" cm-not-content="true"></div><div class="CodeMirror-scroll" tabindex="-1" draggable="true"><div class="CodeMirror-sizer" style="margin-left: 0px; min-width: 537.25px; margin-bottom: 0px; border-right-width: 50px; min-height: 79px; padding-right: 0px; padding-bottom: 0px;"><div style="position: relative; top: 0px;"><div class="CodeMirror-lines" role="presentation"><div style="position: relative; outline: none;" role="presentation"><div class="CodeMirror-measure"></div><div class="CodeMirror-measure"></div><div style="position: relative; z-index: 1;"></div><div class="CodeMirror-cursors" style="visibility: hidden;"><div class="CodeMirror-cursor" style="left: 534.25px; top: 0px; height: 17px;">&nbsp;</div></div><div class="CodeMirror-code" role="presentation"><pre class=" CodeMirror-line " role="presentation"><span role="presentation"><span class="cm-variable">costs</span> <span class="cm-operator">=</span> {<span class="cm-string">'mangue'</span>: <span class="cm-number">49</span>, <span class="cm-string">'orange'</span>: <span class="cm-number">99</span>, <span class="cm-string">'pomme'</span>: <span class="cm-number">15</span>, <span class="cm-string">'banane'</span>: <span class="cm-number">32</span>}</span></pre><pre class=" CodeMirror-line " role="presentation"><span role="presentation"><span class="cm-keyword">for</span> <span class="cm-variable">fruit</span>, <span class="cm-variable">price</span> <span class="cm-keyword">in</span> <span class="cm-variable">costs</span>.<span class="cm-property">items</span>():</span></pre><pre class=" CodeMirror-line " role="presentation"><span role="presentation">    <span class="cm-builtin">print</span>(<span class="cm-string">"A"</span>, <span class="cm-variable">fruit</span>, <span class="cm-string">"costs"</span>, <span class="cm-variable">price</span>, <span class="cm-string">"Rwandan francs."</span>)</span></pre><pre class=" CodeMirror-line " role="presentation"><span role="presentation"><span cm-text="">​</span></span></pre></div></div></div></div></div><div style="position: absolute; height: 50px; width: 1px; border-bottom: 0px solid transparent; top: 79px;"></div><div class="CodeMirror-gutters" style="display: none; height: 129px;"></div></div></div></div></div></div><div class="widget-area" style="display: none;"><div class="prompt"><button class="close">×</button></div><div class="widget-subarea jp-Output-result"></div></div><div class="output_wrapper"><div class="out_prompt_overlay prompt" title="click to scroll output; double click to hide"></div><div class="output"><div class="output_area"><div class="run_this_cell"></div><div class="prompt"></div><div class="output_subarea output_text output_stream output_stdout" dir="auto"><pre>A mangue costs 49 Rwandan francs.
A orange costs 99 Rwandan francs.
A pomme costs 15 Rwandan francs.
A banane costs 32 Rwandan francs.
</pre></div></div></div><div style="display: none;" class="btn btn-default output_collapsed" title="click to expand output">. . .</div></div></div><div class="cell text_cell rendered unselected" tabindex="2"><div class="prompt input_prompt"></div><div class="inner_cell"><div class="ctb_hideshow"><div class="celltoolbar"></div></div><div class="input_area" aria-label="Edit Markup Text here"><div class="CodeMirror cm-s-default CodeMirror-wrap" translate="no"><div style="overflow: hidden; position: relative; width: 3px; height: 0px; top: 5.59985px; left: 4px;"><textarea style="position: absolute; bottom: -1em; padding: 0px; width: 1px; height: 1em; min-height: 1em; outline: none;" wrap="off" autocorrect="off" autocapitalize="none" spellcheck="false" tabindex="0"></textarea></div><div class="CodeMirror-vscrollbar" tabindex="-1" cm-not-content="true" style="bottom: 0px; width: 18px; pointer-events: none;"><div style="min-width: 1px; height: 0px;"></div></div><div class="CodeMirror-hscrollbar" tabindex="-1" cm-not-content="true" style="height: 18px; pointer-events: none;"><div style="height: 100%; min-height: 1px; width: 0px;"></div></div><div class="CodeMirror-scrollbar-filler" cm-not-content="true"></div><div class="CodeMirror-gutter-filler" cm-not-content="true"></div><div class="CodeMirror-scroll" tabindex="-1" draggable="true"><div class="CodeMirror-sizer" style="margin-left: 0px; padding-right: 0px; padding-bottom: 0px; margin-bottom: 0px; border-right-width: 50px; min-height: 708px;"><div style="position: relative; top: 0px;"><div class="CodeMirror-lines" role="presentation"><div style="position: relative; outline: none;" role="presentation"><div class="CodeMirror-measure"><pre class="CodeMirror-line-like"><span>xxxxxxxxxx</span></pre></div><div class="CodeMirror-measure"></div><div style="position: relative; z-index: 1;"></div><div class="CodeMirror-cursors"><div class="CodeMirror-cursor" style="left: 4px; top: 0px; height: 17.0167px;">&nbsp;</div></div><div class="CodeMirror-code" role="presentation" style=""><pre class=" CodeMirror-line " role="presentation"><span role="presentation"><span class="cm-header cm-header-2">## 2. List comprehension</span></span></pre><pre class=" CodeMirror-line " role="presentation"><span role="presentation"><span cm-text="">​</span></span></pre><pre class=" CodeMirror-line " role="presentation"><span role="presentation">In Python, a convenient and expressive syntax for creating lists is provided by list comprehensions. This method allows you to generate lists in a very concise way, often eliminating the need for explicit loops when elements need to be tested or processed before being included in the list.</span></pre><pre class=" CodeMirror-line " role="presentation"><span role="presentation"><span cm-text="">​</span></span></pre><pre class=" CodeMirror-line " role="presentation"><span role="presentation">The syntax for defining a list comprehension is similar to the mathematical notation for defining a set comprehension:</span></pre><pre class=" CodeMirror-line " role="presentation"><span role="presentation"><span cm-text="">​</span></span></pre><pre class=" CodeMirror-line " role="presentation"><span role="presentation"><span class="cm-comment">```python</span></span></pre><pre class=" CodeMirror-line " role="presentation"><span role="presentation">[<span class="cm-variable">expression</span> <span class="cm-keyword">for</span> <span class="cm-variable">item</span> <span class="cm-keyword">in</span> <span class="cm-variable">iterable</span> <span class="cm-keyword">if</span> <span class="cm-variable">condition</span>]</span></pre><pre class=" CodeMirror-line " role="presentation"><span role="presentation"><span class="cm-comment">```</span></span></pre><pre class=" CodeMirror-line " role="presentation"><span role="presentation"><span cm-text="">​</span></span></pre><pre class=" CodeMirror-line " role="presentation"><span role="presentation">Here’s a breakdown of the components:</span></pre><pre class=" CodeMirror-line " role="presentation"><span role="presentation"><span class="cm-variable-2">- </span><span class="cm-strong cm-variable-2">**</span><span class="cm-strong cm-comment cm-variable-2">`expression`</span><span class="cm-strong cm-variable-2">**</span><span class="cm-variable-2">: The value or transformation to apply to each item.</span></span></pre><pre class=" CodeMirror-line " role="presentation"><span role="presentation"><span class="cm-variable-2">- </span><span class="cm-strong cm-variable-2">**</span><span class="cm-strong cm-comment cm-variable-2">`item`</span><span class="cm-strong cm-variable-2">**</span><span class="cm-variable-2">: The variable representing each element in the iterable.</span></span></pre><pre class=" CodeMirror-line " role="presentation"><span role="presentation"><span class="cm-variable-2">- </span><span class="cm-strong cm-variable-2">**</span><span class="cm-strong cm-comment cm-variable-2">`iterable`</span><span class="cm-strong cm-variable-2">**</span><span class="cm-variable-2">: The collection or sequence you are iterating over.</span></span></pre><pre class=" CodeMirror-line " role="presentation"><span role="presentation"><span class="cm-variable-2">- </span><span class="cm-strong cm-variable-2">**</span><span class="cm-strong cm-comment cm-variable-2">`condition`</span><span class="cm-strong cm-variable-2">**</span><span class="cm-variable-2"> (optional): A filter that determines which items to include.</span></span></pre><pre class=" CodeMirror-line " role="presentation"><span role="presentation"><span cm-text="">​</span></span></pre><pre class=" CodeMirror-line " role="presentation"><span role="presentation"><span class="cm-strong">**Example:**</span></span></pre><pre class=" CodeMirror-line " role="presentation"><span role="presentation"><span cm-text="">​</span></span></pre><pre class=" CodeMirror-line " role="presentation"><span role="presentation">Suppose you want to create a list of squares for all even numbers between 1 and 10. Using a list comprehension, you can achieve this concisely:</span></pre><pre class=" CodeMirror-line " role="presentation"><span role="presentation"><span cm-text="">​</span></span></pre><pre class=" CodeMirror-line " role="presentation"><span role="presentation"><span class="cm-comment">```python</span></span></pre><pre class=" CodeMirror-line " role="presentation"><span role="presentation"><span class="cm-variable">squares</span> <span class="cm-operator">=</span> [<span class="cm-variable">x</span><span class="cm-operator">**</span><span class="cm-number">2</span> <span class="cm-keyword">for</span> <span class="cm-variable">x</span> <span class="cm-keyword">in</span> <span class="cm-builtin">range</span>(<span class="cm-number">1</span>, <span class="cm-number">11</span>) <span class="cm-keyword">if</span> <span class="cm-variable">x</span> <span class="cm-operator">%</span> <span class="cm-number">2</span> <span class="cm-operator">==</span> <span class="cm-number">0</span>]</span></pre><pre class=" CodeMirror-line " role="presentation"><span role="presentation"><span class="cm-builtin">print</span>(<span class="cm-variable">squares</span>)</span></pre><pre class=" CodeMirror-line " role="presentation"><span role="presentation"><span class="cm-comment">```</span></span></pre><pre class=" CodeMirror-line " role="presentation"><span role="presentation"><span cm-text="">​</span></span></pre><pre class=" CodeMirror-line " role="presentation"><span role="presentation"><span class="cm-strong">**Explanation:**</span></span></pre><pre class=" CodeMirror-line " role="presentation"><span role="presentation"><span class="cm-variable-2">- </span><span class="cm-comment cm-variable-2">`x**2`</span><span class="cm-variable-2"> is the expression that computes the square of each item.</span></span></pre><pre class=" CodeMirror-line " role="presentation"><span role="presentation"><span class="cm-variable-2">- </span><span class="cm-comment cm-variable-2">`x`</span><span class="cm-variable-2"> is the item variable iterating over the numbers in </span><span class="cm-comment cm-variable-2">`range(1, 11)`</span><span class="cm-variable-2">.</span></span></pre><pre class=" CodeMirror-line " role="presentation"><span role="presentation"><span class="cm-variable-2">- </span><span class="cm-comment cm-variable-2">`range(1, 11)`</span><span class="cm-variable-2"> is the iterable providing numbers from 1 to 10.</span></span></pre><pre class=" CodeMirror-line " role="presentation"><span role="presentation"><span class="cm-variable-2">- </span><span class="cm-comment cm-variable-2">`if x % 2 == 0`</span><span class="cm-variable-2"> is the condition filtering only even numbers.</span></span></pre><pre class=" CodeMirror-line " role="presentation"><span role="presentation"><span cm-text="">​</span></span></pre><pre class=" CodeMirror-line " role="presentation"><span role="presentation">The output will be:</span></pre><pre class=" CodeMirror-line " role="presentation"><span role="presentation"><span class="cm-comment">```</span></span></pre><pre class=" CodeMirror-line " role="presentation"><span role="presentation"><span class="cm-comment">[4, 16, 36, 64, 100]</span></span></pre><pre class=" CodeMirror-line " role="presentation"><span role="presentation"><span class="cm-comment">```</span></span></pre><pre class=" CodeMirror-line " role="presentation"><span role="presentation"><span cm-text="">​</span></span></pre><pre class=" CodeMirror-line " role="presentation"><span role="presentation">This approach is both readable and efficient for generating lists based on specific criteria or transformations.</span></pre></div></div></div></div></div><div style="position: absolute; height: 50px; width: 1px; border-bottom: 0px solid transparent; top: 708px;"></div><div class="CodeMirror-gutters" style="display: none; height: 758px;"></div></div></div></div><div class="text_cell_render rendered_html" tabindex="-1" dir="ltr"><h2 id="2.-List-comprehension">2. List comprehension<a class="anchor-link" href="#2.-List-comprehension">¶</a></h2>
<p>In Python, a convenient and expressive syntax for creating lists is 
provided by list comprehensions. This method allows you to generate 
lists in a very concise way, often eliminating the need for explicit 
loops when elements need to be tested or processed before being included
 in the list.</p>
<p>The syntax for defining a list comprehension is similar to the mathematical notation for defining a set comprehension:</p>
<pre><code class="cm-s-ipython language-python">[<span class="cm-variable">expression</span> <span class="cm-keyword">for</span> <span class="cm-variable">item</span> <span class="cm-keyword">in</span> <span class="cm-variable">iterable</span> <span class="cm-keyword">if</span> <span class="cm-variable">condition</span>]
</code></pre>
<p>Here’s a breakdown of the components:</p>
<ul>
<li><strong><code>expression</code></strong>: The value or transformation to apply to each item.</li>
<li><strong><code>item</code></strong>: The variable representing each element in the iterable.</li>
<li><strong><code>iterable</code></strong>: The collection or sequence you are iterating over.</li>
<li><strong><code>condition</code></strong> (optional): A filter that determines which items to include.</li>
</ul>
<p><strong>Example:</strong></p>
<p>Suppose you want to create a list of squares for all even numbers 
between 1 and 10. Using a list comprehension, you can achieve this 
concisely:</p>
<pre><code class="cm-s-ipython language-python"><span class="cm-variable">squares</span> <span class="cm-operator">=</span> [<span class="cm-variable">x</span><span class="cm-operator">*</span><span class="cm-operator">*</span><span class="cm-number">2</span> <span class="cm-keyword">for</span> <span class="cm-variable">x</span> <span class="cm-keyword">in</span> <span class="cm-builtin">range</span>(<span class="cm-number">1</span>, <span class="cm-number">11</span>) <span class="cm-keyword">if</span> <span class="cm-variable">x</span> <span class="cm-operator">%</span> <span class="cm-number">2</span> <span class="cm-operator">==</span> <span class="cm-number">0</span>]
<span class="cm-builtin">print</span>(<span class="cm-variable">squares</span>)
</code></pre>
<p><strong>Explanation:</strong></p>
<ul>
<li><code>x**2</code> is the expression that computes the square of each item.</li>
<li><code>x</code> is the item variable iterating over the numbers in <code>range(1, 11)</code>.</li>
<li><code>range(1, 11)</code> is the iterable providing numbers from 1 to 10.</li>
<li><code>if x % 2 == 0</code> is the condition filtering only even numbers.</li>
</ul>
<p>The output will be:</p>
<pre><code>[4, 16, 36, 64, 100]
</code></pre>
<p>This approach is both readable and efficient for generating lists based on specific criteria or transformations.</p>
</div></div></div><div class="cell code_cell rendered unselected" tabindex="2"><div class="input"><div class="prompt_container"><div class="prompt input_prompt"><bdi>In</bdi>&nbsp;[5]:</div><div class="run_this_cell" title="Run this cell"><i class="fa-step-forward fa"></i></div></div><div class="inner_cell"><div class="ctb_hideshow"><div class="celltoolbar"></div></div><div class="input_area" aria-label="Edit code here"><div class="CodeMirror cm-s-ipython" translate="no"><div style="overflow: hidden; position: relative; width: 3px; height: 0px; top: 294.6px; left: 4px;"><textarea style="position: absolute; bottom: -1em; padding: 0px; width: 1px; height: 1em; min-height: 1em; outline: none;" wrap="off" autocorrect="off" autocapitalize="none" spellcheck="false" tabindex="0"></textarea></div><div class="CodeMirror-vscrollbar" tabindex="-1" cm-not-content="true" style="width: 18px; pointer-events: none; bottom: 0px;"><div style="min-width: 1px; height: 0px;"></div></div><div class="CodeMirror-hscrollbar" tabindex="-1" cm-not-content="true" style="height: 18px; pointer-events: none;"><div style="height: 100%; min-height: 1px; width: 0px;"></div></div><div class="CodeMirror-scrollbar-filler" cm-not-content="true"></div><div class="CodeMirror-gutter-filler" cm-not-content="true"></div><div class="CodeMirror-scroll" tabindex="-1" draggable="true"><div class="CodeMirror-sizer" style="margin-left: 0px; min-width: 562.5px; margin-bottom: 0px; border-right-width: 50px; min-height: 368px; padding-right: 0px; padding-bottom: 0px;"><div style="position: relative; top: 0px;"><div class="CodeMirror-lines" role="presentation"><div style="position: relative; outline: none;" role="presentation"><div class="CodeMirror-measure"></div><div class="CodeMirror-measure"></div><div style="position: relative; z-index: 1;"></div><div class="CodeMirror-cursors" style="visibility: hidden;"><div class="CodeMirror-cursor" style="left: 4px; top: 289px; height: 17px;">&nbsp;</div></div><div class="CodeMirror-code" role="presentation" style=""><pre class=" CodeMirror-line " role="presentation"><span role="presentation"><span class="cm-variable">liste</span> <span class="cm-operator">=</span> [<span class="cm-number">2</span>, <span class="cm-number">4</span>, <span class="cm-number">6</span>, <span class="cm-number">8</span>, <span class="cm-number">10</span>]</span></pre><pre class=" CodeMirror-line " role="presentation"><span role="presentation"><span cm-text="">​</span></span></pre><pre class=" CodeMirror-line " role="presentation"><span role="presentation"><span class="cm-builtin">print</span>([<span class="cm-number">3</span><span class="cm-operator">*</span><span class="cm-variable">x</span> <span class="cm-keyword">for</span> <span class="cm-variable">x</span> <span class="cm-keyword">in</span> <span class="cm-variable">liste</span>])</span></pre><pre class=" CodeMirror-line " role="presentation"><span role="presentation"><span class="cm-builtin">print</span>(<span class="cm-string">"================================================"</span>)</span></pre><pre class=" CodeMirror-line " role="presentation"><span role="presentation"><span class="cm-builtin">print</span>(<span class="cm-string">'\t'</span>)</span></pre><pre class=" CodeMirror-line " role="presentation"><span role="presentation"><span cm-text="">​</span></span></pre><pre class=" CodeMirror-line " role="presentation"><span role="presentation"><span class="cm-builtin">print</span>([[<span class="cm-variable">x</span>, <span class="cm-variable">x</span><span class="cm-operator">**</span><span class="cm-number">3</span>] <span class="cm-keyword">for</span> <span class="cm-variable">x</span> <span class="cm-keyword">in</span> <span class="cm-variable">liste</span>])</span></pre><pre class=" CodeMirror-line " role="presentation"><span role="presentation"><span class="cm-builtin">print</span>(<span class="cm-string">"================================================"</span>)</span></pre><pre class=" CodeMirror-line " role="presentation"><span role="presentation"><span class="cm-builtin">print</span>(<span class="cm-string">'\t'</span>)</span></pre><pre class=" CodeMirror-line " role="presentation"><span role="presentation"><span cm-text="">​</span></span></pre><pre class=" CodeMirror-line " role="presentation"><span role="presentation"><span class="cm-builtin">print</span>([<span class="cm-number">3</span><span class="cm-operator">*</span><span class="cm-variable">x</span> <span class="cm-keyword">for</span> <span class="cm-variable">x</span> <span class="cm-keyword">in</span> <span class="cm-variable">liste</span> <span class="cm-keyword">if</span> <span class="cm-variable">x</span> <span class="cm-operator">&gt;</span> <span class="cm-number">5</span>])  <span class="cm-comment"># filtering with a condition</span></span></pre><pre class=" CodeMirror-line " role="presentation"><span role="presentation"><span class="cm-builtin">print</span>(<span class="cm-string">"================================================"</span>)</span></pre><pre class=" CodeMirror-line " role="presentation"><span role="presentation"><span class="cm-builtin">print</span>(<span class="cm-string">'\t'</span>)</span></pre><pre class=" CodeMirror-line " role="presentation"><span role="presentation"><span cm-text="">​</span></span></pre><pre class=" CodeMirror-line " role="presentation"><span role="presentation"><span class="cm-builtin">print</span>([<span class="cm-number">3</span><span class="cm-operator">*</span><span class="cm-variable">x</span> <span class="cm-keyword">for</span> <span class="cm-variable">x</span> <span class="cm-keyword">in</span> <span class="cm-variable">liste</span> <span class="cm-keyword">if</span> <span class="cm-variable">x</span><span class="cm-operator">**</span><span class="cm-number">2</span> <span class="cm-operator">&lt;</span> <span class="cm-number">50</span>])  <span class="cm-comment"># same as above</span></span></pre><pre class=" CodeMirror-line " role="presentation"><span role="presentation"><span class="cm-builtin">print</span>(<span class="cm-string">"================================================"</span>)</span></pre><pre class=" CodeMirror-line " role="presentation"><span role="presentation"><span class="cm-builtin">print</span>(<span class="cm-string">'\t'</span>)</span></pre><pre class=" CodeMirror-line " role="presentation"><span role="presentation"><span cm-text="">​</span></span></pre><pre class=" CodeMirror-line " role="presentation"><span role="presentation"><span class="cm-variable">liste2</span> <span class="cm-operator">=</span> <span class="cm-builtin">list</span>(<span class="cm-builtin">range</span>(<span class="cm-number">3</span>))</span></pre><pre class=" CodeMirror-line " role="presentation"><span role="presentation"><span class="cm-builtin">print</span>([<span class="cm-variable">x</span><span class="cm-operator">*</span><span class="cm-variable">y</span> <span class="cm-keyword">for</span> <span class="cm-variable">x</span> <span class="cm-keyword">in</span> <span class="cm-variable">liste</span> <span class="cm-keyword">for</span> <span class="cm-variable">y</span> <span class="cm-keyword">in</span> <span class="cm-variable">liste2</span>])</span></pre><pre class=" CodeMirror-line " role="presentation"><span role="presentation"><span cm-text="">​</span></span></pre></div></div></div></div></div><div style="position: absolute; height: 50px; width: 1px; border-bottom: 0px solid transparent; top: 368px;"></div><div class="CodeMirror-gutters" style="display: none; height: 418px;"></div></div></div></div></div></div><div class="widget-area" style="display: none;"><div class="prompt"><button class="close">×</button></div><div class="widget-subarea jp-Output-result"></div></div><div class="output_wrapper"><div class="out_prompt_overlay prompt" title="click to scroll output; double click to hide"></div><div class="output"><div class="output_area"><div class="run_this_cell"></div><div class="prompt"></div><div class="output_subarea output_text output_stream output_stdout" dir="auto"><pre>[6, 12, 18, 24, 30]
================================================
	
[[2, 8], [4, 64], [6, 216], [8, 512], [10, 1000]]
================================================
	
[18, 24, 30]
================================================
	
[6, 12, 18]
================================================
	
[0, 2, 4, 0, 4, 8, 0, 6, 12, 0, 8, 16, 0, 10, 20]
</pre></div></div></div><div style="display: none;" class="btn btn-default output_collapsed" title="click to expand output">. . .</div></div></div><div class="cell code_cell rendered unselected" tabindex="2"><div class="input"><div class="prompt_container"><div class="prompt input_prompt"><bdi>In</bdi>&nbsp;[4]:</div><div class="run_this_cell" title="Run this cell"><i class="fa-step-forward fa"></i></div></div><div class="inner_cell"><div class="ctb_hideshow"><div class="celltoolbar"></div></div><div class="input_area" aria-label="Edit code here"><div class="CodeMirror cm-s-ipython" translate="no"><div style="overflow: hidden; position: relative; width: 3px; height: 0px; top: 39.6px; left: 4px;"><textarea style="position: absolute; bottom: -1em; padding: 0px; width: 1px; height: 1em; min-height: 1em; outline: none;" wrap="off" autocorrect="off" autocapitalize="none" spellcheck="false" tabindex="0"></textarea></div><div class="CodeMirror-vscrollbar" tabindex="-1" cm-not-content="true" style="width: 18px; pointer-events: none;"><div style="min-width: 1px; height: 0px;"></div></div><div class="CodeMirror-hscrollbar" tabindex="-1" cm-not-content="true" style="height: 18px; pointer-events: none;"><div style="height: 100%; min-height: 1px; width: 0px;"></div></div><div class="CodeMirror-scrollbar-filler" cm-not-content="true"></div><div class="CodeMirror-gutter-filler" cm-not-content="true"></div><div class="CodeMirror-scroll" tabindex="-1" draggable="true"><div class="CodeMirror-sizer" style="margin-left: 0px; min-width: 924.417px; margin-bottom: 0px; border-right-width: 50px; min-height: 79px; padding-right: 0px; padding-bottom: 0px;"><div style="position: relative; top: 0px;"><div class="CodeMirror-lines" role="presentation"><div style="position: relative; outline: none;" role="presentation"><div class="CodeMirror-measure"></div><div class="CodeMirror-measure"></div><div style="position: relative; z-index: 1;"></div><div class="CodeMirror-cursors" style=""><div class="CodeMirror-cursor" style="left: 4px; top: 34px; height: 17px;">&nbsp;</div></div><div class="CodeMirror-code" role="presentation"><pre class=" CodeMirror-line " role="presentation"><span role="presentation"><span class="cm-comment"># Here is an example of an efficient way to get a list of leap years within a given range:</span></span></pre><pre class=" CodeMirror-line " role="presentation"><span role="presentation"><span class="cm-variable">leap_years</span> <span class="cm-operator">=</span> [<span class="cm-variable">year</span> <span class="cm-keyword">for</span> <span class="cm-variable">year</span> <span class="cm-keyword">in</span> <span class="cm-builtin">range</span>(<span class="cm-number">2000</span>, <span class="cm-number">2100</span>) <span class="cm-keyword">if</span> (<span class="cm-variable">year</span> <span class="cm-operator">%</span> <span class="cm-number">4</span> <span class="cm-operator">==</span> <span class="cm-number">0</span> <span class="cm-keyword">and</span> <span class="cm-variable">year</span> <span class="cm-operator">%</span> <span class="cm-number">100</span> <span class="cm-operator">!=</span> <span class="cm-number">0</span>) <span class="cm-keyword">or</span> (<span class="cm-variable">year</span> <span class="cm-operator">%</span> <span class="cm-number">400</span> <span class="cm-operator">==</span> <span class="cm-number">0</span>)]</span></pre><pre class=" CodeMirror-line " role="presentation"><span role="presentation"><span cm-text="">​</span></span></pre><pre class=" CodeMirror-line " role="presentation"><span role="presentation"><span class="cm-builtin">print</span>(<span class="cm-variable">leap_years</span>)</span></pre></div></div></div></div></div><div style="position: absolute; height: 50px; width: 1px; border-bottom: 0px solid transparent; top: 79px;"></div><div class="CodeMirror-gutters" style="display: none; height: 129px;"></div></div></div></div></div></div><div class="widget-area" style="display: none;"><div class="prompt"><button class="close">×</button></div><div class="widget-subarea jp-Output-result"></div></div><div class="output_wrapper"><div class="out_prompt_overlay prompt" title="click to scroll output; double click to hide"></div><div class="output"><div class="output_area"><div class="run_this_cell"></div><div class="prompt"></div><div class="output_subarea output_text output_stream output_stdout" dir="auto"><pre>[2000, 2004, 2008, 2012, 2016, 2020, 2024, 2028, 2032, 2036, 2040, 2044, 2048, 2052, 2056, 2060, 2064, 2068, 2072, 2076, 2080, 2084, 2088, 2092, 2096]
</pre></div></div></div><div style="display: none;" class="btn btn-default output_collapsed" title="click to expand output">. . .</div></div></div><div class="cell text_cell rendered unselected" tabindex="2"><div class="prompt input_prompt"></div><div class="inner_cell"><div class="ctb_hideshow"><div class="celltoolbar"></div></div><div class="input_area" aria-label="Edit Markup Text here"><div class="CodeMirror cm-s-default CodeMirror-wrap" translate="no"><div style="overflow: hidden; position: relative; width: 3px; height: 0px; top: 5.6001px; left: 4px;"><textarea style="position: absolute; bottom: -1em; padding: 0px; width: 1px; height: 1em; min-height: 1em; outline: none;" wrap="off" autocorrect="off" autocapitalize="none" spellcheck="false" tabindex="0"></textarea></div><div class="CodeMirror-vscrollbar" tabindex="-1" cm-not-content="true" style="bottom: 0px; width: 18px; pointer-events: none;"><div style="min-width: 1px; height: 0px;"></div></div><div class="CodeMirror-hscrollbar" tabindex="-1" cm-not-content="true" style="height: 18px; pointer-events: none;"><div style="height: 100%; min-height: 1px; width: 0px;"></div></div><div class="CodeMirror-scrollbar-filler" cm-not-content="true"></div><div class="CodeMirror-gutter-filler" cm-not-content="true"></div><div class="CodeMirror-scroll" tabindex="-1" draggable="true"><div class="CodeMirror-sizer" style="margin-left: 0px; padding-right: 0px; padding-bottom: 0px; margin-bottom: 0px; border-right-width: 50px; min-height: 130px;"><div style="position: relative; top: 0px;"><div class="CodeMirror-lines" role="presentation"><div style="position: relative; outline: none;" role="presentation"><div class="CodeMirror-measure"><pre class="CodeMirror-line-like"><span>xxxxxxxxxx</span></pre></div><div class="CodeMirror-measure"></div><div style="position: relative; z-index: 1;"></div><div class="CodeMirror-cursors"><div class="CodeMirror-cursor" style="left: 4px; top: 0px; height: 17.0167px;">&nbsp;</div></div><div class="CodeMirror-code" role="presentation"><pre class=" CodeMirror-line " role="presentation"><span role="presentation"><span class="cm-header cm-header-2">## 3. </span><span class="cm-strong cm-header cm-header-2">**Break and Continue statements in </span><span class="cm-strong cm-comment cm-header cm-header-2">`while...`</span><span class="cm-strong cm-header cm-header-2"> or </span><span class="cm-strong cm-comment cm-header cm-header-2">`for... in...`</span><span class="cm-strong cm-header cm-header-2"> loops**</span></span></pre><pre class=" CodeMirror-line " role="presentation"><span role="presentation"><span cm-text="">​</span></span></pre><pre class=" CodeMirror-line " role="presentation"><span role="presentation">The reserved keywords <span class="cm-comment">`break`</span> and <span class="cm-comment">`continue`</span> are used to alter the behavior of <span class="cm-comment">`for...in`</span> or <span class="cm-comment">`while...`</span> loops. The <span class="cm-comment">`break`</span> statement allows for the termination of the loop and the exit from it prematurely, even if the main condition defining the loop remains true. On the other hand, the <span class="cm-comment">`continue`</span> statement is used to skip the execution of the remaining instructions in the current iteration of the loop and proceed to the next iteration when the main condition is satisfied. The following examples illustrate their use.</span></pre></div></div></div></div></div><div style="position: absolute; height: 50px; width: 1px; border-bottom: 0px solid transparent; top: 130px;"></div><div class="CodeMirror-gutters" style="display: none; height: 180px;"></div></div></div></div><div class="text_cell_render rendered_html" tabindex="-1" dir="ltr"><h2 id="3.-Break-and-Continue-statements-in-while...-or-for...-in...-loops">3. <strong>Break and Continue statements in <code>while...</code> or <code>for... in...</code> loops</strong><a class="anchor-link" href="#3.-Break-and-Continue-statements-in-while...-or-for...-in...-loops">¶</a></h2>
<p>The reserved keywords <code>break</code> and <code>continue</code> are used to alter the behavior of <code>for...in</code> or <code>while...</code> loops. The <code>break</code>
 statement allows for the termination of the loop and the exit from it 
prematurely, even if the main condition defining the loop remains true. 
On the other hand, the <code>continue</code> statement is used to skip 
the execution of the remaining instructions in the current iteration of 
the loop and proceed to the next iteration when the main condition is 
satisfied. The following examples illustrate their use.</p>
</div></div></div><div class="cell text_cell unselected rendered" tabindex="2"><div class="prompt input_prompt"></div><div class="inner_cell"><div class="ctb_hideshow"><div class="celltoolbar"></div></div><div class="input_area" aria-label="Edit Markup Text here"><div class="CodeMirror cm-s-default CodeMirror-wrap" translate="no"><div style="overflow: hidden; position: relative; width: 3px; height: 0px; top: 5.59961px; left: 4px;"><textarea style="position: absolute; bottom: -1em; padding: 0px; width: 1px; height: 1em; min-height: 1em; outline: none;" wrap="off" autocorrect="off" autocapitalize="none" spellcheck="false" tabindex="0"></textarea></div><div class="CodeMirror-vscrollbar" tabindex="-1" cm-not-content="true" style="bottom: 0px; width: 18px; pointer-events: none;"><div style="min-width: 1px; height: 0px;"></div></div><div class="CodeMirror-hscrollbar" tabindex="-1" cm-not-content="true" style="height: 18px; pointer-events: none;"><div style="height: 100%; min-height: 1px; width: 0px;"></div></div><div class="CodeMirror-scrollbar-filler" cm-not-content="true"></div><div class="CodeMirror-gutter-filler" cm-not-content="true"></div><div class="CodeMirror-scroll" tabindex="-1" draggable="true"><div class="CodeMirror-sizer" style="margin-left: 0px; padding-right: 0px; padding-bottom: 0px; margin-bottom: 0px; border-right-width: 50px; min-height: 130px;"><div style="position: relative; top: 0px;"><div class="CodeMirror-lines" role="presentation"><div style="position: relative; outline: none;" role="presentation"><div class="CodeMirror-measure"><pre class="CodeMirror-line-like"><span>xxxxxxxxxx</span></pre></div><div class="CodeMirror-measure"></div><div style="position: relative; z-index: 1;"></div><div class="CodeMirror-cursors"><div class="CodeMirror-cursor" style="left: 4px; top: 0px; height: 17px;">&nbsp;</div></div><div class="CodeMirror-code" role="presentation" style=""><pre class=" CodeMirror-line " role="presentation"><span role="presentation"><span class="cm-comment">```python</span></span></pre><pre class=" CodeMirror-line " role="presentation"><span role="presentation"><span class="cm-comment"># Loop with the break statement</span></span></pre><pre class=" CodeMirror-line " role="presentation"><span role="presentation"><span class="cm-keyword">for</span> <span class="cm-variable">i</span> <span class="cm-keyword">in</span> <span class="cm-builtin">range</span>(<span class="cm-number">5</span>):</span></pre><pre class=" CodeMirror-line " role="presentation"><span role="presentation"> &nbsp; &nbsp;<span class="cm-keyword">if</span> <span class="cm-variable">i</span> <span class="cm-operator">&gt;</span> <span class="cm-number">2</span>:</span></pre><pre class=" CodeMirror-line " role="presentation"><span role="presentation"> &nbsp; &nbsp; &nbsp; &nbsp;<span class="cm-keyword">break</span></span></pre><pre class=" CodeMirror-line " role="presentation"><span role="presentation"><span class="cm-builtin">print</span>(<span class="cm-variable">i</span>)</span></pre><pre class=" CodeMirror-line " role="presentation"><span role="presentation"><span class="cm-comment">```</span></span></pre></div></div></div></div></div><div style="position: absolute; height: 50px; width: 1px; border-bottom: 0px solid transparent; top: 130px;"></div><div class="CodeMirror-gutters" style="display: none; height: 180px;"></div></div></div></div><div class="text_cell_render rendered_html" tabindex="-1" dir="ltr"><pre><code class="cm-s-ipython language-python"><span class="cm-comment"># Loop with the break statement</span>
<span class="cm-keyword">for</span> <span class="cm-variable">i</span> <span class="cm-keyword">in</span> <span class="cm-builtin">range</span>(<span class="cm-number">5</span>):
    <span class="cm-keyword">if</span> <span class="cm-variable">i</span> <span class="cm-operator">&gt;</span> <span class="cm-number">2</span>:
        <span class="cm-keyword">break</span>
<span class="cm-builtin">print</span>(<span class="cm-variable">i</span>)
</code></pre>
</div></div></div><div class="cell code_cell rendered unselected" tabindex="2"><div class="input"><div class="prompt_container"><div class="prompt input_prompt"><bdi>In</bdi>&nbsp;[2]:</div><div class="run_this_cell" title="Run this cell"><i class="fa-step-forward fa"></i></div></div><div class="inner_cell"><div class="ctb_hideshow"><div class="celltoolbar"></div></div><div class="input_area" aria-label="Edit code here"><div class="CodeMirror cm-s-ipython" translate="no"><div style="overflow: hidden; position: relative; width: 3px; height: 0px; top: 39.6px; left: 113.417px;"><textarea style="position: absolute; bottom: -1em; padding: 0px; width: 1px; height: 1em; min-height: 1em; outline: none;" wrap="off" autocorrect="off" autocapitalize="none" spellcheck="false" tabindex="0"></textarea></div><div class="CodeMirror-vscrollbar" tabindex="-1" cm-not-content="true" style="width: 18px; pointer-events: none;"><div style="min-width: 1px; height: 0px;"></div></div><div class="CodeMirror-hscrollbar" tabindex="-1" cm-not-content="true" style="height: 18px; pointer-events: none;"><div style="height: 100%; min-height: 1px; width: 0px;"></div></div><div class="CodeMirror-scrollbar-filler" cm-not-content="true"></div><div class="CodeMirror-gutter-filler" cm-not-content="true"></div><div class="CodeMirror-scroll" tabindex="-1" draggable="true"><div class="CodeMirror-sizer" style="margin-left: 0px; min-width: 158.5px; margin-bottom: 0px; border-right-width: 50px; min-height: 79px; padding-right: 0px; padding-bottom: 0px;"><div style="position: relative; top: 0px;"><div class="CodeMirror-lines" role="presentation"><div style="position: relative; outline: none;" role="presentation"><div class="CodeMirror-measure"></div><div class="CodeMirror-measure"></div><div style="position: relative; z-index: 1;"></div><div class="CodeMirror-cursors" style="visibility: hidden;"><div class="CodeMirror-cursor" style="left: 113.417px; top: 34px; height: 17px;">&nbsp;</div></div><div class="CodeMirror-code" role="presentation"><pre class=" CodeMirror-line " role="presentation"><span role="presentation"><span class="cm-keyword">for</span> <span class="cm-variable">i</span> <span class="cm-keyword">in</span> <span class="cm-builtin">range</span>(<span class="cm-number">5</span>):</span></pre><pre class=" CodeMirror-line " role="presentation"><span role="presentation">    <span class="cm-keyword">if</span> <span class="cm-variable">i</span> <span class="cm-operator">&gt;</span> <span class="cm-number">2</span>:</span></pre><pre class=" CodeMirror-line " role="presentation"><span role="presentation">        <span class="cm-keyword">break</span></span></pre><pre class=" CodeMirror-line " role="presentation"><span role="presentation"><span class="cm-builtin">print</span>(<span class="cm-variable">i</span>)</span></pre></div></div></div></div></div><div style="position: absolute; height: 50px; width: 1px; border-bottom: 0px solid transparent; top: 79px;"></div><div class="CodeMirror-gutters" style="display: none; height: 129px;"></div></div></div></div></div></div><div class="widget-area" style="display: none;"><div class="prompt"><button class="close">×</button></div><div class="widget-subarea jp-Output-result"></div></div><div class="output_wrapper"><div class="out_prompt_overlay prompt" title="click to scroll output; double click to hide"></div><div class="output"><div class="output_area"><div class="run_this_cell"></div><div class="prompt"></div><div class="output_subarea output_text output_stream output_stdout" dir="auto"><pre>3
</pre></div></div></div><div style="display: none;" class="btn btn-default output_collapsed" title="click to expand output">. . .</div></div></div><div class="cell text_cell rendered unselected" tabindex="2"><div class="prompt input_prompt"></div><div class="inner_cell"><div class="ctb_hideshow"><div class="celltoolbar"></div></div><div class="input_area" aria-label="Edit Markup Text here"><div class="CodeMirror cm-s-default CodeMirror-wrap" translate="no"><div style="overflow: hidden; position: relative; width: 3px; height: 0px; top: 5.6001px; left: 4px;"><textarea style="position: absolute; bottom: -1em; padding: 0px; width: 1px; height: 1em; min-height: 1em; outline: none;" wrap="off" autocorrect="off" autocapitalize="none" spellcheck="false" tabindex="0"></textarea></div><div class="CodeMirror-vscrollbar" tabindex="-1" cm-not-content="true" style="bottom: 0px; width: 18px; pointer-events: none;"><div style="min-width: 1px; height: 0px;"></div></div><div class="CodeMirror-hscrollbar" tabindex="-1" cm-not-content="true" style="height: 18px; pointer-events: none;"><div style="height: 100%; min-height: 1px; width: 0px;"></div></div><div class="CodeMirror-scrollbar-filler" cm-not-content="true"></div><div class="CodeMirror-gutter-filler" cm-not-content="true"></div><div class="CodeMirror-scroll" tabindex="-1" draggable="true"><div class="CodeMirror-sizer" style="margin-left: 0px; padding-right: 0px; padding-bottom: 0px; margin-bottom: 0px; border-right-width: 50px; min-height: 113px;"><div style="position: relative; top: 0px;"><div class="CodeMirror-lines" role="presentation"><div style="position: relative; outline: none;" role="presentation"><div class="CodeMirror-measure"><pre class="CodeMirror-line-like"><span>xxxxxxxxxx</span></pre></div><div class="CodeMirror-measure"></div><div style="position: relative; z-index: 1;"></div><div class="CodeMirror-cursors"><div class="CodeMirror-cursor" style="left: 4px; top: 0px; height: 17px;">&nbsp;</div></div><div class="CodeMirror-code" role="presentation" style=""><pre class=" CodeMirror-line " role="presentation"><span role="presentation"><span class="cm-strong">**Explanation:**</span></span></pre><pre class=" CodeMirror-line " role="presentation"><span role="presentation"><span cm-text="">​</span></span></pre><pre class=" CodeMirror-line " role="presentation"><span role="presentation"><span class="cm-variable-2">- The loop iterates over a range of values from 0 to 4.</span></span></pre><pre class=" CodeMirror-line " role="presentation"><span role="presentation"><span class="cm-variable-2">- When </span><span class="cm-comment cm-variable-2">`i`</span><span class="cm-variable-2"> becomes greater than 2, the </span><span class="cm-comment cm-variable-2">`break`</span><span class="cm-variable-2"> statement is executed, which exits the loop immediately.</span></span></pre><pre class=" CodeMirror-line " role="presentation"><span role="presentation"><span class="cm-variable-2">- Therefore, the loop stops, and the value of </span><span class="cm-comment cm-variable-2">`i`</span><span class="cm-variable-2"> at the time the loop is exited is printed. In this case, the output will be </span><span class="cm-comment cm-variable-2">`3`</span><span class="cm-variable-2">.</span></span></pre></div></div></div></div></div><div style="position: absolute; height: 50px; width: 1px; border-bottom: 0px solid transparent; top: 113px;"></div><div class="CodeMirror-gutters" style="display: none; height: 163px;"></div></div></div></div><div class="text_cell_render rendered_html" tabindex="-1" dir="ltr"><p><strong>Explanation:</strong></p>
<ul>
<li>The loop iterates over a range of values from 0 to 4.</li>
<li>When <code>i</code> becomes greater than 2, the <code>break</code> statement is executed, which exits the loop immediately.</li>
<li>Therefore, the loop stops, and the value of <code>i</code> at the time the loop is exited is printed. In this case, the output will be <code>3</code>.</li>
</ul>
</div></div></div><div class="cell text_cell rendered unselected" tabindex="2"><div class="prompt input_prompt"></div><div class="inner_cell"><div class="ctb_hideshow"><div class="celltoolbar"></div></div><div class="input_area" aria-label="Edit Markup Text here"><div class="CodeMirror cm-s-default CodeMirror-wrap" translate="no"><div style="overflow: hidden; position: relative; width: 3px; height: 0px; top: 5.6001px; left: 4px;"><textarea style="position: absolute; bottom: -1em; padding: 0px; width: 1px; height: 1em; min-height: 1em; outline: none;" wrap="off" autocorrect="off" autocapitalize="none" spellcheck="false" tabindex="0"></textarea></div><div class="CodeMirror-vscrollbar" tabindex="-1" cm-not-content="true" style="bottom: 0px; width: 18px; pointer-events: none;"><div style="min-width: 1px; height: 0px;"></div></div><div class="CodeMirror-hscrollbar" tabindex="-1" cm-not-content="true" style="height: 18px; pointer-events: none;"><div style="height: 100%; min-height: 1px; width: 0px;"></div></div><div class="CodeMirror-scrollbar-filler" cm-not-content="true"></div><div class="CodeMirror-gutter-filler" cm-not-content="true"></div><div class="CodeMirror-scroll" tabindex="-1" draggable="true"><div class="CodeMirror-sizer" style="margin-left: 0px; padding-right: 0px; padding-bottom: 0px; margin-bottom: 0px; border-right-width: 50px; min-height: 147px;"><div style="position: relative; top: 0px;"><div class="CodeMirror-lines" role="presentation"><div style="position: relative; outline: none;" role="presentation"><div class="CodeMirror-measure"><pre class="CodeMirror-line-like"><span>xxxxxxxxxx</span></pre></div><div class="CodeMirror-measure"></div><div style="position: relative; z-index: 1;"></div><div class="CodeMirror-cursors"><div class="CodeMirror-cursor" style="left: 4px; top: 0px; height: 17px;">&nbsp;</div></div><div class="CodeMirror-code" role="presentation" style=""><pre class=" CodeMirror-line " role="presentation"><span role="presentation"><span cm-text="">​</span></span></pre><pre class=" CodeMirror-line " role="presentation"><span role="presentation"><span class="cm-comment">```python</span></span></pre><pre class=" CodeMirror-line " role="presentation"><span role="presentation"><span class="cm-comment"># Loop with the continue statement</span></span></pre><pre class=" CodeMirror-line " role="presentation"><span role="presentation"><span class="cm-keyword">for</span> <span class="cm-variable">i</span> <span class="cm-keyword">in</span> <span class="cm-builtin">range</span>(<span class="cm-number">5</span>):</span></pre><pre class=" CodeMirror-line " role="presentation"><span role="presentation"> &nbsp; &nbsp;<span class="cm-keyword">if</span> <span class="cm-variable">i</span> <span class="cm-operator">==</span> <span class="cm-number">2</span>:</span></pre><pre class=" CodeMirror-line " role="presentation"><span role="presentation"> &nbsp; &nbsp; &nbsp; &nbsp;<span class="cm-keyword">continue</span></span></pre><pre class=" CodeMirror-line " role="presentation"><span role="presentation"> &nbsp; &nbsp;<span class="cm-builtin">print</span>(<span class="cm-variable">i</span>)</span></pre><pre class=" CodeMirror-line " role="presentation"><span role="presentation"><span class="cm-comment">```</span></span></pre></div></div></div></div></div><div style="position: absolute; height: 50px; width: 1px; border-bottom: 0px solid transparent; top: 147px;"></div><div class="CodeMirror-gutters" style="display: none; height: 197px;"></div></div></div></div><div class="text_cell_render rendered_html" tabindex="-1" dir="ltr"><pre><code class="cm-s-ipython language-python"><span class="cm-comment"># Loop with the continue statement</span>
<span class="cm-keyword">for</span> <span class="cm-variable">i</span> <span class="cm-keyword">in</span> <span class="cm-builtin">range</span>(<span class="cm-number">5</span>):
    <span class="cm-keyword">if</span> <span class="cm-variable">i</span> <span class="cm-operator">==</span> <span class="cm-number">2</span>:
        <span class="cm-keyword">continue</span>
    <span class="cm-builtin">print</span>(<span class="cm-variable">i</span>)
</code></pre>
</div></div></div><div class="cell code_cell rendered unselected" tabindex="2"><div class="input"><div class="prompt_container"><div class="prompt input_prompt"><bdi>In</bdi>&nbsp;[3]:</div><div class="run_this_cell" title="Run this cell"><i class="fa-step-forward fa"></i></div></div><div class="inner_cell"><div class="ctb_hideshow"><div class="celltoolbar"></div></div><div class="input_area" aria-label="Edit code here"><div class="CodeMirror cm-s-ipython" translate="no"><div style="overflow: hidden; position: relative; width: 3px; height: 0px; top: 39.6px; left: 138.667px;"><textarea style="position: absolute; bottom: -1em; padding: 0px; width: 1px; height: 1em; min-height: 1em; outline: none;" wrap="off" autocorrect="off" autocapitalize="none" spellcheck="false" tabindex="0"></textarea></div><div class="CodeMirror-vscrollbar" tabindex="-1" cm-not-content="true" style="width: 18px; pointer-events: none;"><div style="min-width: 1px; height: 0px;"></div></div><div class="CodeMirror-hscrollbar" tabindex="-1" cm-not-content="true" style="height: 18px; pointer-events: none;"><div style="height: 100%; min-height: 1px; width: 0px;"></div></div><div class="CodeMirror-scrollbar-filler" cm-not-content="true"></div><div class="CodeMirror-gutter-filler" cm-not-content="true"></div><div class="CodeMirror-scroll" tabindex="-1" draggable="true"><div class="CodeMirror-sizer" style="margin-left: 0px; min-width: 158.5px; margin-bottom: 0px; border-right-width: 50px; min-height: 79px; padding-right: 0px; padding-bottom: 0px;"><div style="position: relative; top: 0px;"><div class="CodeMirror-lines" role="presentation"><div style="position: relative; outline: none;" role="presentation"><div class="CodeMirror-measure"></div><div class="CodeMirror-measure"></div><div style="position: relative; z-index: 1;"></div><div class="CodeMirror-cursors" style="visibility: hidden;"><div class="CodeMirror-cursor" style="left: 138.667px; top: 34px; height: 17px;">&nbsp;</div></div><div class="CodeMirror-code" role="presentation"><pre class=" CodeMirror-line " role="presentation"><span role="presentation"><span class="cm-keyword">for</span> <span class="cm-variable">i</span> <span class="cm-keyword">in</span> <span class="cm-builtin">range</span>(<span class="cm-number">5</span>):</span></pre><pre class=" CodeMirror-line " role="presentation"><span role="presentation">    <span class="cm-keyword">if</span> <span class="cm-variable">i</span> <span class="cm-operator">==</span> <span class="cm-number">2</span>:</span></pre><pre class=" CodeMirror-line " role="presentation"><span role="presentation">        <span class="cm-keyword">continue</span></span></pre><pre class=" CodeMirror-line " role="presentation"><span role="presentation">    <span class="cm-builtin">print</span>(<span class="cm-variable">i</span>)</span></pre></div></div></div></div></div><div style="position: absolute; height: 50px; width: 1px; border-bottom: 0px solid transparent; top: 79px;"></div><div class="CodeMirror-gutters" style="display: none; height: 129px;"></div></div></div></div></div></div><div class="widget-area" style="display: none;"><div class="prompt"><button class="close">×</button></div><div class="widget-subarea jp-Output-result"></div></div><div class="output_wrapper"><div class="out_prompt_overlay prompt" title="click to scroll output; double click to hide"></div><div class="output"><div class="output_area"><div class="run_this_cell"></div><div class="prompt"></div><div class="output_subarea output_text output_stream output_stdout" dir="auto"><pre>0
1
3
4
</pre></div></div></div><div style="display: none;" class="btn btn-default output_collapsed" title="click to expand output">. . .</div></div></div><div class="cell text_cell rendered unselected" tabindex="2"><div class="prompt input_prompt"></div><div class="inner_cell"><div class="ctb_hideshow"><div class="celltoolbar"></div></div><div class="input_area" aria-label="Edit Markup Text here"><div class="CodeMirror cm-s-default CodeMirror-wrap" translate="no"><div style="overflow: hidden; position: relative; width: 3px; height: 0px; top: 5.6001px; left: 4px;"><textarea style="position: absolute; bottom: -1em; padding: 0px; width: 1px; height: 1em; min-height: 1em; outline: none;" wrap="off" autocorrect="off" autocapitalize="none" spellcheck="false" tabindex="0"></textarea></div><div class="CodeMirror-vscrollbar" tabindex="-1" cm-not-content="true" style="bottom: 0px; width: 18px; pointer-events: none;"><div style="min-width: 1px; height: 0px;"></div></div><div class="CodeMirror-hscrollbar" tabindex="-1" cm-not-content="true" style="height: 18px; pointer-events: none;"><div style="height: 100%; min-height: 1px; width: 0px;"></div></div><div class="CodeMirror-scrollbar-filler" cm-not-content="true"></div><div class="CodeMirror-gutter-filler" cm-not-content="true"></div><div class="CodeMirror-scroll" tabindex="-1" draggable="true"><div class="CodeMirror-sizer" style="margin-left: 0px; padding-right: 0px; padding-bottom: 0px; margin-bottom: 0px; border-right-width: 50px; min-height: 113px;"><div style="position: relative; top: 0px;"><div class="CodeMirror-lines" role="presentation"><div style="position: relative; outline: none;" role="presentation"><div class="CodeMirror-measure"><pre class="CodeMirror-line-like"><span>xxxxxxxxxx</span></pre></div><div class="CodeMirror-measure"></div><div style="position: relative; z-index: 1;"></div><div class="CodeMirror-cursors"><div class="CodeMirror-cursor" style="left: 4px; top: 0px; height: 17px;">&nbsp;</div></div><div class="CodeMirror-code" role="presentation" style=""><pre class=" CodeMirror-line " role="presentation"><span role="presentation"><span class="cm-strong">**Explanation:**</span></span></pre><pre class=" CodeMirror-line " role="presentation"><span role="presentation"><span cm-text="">​</span></span></pre><pre class=" CodeMirror-line " role="presentation"><span role="presentation"><span class="cm-variable-2">- The loop iterates over a range of values from 0 to 4.</span></span></pre><pre class=" CodeMirror-line " role="presentation"><span role="presentation"><span class="cm-variable-2">- When </span><span class="cm-comment cm-variable-2">`i`</span><span class="cm-variable-2"> equals 2, the </span><span class="cm-comment cm-variable-2">`continue`</span><span class="cm-variable-2"> statement is executed. This causes the loop to skip the rest of the code inside the loop for this iteration and proceed to the next iteration.</span></span></pre><pre class=" CodeMirror-line " role="presentation"><span role="presentation"><span class="cm-variable-2">- As a result, </span><span class="cm-comment cm-variable-2">`2`</span><span class="cm-variable-2"> is not printed. The output will be </span><span class="cm-comment cm-variable-2">`0`</span><span class="cm-variable-2">, </span><span class="cm-comment cm-variable-2">`1`</span><span class="cm-variable-2">, </span><span class="cm-comment cm-variable-2">`3`</span><span class="cm-variable-2">, and </span><span class="cm-comment cm-variable-2">`4`</span><span class="cm-variable-2">.</span></span></pre></div></div></div></div></div><div style="position: absolute; height: 50px; width: 1px; border-bottom: 0px solid transparent; top: 113px;"></div><div class="CodeMirror-gutters" style="display: none; height: 163px;"></div></div></div></div><div class="text_cell_render rendered_html" tabindex="-1" dir="ltr"><p><strong>Explanation:</strong></p>
<ul>
<li>The loop iterates over a range of values from 0 to 4.</li>
<li>When <code>i</code> equals 2, the <code>continue</code> statement is
 executed. This causes the loop to skip the rest of the code inside the 
loop for this iteration and proceed to the next iteration.</li>
<li>As a result, <code>2</code> is not printed. The output will be <code>0</code>, <code>1</code>, <code>3</code>, and <code>4</code>.</li>
</ul>
</div></div></div></div><div class="end_space"></div></div>
        <div id="tooltip" class="ipython_tooltip" style="display:none"><div class="tooltipbuttons"><a href="#" role="button" class="ui-button"><span class="ui-icon ui-icon-close">Close</span></a><a href="#" role="button" class="ui-button" id="expanbutton" title="Grow the tooltip vertically (press shift-tab twice)"><span class="ui-icon ui-icon-plus">Expand</span></a><a href="#" role="button" class="ui-button" title="show the current docstring in pager (press shift-tab 4 times)"><span class="ui-icon ui-icon-arrowstop-l-n">Open in Pager</span></a><a href="#" role="button" class="ui-button" title="Tooltip will linger for 10 seconds while you type" style="display: none;"><span class="ui-icon ui-icon-clock">Close</span></a></div><div class="pretooltiparrow"></div><div class="tooltiptext smalltooltip"></div></div>
    </div>
</div>



</div>



<div id="pager">
    <div id="pager-contents">
        <div id="pager-container" class="container"></div>
    </div>
    <div id="pager-button-area"><a role="button" title="Open the pager in an external window" class="ui-button"><span class="ui-icon ui-icon-extlink"></span></a><a role="button" title="Close the pager" class="ui-button"><span class="ui-icon ui-icon-close"></span></a></div>
</div>






<script type="text/javascript">
    sys_info = {"notebook_version": "6.4.8", "notebook_path": "/usr/lib/python3/dist-packages/notebook", "commit_source": "", "commit_hash": "", "sys_version": "3.10.12 (main, Aug 15 2025, 14:32:43) [GCC 11.4.0]", "sys_executable": "/usr/bin/python3", "sys_platform": "linux", "platform": "Linux-5.15.0-160-generic-x86_64-with-glibc2.35", "os_name": "posix", "default_encoding": "utf-8"};
</script>

<script src="george.a.ayinbangre-day04-report_files/encoding.js" charset="utf-8"></script>

<script src="george.a.ayinbangre-day04-report_files/main.min.js" type="text/javascript" charset="utf-8"></script>



<script type="text/javascript">
  function _remove_token_from_url() {
    if (window.location.search.length <= 1) {
      return;
    }
    var search_parameters = window.location.search.slice(1).split('&');
    for (var i = 0; i < search_parameters.length; i++) {
      if (search_parameters[i].split('=')[0] === 'token') {
        // remote token from search parameters
        search_parameters.splice(i, 1);
        var new_search = '';
        if (search_parameters.length) {
          new_search = '?' + search_parameters.join('&');
        }
        var new_url = window.location.origin + 
                      window.location.pathname + 
                      new_search + 
                      window.location.hash;
        window.history.replaceState({}, "", new_url);
        return;
      }
    }
  }
  _remove_token_from_url();
</script>


<div style="position: absolute; width: 0px; height: 0px; overflow: hidden; padding: 0px; border: 0px; margin: 0px;"><div id="MathJax_Font_Test" style="position: absolute; visibility: hidden; top: 0px; left: 0px; width: auto; min-width: 0px; max-width: none; padding: 0px; border: 0px; margin: 0px; white-space: nowrap; text-align: left; text-indent: 0px; text-transform: none; line-height: normal; letter-spacing: normal; word-spacing: normal; font-size: 40px; font-weight: normal; font-style: normal; font-size-adjust: none;"></div></div></body></html>